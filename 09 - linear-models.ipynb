{
 "cells": [
  {
   "cell_type": "markdown",
   "id": "318bc5ca-7094-4f86-a8ed-1801a60869b3",
   "metadata": {},
   "source": [
    "# Линейные модели. Задачи регрессии и классификации."
   ]
  },
  {
   "cell_type": "code",
   "execution_count": 219,
   "id": "5b358d45-f1c0-432b-82c3-06a64ef930a8",
   "metadata": {},
   "outputs": [],
   "source": [
    "import pandas as pd\n",
    "import numpy as np\n",
    "import matplotlib.pyplot as plt\n",
    "import seaborn as sns\n",
    "\n",
    "from sklearn.model_selection import train_test_split\n",
    "from sklearn.linear_model import LinearRegression, LogisticRegression, SGDRegressor, SGDClassifier, Ridge, Lasso"
   ]
  },
  {
   "cell_type": "markdown",
   "id": "7852a131-78b2-4d42-9b95-dae235e0bed3",
   "metadata": {},
   "source": [
    "## Линейная регрессия"
   ]
  },
  {
   "cell_type": "markdown",
   "id": "596a7671-0176-44c5-9256-2c3caf3e7f5e",
   "metadata": {},
   "source": [
    "### Подготовка данных"
   ]
  },
  {
   "cell_type": "code",
   "execution_count": null,
   "id": "bcc952d8-095b-46f7-abba-4d1ca3ebfc15",
   "metadata": {},
   "outputs": [],
   "source": [
    "df = pd.read_excel('Concrete_Data.xls', sheet_name='Sheet1')"
   ]
  },
  {
   "cell_type": "code",
   "execution_count": null,
   "id": "7b275d49-6ae2-401b-ba96-494d7a7053ab",
   "metadata": {},
   "outputs": [],
   "source": [
    "df.head()"
   ]
  },
  {
   "cell_type": "code",
   "execution_count": null,
   "id": "196d6155-d64a-4571-be2f-65fd7531f1f0",
   "metadata": {},
   "outputs": [],
   "source": [
    "df.describe().T"
   ]
  },
  {
   "cell_type": "code",
   "execution_count": null,
   "id": "16acff4d-341d-4815-bf20-a675e809032c",
   "metadata": {},
   "outputs": [],
   "source": [
    "df = df.rename(lambda x: x.split('(')[0].strip().replace(' ', '_').lower(), axis=1)"
   ]
  },
  {
   "cell_type": "code",
   "execution_count": null,
   "id": "27a8ed71-8e87-45c3-88a0-d9910f902994",
   "metadata": {},
   "outputs": [],
   "source": [
    "df.duplicated().sum()"
   ]
  },
  {
   "cell_type": "code",
   "execution_count": null,
   "id": "82689671-79a3-4bc6-98e0-6351adfe9468",
   "metadata": {},
   "outputs": [],
   "source": [
    "df = df.drop_duplicates()"
   ]
  },
  {
   "cell_type": "code",
   "execution_count": null,
   "id": "9e2e96f7-dacb-4e19-b1d5-341f2c6dc091",
   "metadata": {
    "tags": []
   },
   "outputs": [],
   "source": [
    "fig, ax = plt.subplots(figsize=(8, 6))\n",
    "sns.heatmap(df.corr(), annot=True, cmap='icefire');"
   ]
  },
  {
   "cell_type": "code",
   "execution_count": null,
   "id": "8df9d445-2d74-4776-be01-738bbf2aa4b3",
   "metadata": {},
   "outputs": [],
   "source": [
    "sns.pairplot(df, y_vars='concrete_compressive_strength');"
   ]
  },
  {
   "cell_type": "code",
   "execution_count": null,
   "id": "0cc8d4c7-ac16-4e99-9d0b-c3505ad87a44",
   "metadata": {},
   "outputs": [],
   "source": [
    "df.head()"
   ]
  },
  {
   "cell_type": "markdown",
   "id": "93908bd4-fdde-4209-8295-7272a44e554b",
   "metadata": {},
   "source": [
    "### Подготовка выборок"
   ]
  },
  {
   "cell_type": "code",
   "execution_count": null,
   "id": "c2b7ac0c-948c-4448-b4bc-9090c0a62d85",
   "metadata": {},
   "outputs": [],
   "source": [
    "X_train, X_test, y_train, y_test = train_test_split(df.drop(['concrete_compressive_strength'], axis=1),\n",
    "                                                    df['concrete_compressive_strength'],\n",
    "                                                    test_size=0.2,\n",
    "                                                    random_state=177013,\n",
    "                                                    shuffle=True,\n",
    "                                                    )"
   ]
  },
  {
   "cell_type": "code",
   "execution_count": null,
   "id": "6f5371e8-8412-4ebd-82c3-9aaddd03834a",
   "metadata": {},
   "outputs": [],
   "source": [
    "X_train_b = X_train.copy()\n",
    "X_train_b['bias'] = 1\n",
    "\n",
    "X_test_b = X_test.copy()\n",
    "X_test_b['bias'] = 1"
   ]
  },
  {
   "cell_type": "code",
   "execution_count": null,
   "id": "6041b745-01fe-48ff-b344-c2d506e14867",
   "metadata": {},
   "outputs": [],
   "source": [
    "weights = np.linalg.inv(X_train_b.T @ X_train_b) @ X_train_b.T @ y_train"
   ]
  },
  {
   "cell_type": "code",
   "execution_count": null,
   "id": "9a671807-f54c-477e-b8f4-3bf128f6a8ab",
   "metadata": {},
   "outputs": [],
   "source": [
    "weights.rename(lambda x: df.columns[x] if x != len(weights) - 1 else 'bias')"
   ]
  },
  {
   "cell_type": "code",
   "execution_count": null,
   "id": "64031aa9-f0d1-4008-8c16-6c5c468340c9",
   "metadata": {},
   "outputs": [],
   "source": [
    "y_pred = X_test_b @ weights.values"
   ]
  },
  {
   "cell_type": "code",
   "execution_count": null,
   "id": "8afbbbf9-52eb-4201-a487-41299d60030a",
   "metadata": {},
   "outputs": [],
   "source": [
    "y_pred"
   ]
  },
  {
   "cell_type": "markdown",
   "id": "cd6fcec9-9071-43d6-a6f5-2e26464ae329",
   "metadata": {},
   "source": [
    "## Метрики регрессии"
   ]
  },
  {
   "cell_type": "code",
   "execution_count": null,
   "id": "cf8460af-245a-4629-8026-719f791f62f2",
   "metadata": {},
   "outputs": [],
   "source": [
    "from sklearn.metrics import mean_squared_error, mean_absolute_error, r2_score"
   ]
  },
  {
   "cell_type": "markdown",
   "id": "50e32dcf-141e-4464-85a0-ff58a7550f60",
   "metadata": {},
   "source": [
    "### Среднеквадратичная ошибка (MSE)"
   ]
  },
  {
   "cell_type": "code",
   "execution_count": null,
   "id": "b1c260d6-8220-411f-ba40-9bbc4a35f47b",
   "metadata": {},
   "outputs": [],
   "source": [
    "((y_test - y_pred)**2).mean()"
   ]
  },
  {
   "cell_type": "code",
   "execution_count": null,
   "id": "6321b4c2-6562-4951-8505-56dff18a7c4d",
   "metadata": {},
   "outputs": [],
   "source": [
    "((y_test - y_train.mean())**2).mean()"
   ]
  },
  {
   "cell_type": "code",
   "execution_count": null,
   "id": "e1fc33a9-5f77-40ec-92f8-bc7bf8906c87",
   "metadata": {},
   "outputs": [],
   "source": [
    "mean_squared_error(y_test, y_pred)"
   ]
  },
  {
   "cell_type": "markdown",
   "id": "725d43bf-8028-4d57-a78c-186fa5b1b52b",
   "metadata": {},
   "source": [
    "### Средняя абсолютная ошибка (MAE)"
   ]
  },
  {
   "cell_type": "code",
   "execution_count": null,
   "id": "f438c638-af15-4d03-8186-57c42ef21525",
   "metadata": {},
   "outputs": [],
   "source": [
    "(abs(y_test - y_pred)).mean()"
   ]
  },
  {
   "cell_type": "code",
   "execution_count": null,
   "id": "08484754-bfbe-4c3c-af5d-fb07a7546551",
   "metadata": {},
   "outputs": [],
   "source": [
    "mean_absolute_error(y_test, y_pred)"
   ]
  },
  {
   "cell_type": "markdown",
   "id": "fc63a1d8-e330-4ade-8fce-14ee34756db6",
   "metadata": {},
   "source": [
    "### Коэффициент детерминации ($R^2$)"
   ]
  },
  {
   "cell_type": "code",
   "execution_count": null,
   "id": "b8e8ea66-66c7-43cd-a736-1af05c799004",
   "metadata": {},
   "outputs": [],
   "source": [
    "1 - mean_squared_error(y_test, y_pred) / y_test.var(ddof=0)"
   ]
  },
  {
   "cell_type": "code",
   "execution_count": null,
   "id": "6f4b5d0b-3714-4a2f-941b-62bdd09b6a23",
   "metadata": {},
   "outputs": [],
   "source": [
    "r2_score(y_test, y_pred)"
   ]
  },
  {
   "cell_type": "code",
   "execution_count": null,
   "id": "10465c64-f91b-4730-b3a0-1adb81832ab5",
   "metadata": {},
   "outputs": [],
   "source": [
    "def show_regression_metrics(y_true, y_pred):\n",
    "    print(f'MSE: {mean_squared_error(y_true, y_pred)}')\n",
    "    print(f'MAE: {mean_absolute_error(y_true, y_pred)}')\n",
    "    print(f'R2: {r2_score(y_true, y_pred)}')"
   ]
  },
  {
   "cell_type": "markdown",
   "id": "b53bf50f-af64-4f1b-964f-1fc49ff766d0",
   "metadata": {},
   "source": [
    "## Линейная регрессия в sklearn"
   ]
  },
  {
   "cell_type": "code",
   "execution_count": null,
   "id": "5755f5f7-b467-441f-a310-90d09c60f166",
   "metadata": {},
   "outputs": [],
   "source": [
    "lr = LinearRegression()"
   ]
  },
  {
   "cell_type": "code",
   "execution_count": null,
   "id": "661ec62e-463a-4cb1-8d0c-31f9c29562c8",
   "metadata": {},
   "outputs": [],
   "source": [
    "lr.fit(X_train, y_train)"
   ]
  },
  {
   "cell_type": "code",
   "execution_count": null,
   "id": "451e6779-e9c4-4234-8b17-84ee7057a613",
   "metadata": {},
   "outputs": [],
   "source": [
    "y_pred = lr.predict(X_test)"
   ]
  },
  {
   "cell_type": "code",
   "execution_count": null,
   "id": "c27e1455-787a-46b2-8afe-2145140149a5",
   "metadata": {},
   "outputs": [],
   "source": [
    "show_regression_metrics(y_test, y_pred)"
   ]
  },
  {
   "cell_type": "markdown",
   "id": "04f82124-f217-4cb2-a94c-7cf8c5bb7a00",
   "metadata": {},
   "source": [
    "## Градиентный спуск"
   ]
  },
  {
   "cell_type": "code",
   "execution_count": null,
   "id": "67e4470e-552b-4378-9ff7-734af3afd4ac",
   "metadata": {},
   "outputs": [],
   "source": [
    "from sklearn.preprocessing import StandardScaler, QuantileTransformer, PowerTransformer"
   ]
  },
  {
   "cell_type": "code",
   "execution_count": null,
   "id": "231955e3-dc96-49e1-98b1-529775e62a0e",
   "metadata": {},
   "outputs": [],
   "source": [
    "scaler = StandardScaler()"
   ]
  },
  {
   "cell_type": "code",
   "execution_count": null,
   "id": "c41e5c7c-cb2b-46a2-a536-15ca5710e479",
   "metadata": {},
   "outputs": [],
   "source": [
    "scaler.fit(X_train)"
   ]
  },
  {
   "cell_type": "code",
   "execution_count": null,
   "id": "d3699d23-1612-4ea4-b25e-1d2cca747868",
   "metadata": {},
   "outputs": [],
   "source": [
    "X_train_b = scaler.transform(X_train)\n",
    "X_train_b = np.hstack([X_train_b, np.ones((len(X_train), 1))])"
   ]
  },
  {
   "cell_type": "code",
   "execution_count": null,
   "id": "ba4c21df-a623-419a-8af5-d93189fd34f6",
   "metadata": {},
   "outputs": [],
   "source": [
    "X_test_b = scaler.transform(X_test)\n",
    "X_test_b = np.hstack([X_test_b, np.ones((len(X_test), 1))])"
   ]
  },
  {
   "cell_type": "code",
   "execution_count": null,
   "id": "20f844c1-d565-4090-beb5-e640fc8b6941",
   "metadata": {},
   "outputs": [],
   "source": [
    "weights = np.linalg.inv(X_train_b.T @ X_train_b) @ X_train_b.T @ y_train"
   ]
  },
  {
   "cell_type": "code",
   "execution_count": null,
   "id": "0be48236-dc58-4398-87c8-3262ca9ea43e",
   "metadata": {},
   "outputs": [],
   "source": [
    "pd.Series(weights, index=[df.columns[x] for x in range(len(weights) - 1)] + ['bias'])"
   ]
  },
  {
   "cell_type": "markdown",
   "id": "64699342-ff1b-477e-86bf-87264aa34c96",
   "metadata": {},
   "source": [
    "$$\n",
    "\\frac{\\partial MSE}{\\partial w} = \\frac{\\partial MSE}{\\partial y_{pred}} \\frac{\\partial y_{pred}}{\\partial w}\n",
    "$$"
   ]
  },
  {
   "cell_type": "markdown",
   "id": "488ce440-2c36-425d-a580-c41379c154ee",
   "metadata": {},
   "source": [
    "$$\n",
    "\\frac{\\partial MSE}{\\partial y_{pred}} = \\frac{\\partial(y-y_{pred})^2}{\\partial y_{pred}} = \\frac{\\partial(y^2-2y\\cdot y_{pred}+y_{pred}^2)}{\\partial y_{pred}} = 2(y_{pred} - y)\n",
    "$$\n",
    "\n",
    "$$\n",
    "\\frac{\\partial y_{pred}}{\\partial w} = \\frac{(\\partial X \\cdot w)}{\\partial w} = X\n",
    "$$"
   ]
  },
  {
   "cell_type": "code",
   "execution_count": null,
   "id": "97885fff-c0cf-45e4-bec3-13603d9eab27",
   "metadata": {},
   "outputs": [],
   "source": [
    "num_iterations = 100\n",
    "learning_rate = 1e-4\n",
    "msetrain = []\n",
    "msetest = []\n",
    "checkpoints = []\n",
    "\n",
    "improved_weights = np.zeros(len(X_train.columns) + 1)\n",
    "\n",
    "for _ in range(num_iterations):\n",
    "    preds = X_train_b @ improved_weights\n",
    "    \n",
    "    # d(MSE) / d(preds)\n",
    "    error = preds - y_train \n",
    "    msetrain.append(mean_squared_error(y_train, preds))\n",
    "    msetest.append(mean_squared_error(y_test, X_test_b @ improved_weights))\n",
    "    \n",
    "    # d(MSE) / d(weights)\n",
    "    gradient = X_train_b.T @ error\n",
    "    \n",
    "    improved_weights -= learning_rate * gradient\n",
    "    checkpoints.append(improved_weights)"
   ]
  },
  {
   "cell_type": "code",
   "execution_count": null,
   "id": "9a5cc454-4065-41c7-9edf-f37b35ddcf36",
   "metadata": {},
   "outputs": [],
   "source": [
    "weights"
   ]
  },
  {
   "cell_type": "code",
   "execution_count": null,
   "id": "83ccf300-3cc0-480a-8e45-8e6ecdec50c7",
   "metadata": {},
   "outputs": [],
   "source": [
    "improved_weights"
   ]
  },
  {
   "cell_type": "code",
   "execution_count": null,
   "id": "7b714c25-0f86-458c-9cec-fc71d3c9c974",
   "metadata": {},
   "outputs": [],
   "source": [
    "plt.plot(msetrain);\n",
    "plt.plot(msetest);\n",
    "plt.title('Функция потерь')\n",
    "plt.xlabel('Итерация')\n",
    "plt.ylabel('MSE');\n",
    "plt.legend(['Обучающая выборка', 'Валидационная выборка']);"
   ]
  },
  {
   "cell_type": "code",
   "execution_count": null,
   "id": "c89109d7-4404-4f7e-9fa6-ae0fe4f0bbc5",
   "metadata": {},
   "outputs": [],
   "source": [
    "y_pred = X_test_b @ improved_weights"
   ]
  },
  {
   "cell_type": "code",
   "execution_count": null,
   "id": "0d583fa2-82d4-4c38-ac2c-e23e079f0e69",
   "metadata": {},
   "outputs": [],
   "source": [
    "show_regression_metrics(y_test, y_pred)"
   ]
  },
  {
   "cell_type": "code",
   "execution_count": null,
   "id": "a53bf89b-ee12-4a5b-9d57-8d8db9513696",
   "metadata": {},
   "outputs": [],
   "source": [
    "np.argmin(msetest)"
   ]
  },
  {
   "cell_type": "code",
   "execution_count": null,
   "id": "ea2c787a-5f7c-4271-8403-972da5018dbf",
   "metadata": {},
   "outputs": [],
   "source": [
    "final_weights = checkpoints[np.argmin(msetest)]"
   ]
  },
  {
   "cell_type": "code",
   "execution_count": null,
   "id": "93b257b0-21a4-4caf-bfe6-b7a2358c10e2",
   "metadata": {},
   "outputs": [],
   "source": [
    "y_pred = X_test_b @ final_weights"
   ]
  },
  {
   "cell_type": "code",
   "execution_count": null,
   "id": "1f9622a9-aa55-4234-9cae-288f11aaf088",
   "metadata": {},
   "outputs": [],
   "source": [
    "show_regression_metrics(y_test, y_pred)"
   ]
  },
  {
   "cell_type": "markdown",
   "id": "0c953f20-e5a9-4731-b80a-679c28f861a8",
   "metadata": {},
   "source": [
    "### Градиентный спуск в sklearn"
   ]
  },
  {
   "cell_type": "code",
   "execution_count": null,
   "id": "b7447f3c-d400-428c-a219-976e4b5ef0c3",
   "metadata": {},
   "outputs": [],
   "source": [
    "sgd = SGDRegressor(random_state=177013, penalty=None)"
   ]
  },
  {
   "cell_type": "code",
   "execution_count": null,
   "id": "df16f7d9-dba3-4a17-99ec-512c88cbacd8",
   "metadata": {},
   "outputs": [],
   "source": [
    "sgd.fit(X_train_b, y_train)"
   ]
  },
  {
   "cell_type": "code",
   "execution_count": null,
   "id": "c0420a05-73b3-4c2c-97a4-8fa5e259b246",
   "metadata": {},
   "outputs": [],
   "source": [
    "y_pred = sgd.predict(X_test_b)"
   ]
  },
  {
   "cell_type": "code",
   "execution_count": null,
   "id": "b1deca8e-e5fb-49fd-bebe-d64d5a0c9912",
   "metadata": {},
   "outputs": [],
   "source": [
    "show_regression_metrics(y_test, y_pred)"
   ]
  },
  {
   "cell_type": "markdown",
   "id": "81fa5ff5-7e3d-4b75-b7fe-6c5d575e3b87",
   "metadata": {},
   "source": [
    "## Допущения линейной регрессии"
   ]
  },
  {
   "cell_type": "markdown",
   "id": "5545b444-905e-485d-bf7c-6c61bc72a5a1",
   "metadata": {},
   "source": [
    "- Линейность: подразумевается наличие линейной зависимости (но вы можете преобразовать признаки, чтобы ее обеспечить!).\n",
    "- Слабая экзогенность: выборка не должна зывисеть от внешних факторов, погрешность измерений скажется на погрешности предсказаний.\n",
    "- Отсутствие мультиколлинеарности: признаки не должны сильно коррелировать.\n",
    "- Нормальность ошибки: ошибка предсказания должна распределяться нормально (и иметь матожидание около нуля):"
   ]
  },
  {
   "cell_type": "code",
   "execution_count": null,
   "id": "2c12861f-657c-481c-8abd-b9c8c3fcd235",
   "metadata": {},
   "outputs": [],
   "source": [
    "plt.hist(y_train - lr.predict(X_train), bins='fd');\n",
    "plt.title('Распределение ошибок')\n",
    "plt.xlabel('Ошибка предсказания')\n",
    "plt.ylabel('Количество, шт');"
   ]
  },
  {
   "cell_type": "markdown",
   "id": "abe456d6-9550-427c-9bd3-0dca2003f2ba",
   "metadata": {},
   "source": [
    "- Гомоскедастичность: дисперсия ошибки должна быть постоянной:"
   ]
  },
  {
   "cell_type": "code",
   "execution_count": null,
   "id": "5ac7895d-d529-48e7-8161-0fd198755e22",
   "metadata": {},
   "outputs": [],
   "source": [
    "plt.scatter(y_train, (y_train - lr.predict(X_train)) ** 2);\n",
    "plt.axhline(np.mean((y_train - lr.predict(X_train)) ** 2), color='red', linestyle='--')\n",
    "plt.title('Распределение ошибок')\n",
    "plt.xlabel('Истинное значение')\n",
    "plt.ylabel('Ошибка$^2$');"
   ]
  },
  {
   "cell_type": "markdown",
   "id": "bde7f6af-1fbc-481a-8aa2-12b580440d04",
   "metadata": {},
   "source": [
    "- Независимость ошибок: проверяется с помощью DW-теста (значения статистики в норме от 1.5 до 2.5):"
   ]
  },
  {
   "cell_type": "code",
   "execution_count": null,
   "id": "e1fff530-5f69-402e-be5e-bf93130c3570",
   "metadata": {},
   "outputs": [],
   "source": [
    "from statsmodels.stats.stattools import durbin_watson\n",
    "durbin_watson(y_train - lr.predict(X_train))"
   ]
  },
  {
   "cell_type": "markdown",
   "id": "ce4136ae-ab39-47a8-9ae4-a81ea3e3f3cd",
   "metadata": {},
   "source": [
    "Большинство проблем можно решить одним махом, преобразовав входные данные с целью уменьшить их асимметрию. Обычное шкалирование почти не влияет на аналитическое решение, но необходимо для градиентного спуска. Однако есть методы, которые не только нормализуют данные, но и корректируют их форму:\n",
    "\n",
    "- `PowerTransformer` - параметрический преобразователь, стабилизирующий дисперсию и уменьшающий скошенность методом максимального правдоподобия;\n",
    "- `QuantileTransformer` - непараметрический преобразователь, превращающий распределение в равномерное или нормальное через PPF.\n",
    "\n",
    "Платой за такое удобство является некоторое искажение линейных зависимостей."
   ]
  },
  {
   "cell_type": "code",
   "execution_count": null,
   "id": "3b13ecea-3cb6-435d-a29f-b3de64ce30ac",
   "metadata": {},
   "outputs": [],
   "source": [
    "from sklearn.pipeline import Pipeline"
   ]
  },
  {
   "cell_type": "code",
   "execution_count": null,
   "id": "2e42b3c5-c203-4e03-8508-7db6499759f8",
   "metadata": {},
   "outputs": [],
   "source": [
    "for scaler in [\n",
    "                StandardScaler(),\n",
    "                QuantileTransformer(output_distribution='uniform', random_state=177013),\n",
    "                QuantileTransformer(output_distribution='normal', random_state=177013),\n",
    "                PowerTransformer(),\n",
    "              ]:\n",
    "\n",
    "    pipe = Pipeline([\n",
    "                        ('scaler', scaler),\n",
    "                        ('model', LinearRegression()),\n",
    "                    ])\n",
    "    \n",
    "    \n",
    "    pipe.fit(X_train, y_train)\n",
    "    y_pred = pipe.predict(X_test)\n",
    "    print(f'Предобработка: {scaler}')\n",
    "    show_regression_metrics(y_test, y_pred)\n",
    "    print()"
   ]
  },
  {
   "cell_type": "markdown",
   "id": "12df9684-af41-4c7f-b614-57f27b7b6971",
   "metadata": {},
   "source": [
    "## Регуляризация"
   ]
  },
  {
   "cell_type": "code",
   "execution_count": null,
   "id": "a39088cd-a9e9-4d52-b6e5-66340f640453",
   "metadata": {},
   "outputs": [],
   "source": [
    "for model in [\n",
    "                Lasso(random_state=177013),\n",
    "                Ridge(random_state=177013),\n",
    "              ]:\n",
    "\n",
    "    pipe = Pipeline([\n",
    "                        ('scaler', PowerTransformer()),\n",
    "                        ('model', model),\n",
    "                    ])\n",
    "    \n",
    "    pipe.fit(X_train, y_train)\n",
    "    y_pred = pipe.predict(X_test)\n",
    "    print(f'Модель: {model}, веса: {model.coef_}')\n",
    "    show_regression_metrics(y_test, y_pred)\n",
    "    print()"
   ]
  },
  {
   "cell_type": "markdown",
   "id": "0c5ae706-a5f3-43f9-898e-3d85db397099",
   "metadata": {},
   "source": [
    "# Логистическая регрессия"
   ]
  },
  {
   "cell_type": "markdown",
   "id": "a0bf7873-09df-44b6-973e-2469be0035c5",
   "metadata": {},
   "source": [
    "## Подготовка данных"
   ]
  },
  {
   "cell_type": "code",
   "execution_count": 294,
   "id": "978a60a5-6f62-49d5-92da-abb438fda6fa",
   "metadata": {},
   "outputs": [],
   "source": [
    "df = pd.read_csv('titanic.csv')"
   ]
  },
  {
   "cell_type": "code",
   "execution_count": 295,
   "id": "b7cd9f38-83aa-4b83-83d2-57266b45298d",
   "metadata": {},
   "outputs": [
    {
     "data": {
      "text/html": [
       "<div>\n",
       "<style scoped>\n",
       "    .dataframe tbody tr th:only-of-type {\n",
       "        vertical-align: middle;\n",
       "    }\n",
       "\n",
       "    .dataframe tbody tr th {\n",
       "        vertical-align: top;\n",
       "    }\n",
       "\n",
       "    .dataframe thead th {\n",
       "        text-align: right;\n",
       "    }\n",
       "</style>\n",
       "<table border=\"1\" class=\"dataframe\">\n",
       "  <thead>\n",
       "    <tr style=\"text-align: right;\">\n",
       "      <th></th>\n",
       "      <th>PassengerId</th>\n",
       "      <th>Survived</th>\n",
       "      <th>Pclass</th>\n",
       "      <th>Name</th>\n",
       "      <th>Sex</th>\n",
       "      <th>Age</th>\n",
       "      <th>SibSp</th>\n",
       "      <th>Parch</th>\n",
       "      <th>Ticket</th>\n",
       "      <th>Fare</th>\n",
       "      <th>Cabin</th>\n",
       "      <th>Embarked</th>\n",
       "    </tr>\n",
       "  </thead>\n",
       "  <tbody>\n",
       "    <tr>\n",
       "      <th>0</th>\n",
       "      <td>1</td>\n",
       "      <td>0</td>\n",
       "      <td>3</td>\n",
       "      <td>Braund, Mr. Owen Harris</td>\n",
       "      <td>male</td>\n",
       "      <td>22.0</td>\n",
       "      <td>1</td>\n",
       "      <td>0</td>\n",
       "      <td>A/5 21171</td>\n",
       "      <td>7.2500</td>\n",
       "      <td>NaN</td>\n",
       "      <td>S</td>\n",
       "    </tr>\n",
       "    <tr>\n",
       "      <th>1</th>\n",
       "      <td>2</td>\n",
       "      <td>1</td>\n",
       "      <td>1</td>\n",
       "      <td>Cumings, Mrs. John Bradley (Florence Briggs Th...</td>\n",
       "      <td>female</td>\n",
       "      <td>38.0</td>\n",
       "      <td>1</td>\n",
       "      <td>0</td>\n",
       "      <td>PC 17599</td>\n",
       "      <td>71.2833</td>\n",
       "      <td>C85</td>\n",
       "      <td>C</td>\n",
       "    </tr>\n",
       "    <tr>\n",
       "      <th>2</th>\n",
       "      <td>3</td>\n",
       "      <td>1</td>\n",
       "      <td>3</td>\n",
       "      <td>Heikkinen, Miss. Laina</td>\n",
       "      <td>female</td>\n",
       "      <td>26.0</td>\n",
       "      <td>0</td>\n",
       "      <td>0</td>\n",
       "      <td>STON/O2. 3101282</td>\n",
       "      <td>7.9250</td>\n",
       "      <td>NaN</td>\n",
       "      <td>S</td>\n",
       "    </tr>\n",
       "    <tr>\n",
       "      <th>3</th>\n",
       "      <td>4</td>\n",
       "      <td>1</td>\n",
       "      <td>1</td>\n",
       "      <td>Futrelle, Mrs. Jacques Heath (Lily May Peel)</td>\n",
       "      <td>female</td>\n",
       "      <td>35.0</td>\n",
       "      <td>1</td>\n",
       "      <td>0</td>\n",
       "      <td>113803</td>\n",
       "      <td>53.1000</td>\n",
       "      <td>C123</td>\n",
       "      <td>S</td>\n",
       "    </tr>\n",
       "    <tr>\n",
       "      <th>4</th>\n",
       "      <td>5</td>\n",
       "      <td>0</td>\n",
       "      <td>3</td>\n",
       "      <td>Allen, Mr. William Henry</td>\n",
       "      <td>male</td>\n",
       "      <td>35.0</td>\n",
       "      <td>0</td>\n",
       "      <td>0</td>\n",
       "      <td>373450</td>\n",
       "      <td>8.0500</td>\n",
       "      <td>NaN</td>\n",
       "      <td>S</td>\n",
       "    </tr>\n",
       "  </tbody>\n",
       "</table>\n",
       "</div>"
      ],
      "text/plain": [
       "   PassengerId  Survived  Pclass  \\\n",
       "0            1         0       3   \n",
       "1            2         1       1   \n",
       "2            3         1       3   \n",
       "3            4         1       1   \n",
       "4            5         0       3   \n",
       "\n",
       "                                                Name     Sex   Age  SibSp  \\\n",
       "0                            Braund, Mr. Owen Harris    male  22.0      1   \n",
       "1  Cumings, Mrs. John Bradley (Florence Briggs Th...  female  38.0      1   \n",
       "2                             Heikkinen, Miss. Laina  female  26.0      0   \n",
       "3       Futrelle, Mrs. Jacques Heath (Lily May Peel)  female  35.0      1   \n",
       "4                           Allen, Mr. William Henry    male  35.0      0   \n",
       "\n",
       "   Parch            Ticket     Fare Cabin Embarked  \n",
       "0      0         A/5 21171   7.2500   NaN        S  \n",
       "1      0          PC 17599  71.2833   C85        C  \n",
       "2      0  STON/O2. 3101282   7.9250   NaN        S  \n",
       "3      0            113803  53.1000  C123        S  \n",
       "4      0            373450   8.0500   NaN        S  "
      ]
     },
     "execution_count": 295,
     "metadata": {},
     "output_type": "execute_result"
    }
   ],
   "source": [
    "df.head()"
   ]
  },
  {
   "cell_type": "code",
   "execution_count": 296,
   "id": "27984612-9001-4426-a906-295b48341c49",
   "metadata": {},
   "outputs": [
    {
     "name": "stdout",
     "output_type": "stream",
     "text": [
      "<class 'pandas.core.frame.DataFrame'>\n",
      "RangeIndex: 891 entries, 0 to 890\n",
      "Data columns (total 12 columns):\n",
      " #   Column       Non-Null Count  Dtype  \n",
      "---  ------       --------------  -----  \n",
      " 0   PassengerId  891 non-null    int64  \n",
      " 1   Survived     891 non-null    int64  \n",
      " 2   Pclass       891 non-null    int64  \n",
      " 3   Name         891 non-null    object \n",
      " 4   Sex          891 non-null    object \n",
      " 5   Age          714 non-null    float64\n",
      " 6   SibSp        891 non-null    int64  \n",
      " 7   Parch        891 non-null    int64  \n",
      " 8   Ticket       891 non-null    object \n",
      " 9   Fare         891 non-null    float64\n",
      " 10  Cabin        204 non-null    object \n",
      " 11  Embarked     889 non-null    object \n",
      "dtypes: float64(2), int64(5), object(5)\n",
      "memory usage: 83.7+ KB\n"
     ]
    }
   ],
   "source": [
    "df.info()"
   ]
  },
  {
   "cell_type": "code",
   "execution_count": 297,
   "id": "751dfa8a-35c5-434b-b6c4-9947a0fe99ec",
   "metadata": {},
   "outputs": [
    {
     "data": {
      "text/plain": [
       "0"
      ]
     },
     "execution_count": 297,
     "metadata": {},
     "output_type": "execute_result"
    }
   ],
   "source": [
    "df.duplicated().sum()"
   ]
  },
  {
   "cell_type": "code",
   "execution_count": 298,
   "id": "d6d68eb4-112b-4e52-9017-4da88ab1f58c",
   "metadata": {},
   "outputs": [],
   "source": [
    "df = df.drop(['PassengerId', 'Name', 'Ticket', 'Cabin', 'Embarked'], axis=1)"
   ]
  },
  {
   "cell_type": "code",
   "execution_count": 299,
   "id": "278e0c98-ed70-4176-adb3-4e2de43c0c18",
   "metadata": {},
   "outputs": [],
   "source": [
    "df['Sex'] = (df['Sex'] == 'male').astype('int')"
   ]
  },
  {
   "cell_type": "code",
   "execution_count": 300,
   "id": "24a0fe01-7d31-4fd5-bbbc-98cdd7b7d036",
   "metadata": {},
   "outputs": [
    {
     "data": {
      "image/png": "[encoded data removed]",
      "text/plain": [
       "<Figure size 640x480 with 2 Axes>"
      ]
     },
     "metadata": {},
     "output_type": "display_data"
    }
   ],
   "source": [
    "sns.heatmap(df.corr(), annot=True, cmap='icefire');"
   ]
  },
  {
   "cell_type": "code",
   "execution_count": 301,
   "id": "ac55b077-96c3-440d-a292-8e883831da8a",
   "metadata": {},
   "outputs": [
    {
     "data": {
      "image/png": "[encoded data removed]",
      "text/plain": [
       "<Figure size 500x500 with 6 Axes>"
      ]
     },
     "metadata": {},
     "output_type": "display_data"
    }
   ],
   "source": [
    "sns.pairplot(df[['Age', 'Fare']]);"
   ]
  },
  {
   "cell_type": "code",
   "execution_count": 302,
   "id": "d304d0c8-10a4-408b-9f63-7d9818439484",
   "metadata": {},
   "outputs": [
    {
     "data": {
      "text/html": [
       "<div>\n",
       "<style scoped>\n",
       "    .dataframe tbody tr th:only-of-type {\n",
       "        vertical-align: middle;\n",
       "    }\n",
       "\n",
       "    .dataframe tbody tr th {\n",
       "        vertical-align: top;\n",
       "    }\n",
       "\n",
       "    .dataframe thead th {\n",
       "        text-align: right;\n",
       "    }\n",
       "</style>\n",
       "<table border=\"1\" class=\"dataframe\">\n",
       "  <thead>\n",
       "    <tr style=\"text-align: right;\">\n",
       "      <th></th>\n",
       "      <th>count</th>\n",
       "      <th>mean</th>\n",
       "      <th>median</th>\n",
       "    </tr>\n",
       "    <tr>\n",
       "      <th>Pclass</th>\n",
       "      <th></th>\n",
       "      <th></th>\n",
       "      <th></th>\n",
       "    </tr>\n",
       "  </thead>\n",
       "  <tbody>\n",
       "    <tr>\n",
       "      <th>1</th>\n",
       "      <td>186</td>\n",
       "      <td>38.233441</td>\n",
       "      <td>37.0</td>\n",
       "    </tr>\n",
       "    <tr>\n",
       "      <th>2</th>\n",
       "      <td>173</td>\n",
       "      <td>29.877630</td>\n",
       "      <td>29.0</td>\n",
       "    </tr>\n",
       "    <tr>\n",
       "      <th>3</th>\n",
       "      <td>355</td>\n",
       "      <td>25.140620</td>\n",
       "      <td>24.0</td>\n",
       "    </tr>\n",
       "  </tbody>\n",
       "</table>\n",
       "</div>"
      ],
      "text/plain": [
       "        count       mean  median\n",
       "Pclass                          \n",
       "1         186  38.233441    37.0\n",
       "2         173  29.877630    29.0\n",
       "3         355  25.140620    24.0"
      ]
     },
     "execution_count": 302,
     "metadata": {},
     "output_type": "execute_result"
    }
   ],
   "source": [
    "df.groupby('Pclass')['Age'].agg(['count', 'mean', 'median'])"
   ]
  },
  {
   "cell_type": "code",
   "execution_count": 303,
   "id": "183a1539-6ea8-4ccd-ad14-3dae3bdf3a4d",
   "metadata": {},
   "outputs": [
    {
     "data": {
      "text/html": [
       "<div>\n",
       "<style scoped>\n",
       "    .dataframe tbody tr th:only-of-type {\n",
       "        vertical-align: middle;\n",
       "    }\n",
       "\n",
       "    .dataframe tbody tr th {\n",
       "        vertical-align: top;\n",
       "    }\n",
       "\n",
       "    .dataframe thead th {\n",
       "        text-align: right;\n",
       "    }\n",
       "</style>\n",
       "<table border=\"1\" class=\"dataframe\">\n",
       "  <thead>\n",
       "    <tr style=\"text-align: right;\">\n",
       "      <th></th>\n",
       "      <th>count</th>\n",
       "      <th>mean</th>\n",
       "      <th>median</th>\n",
       "      <th>&lt;lambda_0&gt;</th>\n",
       "    </tr>\n",
       "    <tr>\n",
       "      <th>SibSp</th>\n",
       "      <th></th>\n",
       "      <th></th>\n",
       "      <th></th>\n",
       "      <th></th>\n",
       "    </tr>\n",
       "  </thead>\n",
       "  <tbody>\n",
       "    <tr>\n",
       "      <th>0</th>\n",
       "      <td>471</td>\n",
       "      <td>31.397558</td>\n",
       "      <td>29.0</td>\n",
       "      <td>137</td>\n",
       "    </tr>\n",
       "    <tr>\n",
       "      <th>1</th>\n",
       "      <td>183</td>\n",
       "      <td>30.089727</td>\n",
       "      <td>30.0</td>\n",
       "      <td>26</td>\n",
       "    </tr>\n",
       "    <tr>\n",
       "      <th>2</th>\n",
       "      <td>25</td>\n",
       "      <td>22.620000</td>\n",
       "      <td>23.0</td>\n",
       "      <td>3</td>\n",
       "    </tr>\n",
       "    <tr>\n",
       "      <th>3</th>\n",
       "      <td>12</td>\n",
       "      <td>13.916667</td>\n",
       "      <td>9.5</td>\n",
       "      <td>4</td>\n",
       "    </tr>\n",
       "    <tr>\n",
       "      <th>4</th>\n",
       "      <td>18</td>\n",
       "      <td>7.055556</td>\n",
       "      <td>6.5</td>\n",
       "      <td>0</td>\n",
       "    </tr>\n",
       "    <tr>\n",
       "      <th>5</th>\n",
       "      <td>5</td>\n",
       "      <td>10.200000</td>\n",
       "      <td>11.0</td>\n",
       "      <td>0</td>\n",
       "    </tr>\n",
       "    <tr>\n",
       "      <th>8</th>\n",
       "      <td>0</td>\n",
       "      <td>NaN</td>\n",
       "      <td>NaN</td>\n",
       "      <td>7</td>\n",
       "    </tr>\n",
       "  </tbody>\n",
       "</table>\n",
       "</div>"
      ],
      "text/plain": [
       "       count       mean  median  <lambda_0>\n",
       "SibSp                                      \n",
       "0        471  31.397558    29.0         137\n",
       "1        183  30.089727    30.0          26\n",
       "2         25  22.620000    23.0           3\n",
       "3         12  13.916667     9.5           4\n",
       "4         18   7.055556     6.5           0\n",
       "5          5  10.200000    11.0           0\n",
       "8          0        NaN     NaN           7"
      ]
     },
     "execution_count": 303,
     "metadata": {},
     "output_type": "execute_result"
    }
   ],
   "source": [
    "df.groupby('SibSp')['Age'].agg(['count', 'mean', 'median', lambda x: x.isna().sum()])"
   ]
  },
  {
   "cell_type": "code",
   "execution_count": 304,
   "id": "a355e435-0c40-4f4d-a71d-9bde6182fa03",
   "metadata": {},
   "outputs": [],
   "source": [
    "df['Age'] = df['Age'].fillna(df.groupby(['Pclass', 'SibSp'])['Age'].transform('median'))\n",
    "df = df.dropna()"
   ]
  },
  {
   "cell_type": "code",
   "execution_count": 305,
   "id": "9e29e995-5d2a-49f7-a46a-47791b8cc3ca",
   "metadata": {},
   "outputs": [
    {
     "data": {
      "text/html": [
       "<div>\n",
       "<style scoped>\n",
       "    .dataframe tbody tr th:only-of-type {\n",
       "        vertical-align: middle;\n",
       "    }\n",
       "\n",
       "    .dataframe tbody tr th {\n",
       "        vertical-align: top;\n",
       "    }\n",
       "\n",
       "    .dataframe thead th {\n",
       "        text-align: right;\n",
       "    }\n",
       "</style>\n",
       "<table border=\"1\" class=\"dataframe\">\n",
       "  <thead>\n",
       "    <tr style=\"text-align: right;\">\n",
       "      <th></th>\n",
       "      <th>Survived</th>\n",
       "      <th>Pclass</th>\n",
       "      <th>Sex</th>\n",
       "      <th>Age</th>\n",
       "      <th>SibSp</th>\n",
       "      <th>Parch</th>\n",
       "      <th>Fare</th>\n",
       "    </tr>\n",
       "  </thead>\n",
       "  <tbody>\n",
       "    <tr>\n",
       "      <th>0</th>\n",
       "      <td>0</td>\n",
       "      <td>3</td>\n",
       "      <td>1</td>\n",
       "      <td>22.0</td>\n",
       "      <td>1</td>\n",
       "      <td>0</td>\n",
       "      <td>7.2500</td>\n",
       "    </tr>\n",
       "    <tr>\n",
       "      <th>1</th>\n",
       "      <td>1</td>\n",
       "      <td>1</td>\n",
       "      <td>0</td>\n",
       "      <td>38.0</td>\n",
       "      <td>1</td>\n",
       "      <td>0</td>\n",
       "      <td>71.2833</td>\n",
       "    </tr>\n",
       "    <tr>\n",
       "      <th>2</th>\n",
       "      <td>1</td>\n",
       "      <td>3</td>\n",
       "      <td>0</td>\n",
       "      <td>26.0</td>\n",
       "      <td>0</td>\n",
       "      <td>0</td>\n",
       "      <td>7.9250</td>\n",
       "    </tr>\n",
       "    <tr>\n",
       "      <th>3</th>\n",
       "      <td>1</td>\n",
       "      <td>1</td>\n",
       "      <td>0</td>\n",
       "      <td>35.0</td>\n",
       "      <td>1</td>\n",
       "      <td>0</td>\n",
       "      <td>53.1000</td>\n",
       "    </tr>\n",
       "    <tr>\n",
       "      <th>4</th>\n",
       "      <td>0</td>\n",
       "      <td>3</td>\n",
       "      <td>1</td>\n",
       "      <td>35.0</td>\n",
       "      <td>0</td>\n",
       "      <td>0</td>\n",
       "      <td>8.0500</td>\n",
       "    </tr>\n",
       "  </tbody>\n",
       "</table>\n",
       "</div>"
      ],
      "text/plain": [
       "   Survived  Pclass  Sex   Age  SibSp  Parch     Fare\n",
       "0         0       3    1  22.0      1      0   7.2500\n",
       "1         1       1    0  38.0      1      0  71.2833\n",
       "2         1       3    0  26.0      0      0   7.9250\n",
       "3         1       1    0  35.0      1      0  53.1000\n",
       "4         0       3    1  35.0      0      0   8.0500"
      ]
     },
     "execution_count": 305,
     "metadata": {},
     "output_type": "execute_result"
    }
   ],
   "source": [
    "df.head()"
   ]
  },
  {
   "cell_type": "markdown",
   "id": "f4e09aba-b18d-4362-a0f8-7b29db53b633",
   "metadata": {},
   "source": [
    "## Разбиение на выборки"
   ]
  },
  {
   "cell_type": "code",
   "execution_count": 306,
   "id": "e7b46f1a-51a2-4355-83f0-65b08816d378",
   "metadata": {},
   "outputs": [],
   "source": [
    "X_train, X_test, y_train, y_test = train_test_split(df.drop('Survived', axis=1),\n",
    "                                                    df['Survived'],\n",
    "                                                    test_size=0.2,\n",
    "                                                    random_state=177013,\n",
    "                                                    shuffle=True,\n",
    "                                                    stratify=df['Survived'])"
   ]
  },
  {
   "cell_type": "code",
   "execution_count": 307,
   "id": "ef7904bc-5f06-47fd-9a37-2e115d1469f4",
   "metadata": {},
   "outputs": [],
   "source": [
    "X_train_b = X_train.copy()\n",
    "X_train_b['bias'] = 1\n",
    "\n",
    "X_test_b = X_test.copy()\n",
    "X_test_b['bias'] = 1"
   ]
  },
  {
   "cell_type": "code",
   "execution_count": 308,
   "id": "7be6fa50-6087-4a3a-a507-08d599f684af",
   "metadata": {},
   "outputs": [],
   "source": [
    "weights = np.linalg.inv(X_train_b.T @ X_train_b) @ X_train_b.T @ y_train"
   ]
  },
  {
   "cell_type": "code",
   "execution_count": 309,
   "id": "f2499376-336a-448c-97f0-30a737d7510f",
   "metadata": {},
   "outputs": [
    {
     "data": {
      "text/plain": [
       "0   -0.186331\n",
       "1   -0.497133\n",
       "2   -0.006066\n",
       "3   -0.051657\n",
       "4   -0.033305\n",
       "5    0.000544\n",
       "6    1.328394\n",
       "dtype: float64"
      ]
     },
     "execution_count": 309,
     "metadata": {},
     "output_type": "execute_result"
    }
   ],
   "source": [
    "weights"
   ]
  },
  {
   "cell_type": "code",
   "execution_count": 310,
   "id": "d8f68638-498e-414e-95ae-d1e9e3c5c34c",
   "metadata": {},
   "outputs": [],
   "source": [
    "y_logits = X_test_b @ weights.values"
   ]
  },
  {
   "cell_type": "code",
   "execution_count": 311,
   "id": "0e3f8a0c-d038-4396-8c13-a01ffc4852a0",
   "metadata": {},
   "outputs": [
    {
     "data": {
      "text/plain": [
       "count    177.000000\n",
       "mean       0.352304\n",
       "std        0.290484\n",
       "min       -0.151190\n",
       "25%        0.118842\n",
       "50%        0.270192\n",
       "75%        0.585620\n",
       "max        1.046547\n",
       "dtype: float64"
      ]
     },
     "execution_count": 311,
     "metadata": {},
     "output_type": "execute_result"
    }
   ],
   "source": [
    "y_logits.describe()"
   ]
  },
  {
   "cell_type": "code",
   "execution_count": 312,
   "id": "497b9d7b-9456-43a2-b0a3-7d112b79b2b0",
   "metadata": {},
   "outputs": [],
   "source": [
    "def sigmoid(x):\n",
    "    return 1/(1 + np.exp(-x))"
   ]
  },
  {
   "cell_type": "code",
   "execution_count": 313,
   "id": "70f93bf8-3b87-40d9-9264-f77af70ebe15",
   "metadata": {},
   "outputs": [],
   "source": [
    "y_probs = y_logits.apply(sigmoid)"
   ]
  },
  {
   "cell_type": "code",
   "execution_count": 314,
   "id": "d62d7934-cdfc-4436-8fd8-83797c715781",
   "metadata": {},
   "outputs": [
    {
     "data": {
      "text/plain": [
       "0.4124293785310734"
      ]
     },
     "execution_count": 314,
     "metadata": {},
     "output_type": "execute_result"
    }
   ],
   "source": [
    "((y_probs > 0.5) == y_test).mean()"
   ]
  },
  {
   "cell_type": "code",
   "execution_count": 315,
   "id": "47d23f19-6836-4328-8dbc-de7bf133b5f0",
   "metadata": {},
   "outputs": [
    {
     "data": {
      "text/plain": [
       "0.6131221719457014"
      ]
     },
     "execution_count": 315,
     "metadata": {},
     "output_type": "execute_result"
    }
   ],
   "source": [
    "1 - df['Survived'].mean()"
   ]
  },
  {
   "cell_type": "code",
   "execution_count": 316,
   "id": "1623fe4f-a3a2-4db9-9bc5-cf6e4677b29b",
   "metadata": {},
   "outputs": [
    {
     "data": {
      "text/plain": [
       "0.8192090395480226"
      ]
     },
     "execution_count": 316,
     "metadata": {},
     "output_type": "execute_result"
    }
   ],
   "source": [
    "((y_probs > 0.62) == y_test).mean()"
   ]
  },
  {
   "cell_type": "code",
   "execution_count": 317,
   "id": "e127c175-4405-4df1-a59a-ea24167cef4f",
   "metadata": {},
   "outputs": [],
   "source": [
    "from sklearn.metrics import accuracy_score"
   ]
  },
  {
   "cell_type": "code",
   "execution_count": 318,
   "id": "5fa93c71-674b-423e-a119-d8ab044e23c4",
   "metadata": {},
   "outputs": [
    {
     "data": {
      "text/plain": [
       "0.8192090395480226"
      ]
     },
     "execution_count": 318,
     "metadata": {},
     "output_type": "execute_result"
    }
   ],
   "source": [
    "accuracy_score(y_test, (y_probs > 0.62))"
   ]
  },
  {
   "cell_type": "markdown",
   "id": "240740ef-60a4-404e-a52c-f8de92b2bc5e",
   "metadata": {},
   "source": [
    "## Метрики классификации"
   ]
  },
  {
   "cell_type": "code",
   "execution_count": 335,
   "id": "4c993d25-cd76-4d48-b510-8bc84884de48",
   "metadata": {},
   "outputs": [],
   "source": [
    "\n",
    "from sklearn.metrics import (f1_score, roc_auc_score, average_precision_score, confusion_matrix, roc_curve,\n",
    "                             precision_recall_curve, classification_report, recall_score, precision_score,\n",
    "                             log_loss, brier_score_loss)"
   ]
  },
  {
   "cell_type": "markdown",
   "id": "65965b2e-a294-40d7-acba-679000b933e3",
   "metadata": {},
   "source": [
    "### Метрики для оценки моделей"
   ]
  },
  {
   "cell_type": "markdown",
   "id": "a36521ec-13f6-40eb-a9a1-4575cec4f935",
   "metadata": {},
   "source": [
    "Для оценки статистической верности моделей нужна метрика, которая будет:\n",
    "\n",
    "- классонезависимой;\n",
    "- порогонезависимой.\n",
    "\n",
    "В качестве альтернативного варианта можно уравнять число представителей класса в обучающей выборке (oversampling, undersampling, параметр `class_weights` в sklearn), чтобы иметь возможность использовать интуитивные метрики с порогом 0.5. Такой подход имеет массу недостатков:\n",
    "\n",
    " - четкий баланс классов еще не гарантирует, что 0.5 будет оптимальным порогом;\n",
    " - на каждый эксперимент с пропорцией требуется переобучить модель;\n",
    " - модель более склонна \"уезжать\" в продакшене.\n",
    " \n",
    "Поэтому **если от вас прямо не требуют обратного, оценивайте модели по \"честным\" метрикам, а \"интуитивные\" оставьте для презентации заказчику.**"
   ]
  },
  {
   "cell_type": "markdown",
   "id": "72ea1285-2f22-446d-9b4a-c2da6fd55352",
   "metadata": {},
   "source": [
    "#### Log loss (кросс-энтропия)"
   ]
  },
  {
   "cell_type": "code",
   "execution_count": 320,
   "id": "c50e6a1d-0e73-435c-ab32-12169c4e3235",
   "metadata": {},
   "outputs": [
    {
     "data": {
      "text/plain": [
       "0.6723890312259991"
      ]
     },
     "execution_count": 320,
     "metadata": {},
     "output_type": "execute_result"
    }
   ],
   "source": [
    "-(y_test * np.log(y_probs) + (1 - y_test) * np.log(1-y_probs)).mean()"
   ]
  },
  {
   "cell_type": "code",
   "execution_count": 321,
   "id": "e2bc39ba-ac52-4d4c-b37a-3b3e0268a74e",
   "metadata": {},
   "outputs": [
    {
     "data": {
      "text/plain": [
       "0.6723890312259991"
      ]
     },
     "execution_count": 321,
     "metadata": {},
     "output_type": "execute_result"
    }
   ],
   "source": [
    "log_loss(y_test, y_probs)"
   ]
  },
  {
   "cell_type": "markdown",
   "id": "51449430-8431-4b44-8ab8-96fdf9087314",
   "metadata": {},
   "source": [
    "#### Показатель Брайера для бинарной классификации"
   ]
  },
  {
   "cell_type": "code",
   "execution_count": 322,
   "id": "16a5bbe1-d5e8-4897-865c-9c712698eeeb",
   "metadata": {},
   "outputs": [
    {
     "data": {
      "text/plain": [
       "0.24084915179818256"
      ]
     },
     "execution_count": 322,
     "metadata": {},
     "output_type": "execute_result"
    }
   ],
   "source": [
    "mean_squared_error(y_test, y_probs)"
   ]
  },
  {
   "cell_type": "code",
   "execution_count": 323,
   "id": "cda84b01-dd9d-4ba8-9ca7-fe8e749edbd0",
   "metadata": {},
   "outputs": [
    {
     "data": {
      "text/plain": [
       "0.24084915179818256"
      ]
     },
     "execution_count": 323,
     "metadata": {},
     "output_type": "execute_result"
    }
   ],
   "source": [
    "brier_score_loss(y_test, y_probs)"
   ]
  },
  {
   "cell_type": "markdown",
   "id": "0a452421-2d84-4a3b-b30b-bd08e3761bb0",
   "metadata": {},
   "source": [
    "### Метрики для презентации. Матрица ошибок."
   ]
  },
  {
   "cell_type": "code",
   "execution_count": 324,
   "id": "cff2807c-1122-4a64-90bc-2ff364ac502c",
   "metadata": {},
   "outputs": [],
   "source": [
    "def calculate_metrics(target_test, probabilities):\n",
    "    cmatrix = confusion_matrix(target_test, probabilities > 0.5)\n",
    "\n",
    "    ap = average_precision_score(target_test, probabilities)\n",
    "    fpr, tpr, _ = roc_curve(target_test, probabilities)\n",
    "    roc_auc = roc_auc_score(target_test, probabilities)\n",
    "\n",
    "    precision, recall, thresholds = precision_recall_curve(target_test, probabilities)\n",
    "    f_scores = 2 * recall * precision / (recall + precision)\n",
    "    best_thresh = thresholds[np.argmax(f_scores)]\n",
    "    best_f = np.max(f_scores)\n",
    "    best_acc = accuracy_score(target_test, (probabilities > best_thresh))\n",
    "    best_cmatrix = confusion_matrix(target_test, (probabilities > best_thresh))\n",
    "\n",
    "    return best_f, roc_auc, best_acc, ap, best_thresh, fpr, tpr, recall, precision, cmatrix, best_cmatrix"
   ]
  },
  {
   "cell_type": "code",
   "execution_count": 325,
   "id": "2631685b-57b6-4e00-bb88-9bff548be17c",
   "metadata": {},
   "outputs": [],
   "source": [
    "def visualize(target_test, probabilities):\n",
    "    fig, axes = plt.subplots(1, 2, figsize=(12,5))\n",
    "    axes[0].plot([0, 1], linestyle='--')\n",
    "    axes[1].plot([0.5, 0.5], linestyle='--')\n",
    "\n",
    "    best_f, roc_auc, acc, ap, best_thresh, fpr, tpr, recall, precision, cmatrix, best_cmatrix = calculate_metrics(target_test, probabilities)\n",
    "    print(f'ROC_AUC: {roc_auc:.2f}, AP (PR_AUC): {ap:.2f}, наилучший F1: {best_f:.2f} с порогом {best_thresh:.2f} (accuracy {acc:.2f})')\n",
    "    axes[0].plot (fpr, tpr);\n",
    "    axes[1].plot (recall, precision);\n",
    "\n",
    "    axes[0].set (xlabel='FPR', ylabel='TPR', title='ROC-кривая', xlim=(0,1), ylim=(0,1))\n",
    "    axes[1].set (xlabel='Recall', ylabel='Precision', title='PR-кривая', xlim=(0,1), ylim=(0,1))\n",
    "    plt.show()\n",
    "    fig, axes = plt.subplots(1, 2, figsize=(12,4))\n",
    "    sns.heatmap(cmatrix, ax=axes[0], annot=True, cmap='Blues', fmt='d').set(title='Матрица ошибок', xlabel='Предсказание', ylabel='Реальность')\n",
    "    sns.heatmap(best_cmatrix, ax=axes[1], annot=True, cmap='Blues', fmt='d').set(title='Матрица ошибок (оптимальный порог)', xlabel='Предсказание', ylabel='Реальность')\n",
    "\n",
    "    \n",
    "    return best_thresh"
   ]
  },
  {
   "cell_type": "markdown",
   "id": "7e376721-414a-45a3-a9b8-67804b3d29e5",
   "metadata": {},
   "source": [
    "#### Порогозависимые метрики."
   ]
  },
  {
   "cell_type": "markdown",
   "id": "15b0a8ba-24e3-4543-a881-516e8d9db3b3",
   "metadata": {},
   "source": [
    "На каждом возможном пороге (а их число равно числу уникальных скоров в `predict_proba()` + 1 (как правило, это порого, равный нулю, на котором все классифицируется как положительный класс)) существует своя матрица ошибок и как следствие, много производных от нее метрик:\n",
    "\n",
    "- **accuracy**: она нам уже знакома, это просто процент верно угаданных случаев;\n",
    "- **recall**, он же **TPR** (True Positive Rate): TP/(TP + FN) - процент от реальных случаев положительного класса, которые модель обнаружила;\n",
    "- **precision**: TP / (TP + FP) - процент от предсказанных случаев положительного класса, которые были верными;\n",
    "- **F1**: среднегармоническое recall и precision."
   ]
  },
  {
   "cell_type": "markdown",
   "id": "1f085fc3-9b84-44e7-a52f-e174e31f5781",
   "metadata": {},
   "source": [
    "#### Порогонезависимые метрики. ROC-кривая. PR-кривая."
   ]
  },
  {
   "cell_type": "markdown",
   "id": "e0ef7700-0b3f-4127-b2c2-cc55bd201ec8",
   "metadata": {},
   "source": [
    "Метрики, суммарные по всем порогам положительного класса, будут порогонезависимы (хотя и классоспецифичны). Наиболее часто используются площади под параметрическими кривыми:\n",
    "\n",
    "- **ROC_AUC**: строится кривая FRP (FP/TN + FP) и TPR по всем порогам. Считается площадь под кривой.\n",
    "- **Average precision (PR_AUC)**: строится кривая recall и precision по всем порогам. Считается площадь под кривой.\n",
    "\n",
    "Также мы можем с их помощью выбрать порог, где соотношение этих метрик оптимально (например, дает наибольшую F1)."
   ]
  },
  {
   "cell_type": "code",
   "execution_count": 326,
   "id": "2fb310e8-6828-4912-9975-1708046eaab5",
   "metadata": {},
   "outputs": [
    {
     "name": "stdout",
     "output_type": "stream",
     "text": [
      "ROC_AUC: 0.83, AP (PR_AUC): 0.84, наилучший F1: 0.75 с порогом 0.64 (accuracy 0.82)\n"
     ]
    },
    {
     "data": {
      "image/png": "[encoded data removed]",
      "text/plain": [
       "<Figure size 1200x500 with 2 Axes>"
      ]
     },
     "metadata": {},
     "output_type": "display_data"
    },
    {
     "data": {
      "image/png": "[encoded data removed]",
      "text/plain": [
       "<Figure size 1200x400 with 4 Axes>"
      ]
     },
     "metadata": {},
     "output_type": "display_data"
    }
   ],
   "source": [
    "visualize(y_test, y_probs);"
   ]
  },
  {
   "cell_type": "markdown",
   "id": "3dec8f96-308c-41ca-a479-190e38b82fc3",
   "metadata": {},
   "source": [
    "**Подбор оптимального порога относится к этапу принятия решения. Его следует проводить в финале исследования (ведь на практике может быть, к примеру, и несколько порогов с разными действиями).**"
   ]
  },
  {
   "cell_type": "markdown",
   "id": "9022d862-9846-4763-953f-f618b179c5d0",
   "metadata": {},
   "source": [
    "## Логистическая регрессия в sklearn"
   ]
  },
  {
   "cell_type": "code",
   "execution_count": 343,
   "id": "caea9841-c2d3-4dc9-b5c6-c822ed6da006",
   "metadata": {},
   "outputs": [],
   "source": [
    "lr = LogisticRegression(random_state=177013, penalty=None)"
   ]
  },
  {
   "cell_type": "code",
   "execution_count": 344,
   "id": "8678101e-8014-453c-8922-cf848a9a6922",
   "metadata": {},
   "outputs": [
    {
     "data": {
      "text/html": [
       "<style>#sk-container-id-15 {color: black;background-color: white;}#sk-container-id-15 pre{padding: 0;}#sk-container-id-15 div.sk-toggleable {background-color: white;}#sk-container-id-15 label.sk-toggleable__label {cursor: pointer;display: block;width: 100%;margin-bottom: 0;padding: 0.3em;box-sizing: border-box;text-align: center;}#sk-container-id-15 label.sk-toggleable__label-arrow:before {content: \"▸\";float: left;margin-right: 0.25em;color: #696969;}#sk-container-id-15 label.sk-toggleable__label-arrow:hover:before {color: black;}#sk-container-id-15 div.sk-estimator:hover label.sk-toggleable__label-arrow:before {color: black;}#sk-container-id-15 div.sk-toggleable__content {max-height: 0;max-width: 0;overflow: hidden;text-align: left;background-color: #f0f8ff;}#sk-container-id-15 div.sk-toggleable__content pre {margin: 0.2em;color: black;border-radius: 0.25em;background-color: #f0f8ff;}#sk-container-id-15 input.sk-toggleable__control:checked~div.sk-toggleable__content {max-height: 200px;max-width: 100%;overflow: auto;}#sk-container-id-15 input.sk-toggleable__control:checked~label.sk-toggleable__label-arrow:before {content: \"▾\";}#sk-container-id-15 div.sk-estimator input.sk-toggleable__control:checked~label.sk-toggleable__label {background-color: #d4ebff;}#sk-container-id-15 div.sk-label input.sk-toggleable__control:checked~label.sk-toggleable__label {background-color: #d4ebff;}#sk-container-id-15 input.sk-hidden--visually {border: 0;clip: rect(1px 1px 1px 1px);clip: rect(1px, 1px, 1px, 1px);height: 1px;margin: -1px;overflow: hidden;padding: 0;position: absolute;width: 1px;}#sk-container-id-15 div.sk-estimator {font-family: monospace;background-color: #f0f8ff;border: 1px dotted black;border-radius: 0.25em;box-sizing: border-box;margin-bottom: 0.5em;}#sk-container-id-15 div.sk-estimator:hover {background-color: #d4ebff;}#sk-container-id-15 div.sk-parallel-item::after {content: \"\";width: 100%;border-bottom: 1px solid gray;flex-grow: 1;}#sk-container-id-15 div.sk-label:hover label.sk-toggleable__label {background-color: #d4ebff;}#sk-container-id-15 div.sk-serial::before {content: \"\";position: absolute;border-left: 1px solid gray;box-sizing: border-box;top: 0;bottom: 0;left: 50%;z-index: 0;}#sk-container-id-15 div.sk-serial {display: flex;flex-direction: column;align-items: center;background-color: white;padding-right: 0.2em;padding-left: 0.2em;position: relative;}#sk-container-id-15 div.sk-item {position: relative;z-index: 1;}#sk-container-id-15 div.sk-parallel {display: flex;align-items: stretch;justify-content: center;background-color: white;position: relative;}#sk-container-id-15 div.sk-item::before, #sk-container-id-15 div.sk-parallel-item::before {content: \"\";position: absolute;border-left: 1px solid gray;box-sizing: border-box;top: 0;bottom: 0;left: 50%;z-index: -1;}#sk-container-id-15 div.sk-parallel-item {display: flex;flex-direction: column;z-index: 1;position: relative;background-color: white;}#sk-container-id-15 div.sk-parallel-item:first-child::after {align-self: flex-end;width: 50%;}#sk-container-id-15 div.sk-parallel-item:last-child::after {align-self: flex-start;width: 50%;}#sk-container-id-15 div.sk-parallel-item:only-child::after {width: 0;}#sk-container-id-15 div.sk-dashed-wrapped {border: 1px dashed gray;margin: 0 0.4em 0.5em 0.4em;box-sizing: border-box;padding-bottom: 0.4em;background-color: white;}#sk-container-id-15 div.sk-label label {font-family: monospace;font-weight: bold;display: inline-block;line-height: 1.2em;}#sk-container-id-15 div.sk-label-container {text-align: center;}#sk-container-id-15 div.sk-container {/* jupyter's `normalize.less` sets `[hidden] { display: none; }` but bootstrap.min.css set `[hidden] { display: none !important; }` so we also need the `!important` here to be able to override the default hidden behavior on the sphinx rendered scikit-learn.org. See: https://github.com/scikit-learn/scikit-learn/issues/21755 */display: inline-block !important;position: relative;}#sk-container-id-15 div.sk-text-repr-fallback {display: none;}</style><div id=\"sk-container-id-15\" class=\"sk-top-container\"><div class=\"sk-text-repr-fallback\"><pre>LogisticRegression(penalty=None, random_state=177013)</pre><b>In a Jupyter environment, please rerun this cell to show the HTML representation or trust the notebook. <br />On GitHub, the HTML representation is unable to render, please try loading this page with nbviewer.org.</b></div><div class=\"sk-container\" hidden><div class=\"sk-item\"><div class=\"sk-estimator sk-toggleable\"><input class=\"sk-toggleable__control sk-hidden--visually\" id=\"sk-estimator-id-15\" type=\"checkbox\" checked><label for=\"sk-estimator-id-15\" class=\"sk-toggleable__label sk-toggleable__label-arrow\">LogisticRegression</label><div class=\"sk-toggleable__content\"><pre>LogisticRegression(penalty=None, random_state=177013)</pre></div></div></div></div></div>"
      ],
      "text/plain": [
       "LogisticRegression(penalty=None, random_state=177013)"
      ]
     },
     "execution_count": 344,
     "metadata": {},
     "output_type": "execute_result"
    }
   ],
   "source": [
    "lr.fit(X_train, y_train)"
   ]
  },
  {
   "cell_type": "code",
   "execution_count": 345,
   "id": "c1fee75e-bb0e-49f6-bd6d-121a68f2066b",
   "metadata": {},
   "outputs": [],
   "source": [
    "y_probs = lr.predict_proba(X_test)"
   ]
  },
  {
   "cell_type": "code",
   "execution_count": 346,
   "id": "ca31d812-fb98-41e1-8d97-a672ad71c74b",
   "metadata": {},
   "outputs": [
    {
     "data": {
      "text/plain": [
       "array([[0.07057604, 0.92942396],\n",
       "       [0.0341505 , 0.9658495 ],\n",
       "       [0.76477286, 0.23522714],\n",
       "       [0.27431033, 0.72568967],\n",
       "       [0.29584044, 0.70415956]])"
      ]
     },
     "execution_count": 346,
     "metadata": {},
     "output_type": "execute_result"
    }
   ],
   "source": [
    "y_probs[:5]"
   ]
  },
  {
   "cell_type": "code",
   "execution_count": 347,
   "id": "831ea27d-f96b-4cfd-bc3f-838e7d125c03",
   "metadata": {},
   "outputs": [
    {
     "name": "stdout",
     "output_type": "stream",
     "text": [
      "ROC_AUC: 0.95, AP (PR_AUC): 0.94, наилучший F1: 0.89 с порогом 0.41 (accuracy 0.88)\n"
     ]
    },
    {
     "data": {
      "image/png": "[encoded data removed]",
      "text/plain": [
       "<Figure size 1200x500 with 2 Axes>"
      ]
     },
     "metadata": {},
     "output_type": "display_data"
    },
    {
     "data": {
      "image/png": "[encoded data removed]",
      "text/plain": [
       "<Figure size 1200x400 with 4 Axes>"
      ]
     },
     "metadata": {},
     "output_type": "display_data"
    }
   ],
   "source": [
    "visualize(y_test, y_probs[:,1]);"
   ]
  },
  {
   "cell_type": "code",
   "execution_count": 348,
   "id": "08594798-bedb-4147-a116-14912b24c120",
   "metadata": {},
   "outputs": [
    {
     "data": {
      "text/plain": [
       "array([[ 0.02700999, -0.07037427,  0.43854924, -0.14235302,  0.42183452,\n",
       "        -0.03739715, -0.37397433, -0.25371962,  0.50570366, -0.00426424,\n",
       "        -0.54916194,  0.5973746 ,  0.72573509, -0.11551876, -0.0466099 ,\n",
       "         0.2679047 ,  0.07407078, -0.00249167,  0.02181434, -0.00376539]])"
      ]
     },
     "execution_count": 348,
     "metadata": {},
     "output_type": "execute_result"
    }
   ],
   "source": [
    "lr.coef_"
   ]
  },
  {
   "cell_type": "code",
   "execution_count": 261,
   "id": "da4b9c4e-b42b-4752-8175-c489266032a9",
   "metadata": {},
   "outputs": [
    {
     "data": {
      "text/plain": [
       "array([-0.81519473])"
      ]
     },
     "execution_count": 261,
     "metadata": {},
     "output_type": "execute_result"
    }
   ],
   "source": [
    "lr.intercept_"
   ]
  },
  {
   "cell_type": "markdown",
   "id": "3e36b26f-465a-4c97-b855-f420ec806983",
   "metadata": {},
   "source": [
    "## Градиентный спуск"
   ]
  },
  {
   "cell_type": "code",
   "execution_count": 336,
   "id": "1802e81a-15e4-4812-9721-6a4d29f41b60",
   "metadata": {},
   "outputs": [],
   "source": [
    "scaler.fit(X_train)\n",
    "X_train_b = scaler.transform(X_train)\n",
    "X_train_b = np.hstack([X_train_b, np.ones((len(X_train), 1))])\n",
    "X_test_b = scaler.transform(X_test)\n",
    "X_test_b = np.hstack([X_test_b, np.ones((len(X_test), 1))])"
   ]
  },
  {
   "cell_type": "code",
   "execution_count": null,
   "id": "d320e78d-0572-4a46-8271-993c01774bcb",
   "metadata": {},
   "outputs": [],
   "source": [
    "num_iterations = 100\n",
    "learning_rate = 1e-4\n",
    "nlltrain = []\n",
    "nlltest = []\n",
    "checkpoints = []\n",
    "\n",
    "improved_weights = np.zeros(len(X_train.columns) + 1)\n",
    "\n",
    "for _ in range(num_iterations):\n",
    "    logits = X_train_b @ improved_weights\n",
    "    \n",
    "    probabilities = sigmoid(logits)\n",
    "    \n",
    "    error = probabilities - y_train\n",
    "    nlltrain.append(log_loss(y_train, probabilities).mean())\n",
    "    nlltest.append(log_loss(y_test, sigmoid(X_test_b @ improved_weights)).mean())\n",
    "    \n",
    "    gradient = X_train_b.T @ error\n",
    "    \n",
    "    improved_weights -= learning_rate * gradient\n",
    "    checkpoints.append(improved_weights)"
   ]
  },
  {
   "cell_type": "code",
   "execution_count": null,
   "id": "96027135-b482-4e77-b3e3-721fadbed8dd",
   "metadata": {},
   "outputs": [],
   "source": [
    "improved_weights"
   ]
  },
  {
   "cell_type": "code",
   "execution_count": null,
   "id": "cf8753a2-26e4-46bb-a70b-aa9b63862455",
   "metadata": {},
   "outputs": [],
   "source": [
    "plt.plot(nlltrain);\n",
    "plt.plot(nlltest);\n",
    "plt.title('Функция потерь')\n",
    "plt.xlabel('Итерация')\n",
    "plt.ylabel('NLL');\n",
    "plt.legend(['Обучающая выборка', 'Валидационная выборка']);"
   ]
  },
  {
   "cell_type": "code",
   "execution_count": null,
   "id": "034f3076-8ad6-4588-8fd0-5b711981b70a",
   "metadata": {},
   "outputs": [],
   "source": [
    "y_logits = X_test_b @ improved_weights\n",
    "y_probs = sigmoid(y_logits)"
   ]
  },
  {
   "cell_type": "code",
   "execution_count": null,
   "id": "fa32ba3c-40db-45a6-b70f-9efe679575d9",
   "metadata": {},
   "outputs": [],
   "source": [
    "accuracy_score(y_test, (y_probs > 0.5))"
   ]
  },
  {
   "cell_type": "code",
   "execution_count": null,
   "id": "2ad65ff1-7e42-4ea9-9b17-a8e43b910615",
   "metadata": {},
   "outputs": [],
   "source": [
    "np.argmin(msetest)"
   ]
  },
  {
   "cell_type": "code",
   "execution_count": null,
   "id": "e2528b40-361e-4609-b1eb-623f85d94476",
   "metadata": {},
   "outputs": [],
   "source": [
    "final_weights = checkpoints[np.argmin(msetest)]"
   ]
  },
  {
   "cell_type": "code",
   "execution_count": null,
   "id": "c22456a7-26a2-45ac-9be6-4b40c079e1bb",
   "metadata": {},
   "outputs": [],
   "source": [
    "y_logits = X_test_b @ final_weights\n",
    "y_probs = sigmoid(y_logits)"
   ]
  },
  {
   "cell_type": "code",
   "execution_count": null,
   "id": "e9a57162-1452-40db-ae48-a23b189e4693",
   "metadata": {},
   "outputs": [],
   "source": [
    "visualize(y_test, y_probs);"
   ]
  },
  {
   "cell_type": "markdown",
   "id": "7a5828fd-7d58-4a13-8aa5-3b220b41cd84",
   "metadata": {},
   "source": [
    "### Градиентный спуск в sklearn"
   ]
  },
  {
   "cell_type": "code",
   "execution_count": 349,
   "id": "6d251690-4c5c-49af-9fce-e12193b46883",
   "metadata": {},
   "outputs": [],
   "source": [
    "sgd = SGDClassifier(random_state=177013, penalty=None, loss='log_loss', learning_rate='constant', eta0=1e-3)"
   ]
  },
  {
   "cell_type": "code",
   "execution_count": 350,
   "id": "c5c13be2-61aa-424e-b44d-d2816bb3730d",
   "metadata": {},
   "outputs": [
    {
     "ename": "ValueError",
     "evalue": "Found input variables with inconsistent numbers of samples: [707, 8000]",
     "output_type": "error",
     "traceback": [
      "\u001b[1;31m---------------------------------------------------------------------------\u001b[0m",
      "\u001b[1;31mValueError\u001b[0m                                Traceback (most recent call last)",
      "Cell \u001b[1;32mIn[350], line 1\u001b[0m\n\u001b[1;32m----> 1\u001b[0m \u001b[43msgd\u001b[49m\u001b[38;5;241;43m.\u001b[39;49m\u001b[43mfit\u001b[49m\u001b[43m(\u001b[49m\u001b[43mX_train_b\u001b[49m\u001b[43m,\u001b[49m\u001b[43m \u001b[49m\u001b[43my_train\u001b[49m\u001b[43m)\u001b[49m\n",
      "File \u001b[1;32mF:\\DataScience\\Prgram files\\lib\\site-packages\\sklearn\\linear_model\\_stochastic_gradient.py:894\u001b[0m, in \u001b[0;36mBaseSGDClassifier.fit\u001b[1;34m(self, X, y, coef_init, intercept_init, sample_weight)\u001b[0m\n\u001b[0;32m    891\u001b[0m \u001b[38;5;28mself\u001b[39m\u001b[38;5;241m.\u001b[39m_validate_params()\n\u001b[0;32m    892\u001b[0m \u001b[38;5;28mself\u001b[39m\u001b[38;5;241m.\u001b[39m_more_validate_params()\n\u001b[1;32m--> 894\u001b[0m \u001b[38;5;28;01mreturn\u001b[39;00m \u001b[38;5;28;43mself\u001b[39;49m\u001b[38;5;241;43m.\u001b[39;49m\u001b[43m_fit\u001b[49m\u001b[43m(\u001b[49m\n\u001b[0;32m    895\u001b[0m \u001b[43m    \u001b[49m\u001b[43mX\u001b[49m\u001b[43m,\u001b[49m\n\u001b[0;32m    896\u001b[0m \u001b[43m    \u001b[49m\u001b[43my\u001b[49m\u001b[43m,\u001b[49m\n\u001b[0;32m    897\u001b[0m \u001b[43m    \u001b[49m\u001b[43malpha\u001b[49m\u001b[38;5;241;43m=\u001b[39;49m\u001b[38;5;28;43mself\u001b[39;49m\u001b[38;5;241;43m.\u001b[39;49m\u001b[43malpha\u001b[49m\u001b[43m,\u001b[49m\n\u001b[0;32m    898\u001b[0m \u001b[43m    \u001b[49m\u001b[43mC\u001b[49m\u001b[38;5;241;43m=\u001b[39;49m\u001b[38;5;241;43m1.0\u001b[39;49m\u001b[43m,\u001b[49m\n\u001b[0;32m    899\u001b[0m \u001b[43m    \u001b[49m\u001b[43mloss\u001b[49m\u001b[38;5;241;43m=\u001b[39;49m\u001b[38;5;28;43mself\u001b[39;49m\u001b[38;5;241;43m.\u001b[39;49m\u001b[43mloss\u001b[49m\u001b[43m,\u001b[49m\n\u001b[0;32m    900\u001b[0m \u001b[43m    \u001b[49m\u001b[43mlearning_rate\u001b[49m\u001b[38;5;241;43m=\u001b[39;49m\u001b[38;5;28;43mself\u001b[39;49m\u001b[38;5;241;43m.\u001b[39;49m\u001b[43mlearning_rate\u001b[49m\u001b[43m,\u001b[49m\n\u001b[0;32m    901\u001b[0m \u001b[43m    \u001b[49m\u001b[43mcoef_init\u001b[49m\u001b[38;5;241;43m=\u001b[39;49m\u001b[43mcoef_init\u001b[49m\u001b[43m,\u001b[49m\n\u001b[0;32m    902\u001b[0m \u001b[43m    \u001b[49m\u001b[43mintercept_init\u001b[49m\u001b[38;5;241;43m=\u001b[39;49m\u001b[43mintercept_init\u001b[49m\u001b[43m,\u001b[49m\n\u001b[0;32m    903\u001b[0m \u001b[43m    \u001b[49m\u001b[43msample_weight\u001b[49m\u001b[38;5;241;43m=\u001b[39;49m\u001b[43msample_weight\u001b[49m\u001b[43m,\u001b[49m\n\u001b[0;32m    904\u001b[0m \u001b[43m\u001b[49m\u001b[43m)\u001b[49m\n",
      "File \u001b[1;32mF:\\DataScience\\Prgram files\\lib\\site-packages\\sklearn\\linear_model\\_stochastic_gradient.py:683\u001b[0m, in \u001b[0;36mBaseSGDClassifier._fit\u001b[1;34m(self, X, y, alpha, C, loss, learning_rate, coef_init, intercept_init, sample_weight)\u001b[0m\n\u001b[0;32m    680\u001b[0m \u001b[38;5;66;03m# Clear iteration count for multiple call to fit.\u001b[39;00m\n\u001b[0;32m    681\u001b[0m \u001b[38;5;28mself\u001b[39m\u001b[38;5;241m.\u001b[39mt_ \u001b[38;5;241m=\u001b[39m \u001b[38;5;241m1.0\u001b[39m\n\u001b[1;32m--> 683\u001b[0m \u001b[38;5;28;43mself\u001b[39;49m\u001b[38;5;241;43m.\u001b[39;49m\u001b[43m_partial_fit\u001b[49m\u001b[43m(\u001b[49m\n\u001b[0;32m    684\u001b[0m \u001b[43m    \u001b[49m\u001b[43mX\u001b[49m\u001b[43m,\u001b[49m\n\u001b[0;32m    685\u001b[0m \u001b[43m    \u001b[49m\u001b[43my\u001b[49m\u001b[43m,\u001b[49m\n\u001b[0;32m    686\u001b[0m \u001b[43m    \u001b[49m\u001b[43malpha\u001b[49m\u001b[43m,\u001b[49m\n\u001b[0;32m    687\u001b[0m \u001b[43m    \u001b[49m\u001b[43mC\u001b[49m\u001b[43m,\u001b[49m\n\u001b[0;32m    688\u001b[0m \u001b[43m    \u001b[49m\u001b[43mloss\u001b[49m\u001b[43m,\u001b[49m\n\u001b[0;32m    689\u001b[0m \u001b[43m    \u001b[49m\u001b[43mlearning_rate\u001b[49m\u001b[43m,\u001b[49m\n\u001b[0;32m    690\u001b[0m \u001b[43m    \u001b[49m\u001b[38;5;28;43mself\u001b[39;49m\u001b[38;5;241;43m.\u001b[39;49m\u001b[43mmax_iter\u001b[49m\u001b[43m,\u001b[49m\n\u001b[0;32m    691\u001b[0m \u001b[43m    \u001b[49m\u001b[43mclasses\u001b[49m\u001b[43m,\u001b[49m\n\u001b[0;32m    692\u001b[0m \u001b[43m    \u001b[49m\u001b[43msample_weight\u001b[49m\u001b[43m,\u001b[49m\n\u001b[0;32m    693\u001b[0m \u001b[43m    \u001b[49m\u001b[43mcoef_init\u001b[49m\u001b[43m,\u001b[49m\n\u001b[0;32m    694\u001b[0m \u001b[43m    \u001b[49m\u001b[43mintercept_init\u001b[49m\u001b[43m,\u001b[49m\n\u001b[0;32m    695\u001b[0m \u001b[43m\u001b[49m\u001b[43m)\u001b[49m\n\u001b[0;32m    697\u001b[0m \u001b[38;5;28;01mif\u001b[39;00m (\n\u001b[0;32m    698\u001b[0m     \u001b[38;5;28mself\u001b[39m\u001b[38;5;241m.\u001b[39mtol \u001b[38;5;129;01mis\u001b[39;00m \u001b[38;5;129;01mnot\u001b[39;00m \u001b[38;5;28;01mNone\u001b[39;00m\n\u001b[0;32m    699\u001b[0m     \u001b[38;5;129;01mand\u001b[39;00m \u001b[38;5;28mself\u001b[39m\u001b[38;5;241m.\u001b[39mtol \u001b[38;5;241m>\u001b[39m \u001b[38;5;241m-\u001b[39mnp\u001b[38;5;241m.\u001b[39minf\n\u001b[0;32m    700\u001b[0m     \u001b[38;5;129;01mand\u001b[39;00m \u001b[38;5;28mself\u001b[39m\u001b[38;5;241m.\u001b[39mn_iter_ \u001b[38;5;241m==\u001b[39m \u001b[38;5;28mself\u001b[39m\u001b[38;5;241m.\u001b[39mmax_iter\n\u001b[0;32m    701\u001b[0m ):\n\u001b[0;32m    702\u001b[0m     warnings\u001b[38;5;241m.\u001b[39mwarn(\n\u001b[0;32m    703\u001b[0m         \u001b[38;5;124m\"\u001b[39m\u001b[38;5;124mMaximum number of iteration reached before \u001b[39m\u001b[38;5;124m\"\u001b[39m\n\u001b[0;32m    704\u001b[0m         \u001b[38;5;124m\"\u001b[39m\u001b[38;5;124mconvergence. Consider increasing max_iter to \u001b[39m\u001b[38;5;124m\"\u001b[39m\n\u001b[0;32m    705\u001b[0m         \u001b[38;5;124m\"\u001b[39m\u001b[38;5;124mimprove the fit.\u001b[39m\u001b[38;5;124m\"\u001b[39m,\n\u001b[0;32m    706\u001b[0m         ConvergenceWarning,\n\u001b[0;32m    707\u001b[0m     )\n",
      "File \u001b[1;32mF:\\DataScience\\Prgram files\\lib\\site-packages\\sklearn\\linear_model\\_stochastic_gradient.py:579\u001b[0m, in \u001b[0;36mBaseSGDClassifier._partial_fit\u001b[1;34m(self, X, y, alpha, C, loss, learning_rate, max_iter, classes, sample_weight, coef_init, intercept_init)\u001b[0m\n\u001b[0;32m    564\u001b[0m \u001b[38;5;28;01mdef\u001b[39;00m \u001b[38;5;21m_partial_fit\u001b[39m(\n\u001b[0;32m    565\u001b[0m     \u001b[38;5;28mself\u001b[39m,\n\u001b[0;32m    566\u001b[0m     X,\n\u001b[1;32m   (...)\u001b[0m\n\u001b[0;32m    576\u001b[0m     intercept_init,\n\u001b[0;32m    577\u001b[0m ):\n\u001b[0;32m    578\u001b[0m     first_call \u001b[38;5;241m=\u001b[39m \u001b[38;5;129;01mnot\u001b[39;00m \u001b[38;5;28mhasattr\u001b[39m(\u001b[38;5;28mself\u001b[39m, \u001b[38;5;124m\"\u001b[39m\u001b[38;5;124mclasses_\u001b[39m\u001b[38;5;124m\"\u001b[39m)\n\u001b[1;32m--> 579\u001b[0m     X, y \u001b[38;5;241m=\u001b[39m \u001b[38;5;28;43mself\u001b[39;49m\u001b[38;5;241;43m.\u001b[39;49m\u001b[43m_validate_data\u001b[49m\u001b[43m(\u001b[49m\n\u001b[0;32m    580\u001b[0m \u001b[43m        \u001b[49m\u001b[43mX\u001b[49m\u001b[43m,\u001b[49m\n\u001b[0;32m    581\u001b[0m \u001b[43m        \u001b[49m\u001b[43my\u001b[49m\u001b[43m,\u001b[49m\n\u001b[0;32m    582\u001b[0m \u001b[43m        \u001b[49m\u001b[43maccept_sparse\u001b[49m\u001b[38;5;241;43m=\u001b[39;49m\u001b[38;5;124;43m\"\u001b[39;49m\u001b[38;5;124;43mcsr\u001b[39;49m\u001b[38;5;124;43m\"\u001b[39;49m\u001b[43m,\u001b[49m\n\u001b[0;32m    583\u001b[0m \u001b[43m        \u001b[49m\u001b[43mdtype\u001b[49m\u001b[38;5;241;43m=\u001b[39;49m\u001b[43mnp\u001b[49m\u001b[38;5;241;43m.\u001b[39;49m\u001b[43mfloat64\u001b[49m\u001b[43m,\u001b[49m\n\u001b[0;32m    584\u001b[0m \u001b[43m        \u001b[49m\u001b[43morder\u001b[49m\u001b[38;5;241;43m=\u001b[39;49m\u001b[38;5;124;43m\"\u001b[39;49m\u001b[38;5;124;43mC\u001b[39;49m\u001b[38;5;124;43m\"\u001b[39;49m\u001b[43m,\u001b[49m\n\u001b[0;32m    585\u001b[0m \u001b[43m        \u001b[49m\u001b[43maccept_large_sparse\u001b[49m\u001b[38;5;241;43m=\u001b[39;49m\u001b[38;5;28;43;01mFalse\u001b[39;49;00m\u001b[43m,\u001b[49m\n\u001b[0;32m    586\u001b[0m \u001b[43m        \u001b[49m\u001b[43mreset\u001b[49m\u001b[38;5;241;43m=\u001b[39;49m\u001b[43mfirst_call\u001b[49m\u001b[43m,\u001b[49m\n\u001b[0;32m    587\u001b[0m \u001b[43m    \u001b[49m\u001b[43m)\u001b[49m\n\u001b[0;32m    589\u001b[0m     n_samples, n_features \u001b[38;5;241m=\u001b[39m X\u001b[38;5;241m.\u001b[39mshape\n\u001b[0;32m    591\u001b[0m     _check_partial_fit_first_call(\u001b[38;5;28mself\u001b[39m, classes)\n",
      "File \u001b[1;32mF:\\DataScience\\Prgram files\\lib\\site-packages\\sklearn\\base.py:565\u001b[0m, in \u001b[0;36mBaseEstimator._validate_data\u001b[1;34m(self, X, y, reset, validate_separately, **check_params)\u001b[0m\n\u001b[0;32m    563\u001b[0m         y \u001b[38;5;241m=\u001b[39m check_array(y, input_name\u001b[38;5;241m=\u001b[39m\u001b[38;5;124m\"\u001b[39m\u001b[38;5;124my\u001b[39m\u001b[38;5;124m\"\u001b[39m, \u001b[38;5;241m*\u001b[39m\u001b[38;5;241m*\u001b[39mcheck_y_params)\n\u001b[0;32m    564\u001b[0m     \u001b[38;5;28;01melse\u001b[39;00m:\n\u001b[1;32m--> 565\u001b[0m         X, y \u001b[38;5;241m=\u001b[39m check_X_y(X, y, \u001b[38;5;241m*\u001b[39m\u001b[38;5;241m*\u001b[39mcheck_params)\n\u001b[0;32m    566\u001b[0m     out \u001b[38;5;241m=\u001b[39m X, y\n\u001b[0;32m    568\u001b[0m \u001b[38;5;28;01mif\u001b[39;00m \u001b[38;5;129;01mnot\u001b[39;00m no_val_X \u001b[38;5;129;01mand\u001b[39;00m check_params\u001b[38;5;241m.\u001b[39mget(\u001b[38;5;124m\"\u001b[39m\u001b[38;5;124mensure_2d\u001b[39m\u001b[38;5;124m\"\u001b[39m, \u001b[38;5;28;01mTrue\u001b[39;00m):\n",
      "File \u001b[1;32mF:\\DataScience\\Prgram files\\lib\\site-packages\\sklearn\\utils\\validation.py:1124\u001b[0m, in \u001b[0;36mcheck_X_y\u001b[1;34m(X, y, accept_sparse, accept_large_sparse, dtype, order, copy, force_all_finite, ensure_2d, allow_nd, multi_output, ensure_min_samples, ensure_min_features, y_numeric, estimator)\u001b[0m\n\u001b[0;32m   1106\u001b[0m X \u001b[38;5;241m=\u001b[39m check_array(\n\u001b[0;32m   1107\u001b[0m     X,\n\u001b[0;32m   1108\u001b[0m     accept_sparse\u001b[38;5;241m=\u001b[39maccept_sparse,\n\u001b[1;32m   (...)\u001b[0m\n\u001b[0;32m   1119\u001b[0m     input_name\u001b[38;5;241m=\u001b[39m\u001b[38;5;124m\"\u001b[39m\u001b[38;5;124mX\u001b[39m\u001b[38;5;124m\"\u001b[39m,\n\u001b[0;32m   1120\u001b[0m )\n\u001b[0;32m   1122\u001b[0m y \u001b[38;5;241m=\u001b[39m _check_y(y, multi_output\u001b[38;5;241m=\u001b[39mmulti_output, y_numeric\u001b[38;5;241m=\u001b[39my_numeric, estimator\u001b[38;5;241m=\u001b[39mestimator)\n\u001b[1;32m-> 1124\u001b[0m \u001b[43mcheck_consistent_length\u001b[49m\u001b[43m(\u001b[49m\u001b[43mX\u001b[49m\u001b[43m,\u001b[49m\u001b[43m \u001b[49m\u001b[43my\u001b[49m\u001b[43m)\u001b[49m\n\u001b[0;32m   1126\u001b[0m \u001b[38;5;28;01mreturn\u001b[39;00m X, y\n",
      "File \u001b[1;32mF:\\DataScience\\Prgram files\\lib\\site-packages\\sklearn\\utils\\validation.py:397\u001b[0m, in \u001b[0;36mcheck_consistent_length\u001b[1;34m(*arrays)\u001b[0m\n\u001b[0;32m    395\u001b[0m uniques \u001b[38;5;241m=\u001b[39m np\u001b[38;5;241m.\u001b[39munique(lengths)\n\u001b[0;32m    396\u001b[0m \u001b[38;5;28;01mif\u001b[39;00m \u001b[38;5;28mlen\u001b[39m(uniques) \u001b[38;5;241m>\u001b[39m \u001b[38;5;241m1\u001b[39m:\n\u001b[1;32m--> 397\u001b[0m     \u001b[38;5;28;01mraise\u001b[39;00m \u001b[38;5;167;01mValueError\u001b[39;00m(\n\u001b[0;32m    398\u001b[0m         \u001b[38;5;124m\"\u001b[39m\u001b[38;5;124mFound input variables with inconsistent numbers of samples: \u001b[39m\u001b[38;5;132;01m%r\u001b[39;00m\u001b[38;5;124m\"\u001b[39m\n\u001b[0;32m    399\u001b[0m         \u001b[38;5;241m%\u001b[39m [\u001b[38;5;28mint\u001b[39m(l) \u001b[38;5;28;01mfor\u001b[39;00m l \u001b[38;5;129;01min\u001b[39;00m lengths]\n\u001b[0;32m    400\u001b[0m     )\n",
      "\u001b[1;31mValueError\u001b[0m: Found input variables with inconsistent numbers of samples: [707, 8000]"
     ]
    }
   ],
   "source": [
    "sgd.fit(X_train_b, y_train)"
   ]
  },
  {
   "cell_type": "code",
   "execution_count": null,
   "id": "aab4931a-d032-4e20-a239-773258c0998f",
   "metadata": {},
   "outputs": [],
   "source": [
    "y_probs = sgd.predict_proba(X_test_b)\n",
    "y_pred = sgd.predict(X_test_b)"
   ]
  },
  {
   "cell_type": "code",
   "execution_count": null,
   "id": "5a056d3c-22fe-4f71-ad70-e4d66ef65814",
   "metadata": {},
   "outputs": [],
   "source": [
    "visualize(y_test, y_probs[:,1]);"
   ]
  },
  {
   "cell_type": "markdown",
   "id": "132e8c01-76d1-4da1-8754-e090b9abdaa8",
   "metadata": {},
   "source": [
    "## Регуляризация"
   ]
  },
  {
   "cell_type": "code",
   "execution_count": null,
   "id": "1eab6859-2a4c-4efd-a2da-50628a9d7428",
   "metadata": {},
   "outputs": [],
   "source": [
    "lr = LogisticRegression(random_state=177013, penalty='l2')"
   ]
  },
  {
   "cell_type": "code",
   "execution_count": null,
   "id": "3b0f2f6c-7f10-4c52-95e5-1a27331566d3",
   "metadata": {},
   "outputs": [],
   "source": [
    "lr.fit(X_train, y_train)"
   ]
  },
  {
   "cell_type": "code",
   "execution_count": null,
   "id": "14c54741-c58b-4963-a0ae-a0413bb4cb49",
   "metadata": {},
   "outputs": [],
   "source": [
    "y_probs = lr.predict_proba(X_test)"
   ]
  },
  {
   "cell_type": "code",
   "execution_count": null,
   "id": "56d7ad4d-e956-44d4-9610-6fd743bab118",
   "metadata": {},
   "outputs": [],
   "source": [
    "y_probs[:5]"
   ]
  },
  {
   "cell_type": "code",
   "execution_count": null,
   "id": "8be37d7f-c156-4554-99b9-6e67cffb2d4a",
   "metadata": {},
   "outputs": [],
   "source": [
    "visualize(y_test, y_probs[:,1]);"
   ]
  },
  {
   "cell_type": "markdown",
   "id": "76c3f503-cab2-49d7-a67d-7c155c31e098",
   "metadata": {},
   "source": [
    "## Допущения логистической регрессии"
   ]
  },
  {
   "cell_type": "markdown",
   "id": "04c33e08-726d-49f7-83fd-f5c04b21ac47",
   "metadata": {},
   "source": [
    "По сравнению с обычной линейной регрессией, логистическая НЕ требует:\n",
    "\n",
    "- гомоскедастичности;\n",
    "- нормальности ошибок;\n",
    "- поскольку результат проходит через логистическую функцию, линейная зависимость нужна для логитов, а не самого целевого признака, который бинарен."
   ]
  },
  {
   "cell_type": "markdown",
   "id": "b923ef7b-db88-475a-9255-ecc821bd5d1d",
   "metadata": {},
   "source": [
    "# Домашнее задание"
   ]
  },
  {
   "cell_type": "markdown",
   "id": "b1b19220-2abf-4b05-b9b1-4fddd753c8e6",
   "metadata": {},
   "source": [
    "## Easy"
   ]
  },
  {
   "cell_type": "markdown",
   "id": "34583ea0-20a9-4af8-83b6-3b3a197c8443",
   "metadata": {},
   "source": [
    "С помощью sklearn можно генерировать простые датасеты для тестирования моделей:"
   ]
  },
  {
   "cell_type": "code",
   "execution_count": 380,
   "id": "b5859cb7-ba46-4e8e-a0b5-39d3a4d6a030",
   "metadata": {},
   "outputs": [],
   "source": [
    "from sklearn.datasets import make_classification\n",
    "\n",
    "X, y = make_classification(n_samples=10000, n_features=20, n_informative=10, n_classes=2)\n",
    "X_train, y_train = X[:8000], y[:8000]\n",
    "X_test, y_test = X[8000:], y[8000:]"
   ]
  },
  {
   "cell_type": "markdown",
   "id": "45462637-04cb-4a19-9f7b-8d6509ebe333",
   "metadata": {},
   "source": [
    "Воспользуйтесь примером из урока и постройте модель логистической регрессии. Проверьте метрику F1 с порогом по умолчанию."
   ]
  },
  {
   "cell_type": "code",
   "execution_count": 381,
   "id": "bbe2575e-67ef-488b-8fdb-a495359ff193",
   "metadata": {
    "scrolled": true
   },
   "outputs": [
    {
     "ename": "AttributeError",
     "evalue": "'Series' object has no attribute 'fit'",
     "output_type": "error",
     "traceback": [
      "\u001b[1;31m---------------------------------------------------------------------------\u001b[0m",
      "\u001b[1;31mAttributeError\u001b[0m                            Traceback (most recent call last)",
      "Cell \u001b[1;32mIn[381], line 4\u001b[0m\n\u001b[0;32m      2\u001b[0m \u001b[38;5;28;01mfrom\u001b[39;00m \u001b[38;5;21;01msklearn\u001b[39;00m\u001b[38;5;21;01m.\u001b[39;00m\u001b[38;5;21;01mmodel_selection\u001b[39;00m \u001b[38;5;28;01mimport\u001b[39;00m train_test_split\n\u001b[0;32m      3\u001b[0m \u001b[38;5;28;01mfrom\u001b[39;00m \u001b[38;5;21;01msklearn\u001b[39;00m\u001b[38;5;21;01m.\u001b[39;00m\u001b[38;5;21;01mlinear_model\u001b[39;00m \u001b[38;5;28;01mimport\u001b[39;00m LinearRegression, LogisticRegression, SGDRegressor, SGDClassifier, Ridge, Lasso\n\u001b[1;32m----> 4\u001b[0m \u001b[43mlr\u001b[49m\u001b[38;5;241;43m.\u001b[39;49m\u001b[43mfit\u001b[49m(X_train, y_train)\n",
      "File \u001b[1;32mF:\\DataScience\\Prgram files\\lib\\site-packages\\pandas\\core\\generic.py:5902\u001b[0m, in \u001b[0;36mNDFrame.__getattr__\u001b[1;34m(self, name)\u001b[0m\n\u001b[0;32m   5895\u001b[0m \u001b[38;5;28;01mif\u001b[39;00m (\n\u001b[0;32m   5896\u001b[0m     name \u001b[38;5;129;01mnot\u001b[39;00m \u001b[38;5;129;01min\u001b[39;00m \u001b[38;5;28mself\u001b[39m\u001b[38;5;241m.\u001b[39m_internal_names_set\n\u001b[0;32m   5897\u001b[0m     \u001b[38;5;129;01mand\u001b[39;00m name \u001b[38;5;129;01mnot\u001b[39;00m \u001b[38;5;129;01min\u001b[39;00m \u001b[38;5;28mself\u001b[39m\u001b[38;5;241m.\u001b[39m_metadata\n\u001b[0;32m   5898\u001b[0m     \u001b[38;5;129;01mand\u001b[39;00m name \u001b[38;5;129;01mnot\u001b[39;00m \u001b[38;5;129;01min\u001b[39;00m \u001b[38;5;28mself\u001b[39m\u001b[38;5;241m.\u001b[39m_accessors\n\u001b[0;32m   5899\u001b[0m     \u001b[38;5;129;01mand\u001b[39;00m \u001b[38;5;28mself\u001b[39m\u001b[38;5;241m.\u001b[39m_info_axis\u001b[38;5;241m.\u001b[39m_can_hold_identifiers_and_holds_name(name)\n\u001b[0;32m   5900\u001b[0m ):\n\u001b[0;32m   5901\u001b[0m     \u001b[38;5;28;01mreturn\u001b[39;00m \u001b[38;5;28mself\u001b[39m[name]\n\u001b[1;32m-> 5902\u001b[0m \u001b[38;5;28;01mreturn\u001b[39;00m \u001b[38;5;28;43mobject\u001b[39;49m\u001b[38;5;241;43m.\u001b[39;49m\u001b[38;5;21;43m__getattribute__\u001b[39;49m\u001b[43m(\u001b[49m\u001b[38;5;28;43mself\u001b[39;49m\u001b[43m,\u001b[49m\u001b[43m \u001b[49m\u001b[43mname\u001b[49m\u001b[43m)\u001b[49m\n",
      "\u001b[1;31mAttributeError\u001b[0m: 'Series' object has no attribute 'fit'"
     ]
    }
   ],
   "source": [
    "# Ваш код ниже:\n",
    "from sklearn.model_selection import train_test_split\n",
    "from sklearn.linear_model import LinearRegression, LogisticRegression, SGDRegressor, SGDClassifier, Ridge, Lasso\n",
    "lr.fit(X_train, y_train)"
   ]
  },
  {
   "cell_type": "code",
   "execution_count": 382,
   "id": "fab765e5",
   "metadata": {},
   "outputs": [
    {
     "ename": "AttributeError",
     "evalue": "'Series' object has no attribute 'predict_proba'",
     "output_type": "error",
     "traceback": [
      "\u001b[1;31m---------------------------------------------------------------------------\u001b[0m",
      "\u001b[1;31mAttributeError\u001b[0m                            Traceback (most recent call last)",
      "Cell \u001b[1;32mIn[382], line 1\u001b[0m\n\u001b[1;32m----> 1\u001b[0m y_probs \u001b[38;5;241m=\u001b[39m \u001b[43mlr\u001b[49m\u001b[38;5;241;43m.\u001b[39;49m\u001b[43mpredict_proba\u001b[49m(X_test)\n",
      "File \u001b[1;32mF:\\DataScience\\Prgram files\\lib\\site-packages\\pandas\\core\\generic.py:5902\u001b[0m, in \u001b[0;36mNDFrame.__getattr__\u001b[1;34m(self, name)\u001b[0m\n\u001b[0;32m   5895\u001b[0m \u001b[38;5;28;01mif\u001b[39;00m (\n\u001b[0;32m   5896\u001b[0m     name \u001b[38;5;129;01mnot\u001b[39;00m \u001b[38;5;129;01min\u001b[39;00m \u001b[38;5;28mself\u001b[39m\u001b[38;5;241m.\u001b[39m_internal_names_set\n\u001b[0;32m   5897\u001b[0m     \u001b[38;5;129;01mand\u001b[39;00m name \u001b[38;5;129;01mnot\u001b[39;00m \u001b[38;5;129;01min\u001b[39;00m \u001b[38;5;28mself\u001b[39m\u001b[38;5;241m.\u001b[39m_metadata\n\u001b[0;32m   5898\u001b[0m     \u001b[38;5;129;01mand\u001b[39;00m name \u001b[38;5;129;01mnot\u001b[39;00m \u001b[38;5;129;01min\u001b[39;00m \u001b[38;5;28mself\u001b[39m\u001b[38;5;241m.\u001b[39m_accessors\n\u001b[0;32m   5899\u001b[0m     \u001b[38;5;129;01mand\u001b[39;00m \u001b[38;5;28mself\u001b[39m\u001b[38;5;241m.\u001b[39m_info_axis\u001b[38;5;241m.\u001b[39m_can_hold_identifiers_and_holds_name(name)\n\u001b[0;32m   5900\u001b[0m ):\n\u001b[0;32m   5901\u001b[0m     \u001b[38;5;28;01mreturn\u001b[39;00m \u001b[38;5;28mself\u001b[39m[name]\n\u001b[1;32m-> 5902\u001b[0m \u001b[38;5;28;01mreturn\u001b[39;00m \u001b[38;5;28;43mobject\u001b[39;49m\u001b[38;5;241;43m.\u001b[39;49m\u001b[38;5;21;43m__getattribute__\u001b[39;49m\u001b[43m(\u001b[49m\u001b[38;5;28;43mself\u001b[39;49m\u001b[43m,\u001b[49m\u001b[43m \u001b[49m\u001b[43mname\u001b[49m\u001b[43m)\u001b[49m\n",
      "\u001b[1;31mAttributeError\u001b[0m: 'Series' object has no attribute 'predict_proba'"
     ]
    }
   ],
   "source": [
    "y_probs = lr.predict_proba(X_test)"
   ]
  },
  {
   "cell_type": "code",
   "execution_count": 383,
   "id": "56ad431a",
   "metadata": {},
   "outputs": [
    {
     "data": {
      "text/plain": [
       "array([[0.0137308 , 0.9862692 ],\n",
       "       [0.1964805 , 0.8035195 ],\n",
       "       [0.09769659, 0.90230341],\n",
       "       [0.15445989, 0.84554011],\n",
       "       [0.5712446 , 0.4287554 ]])"
      ]
     },
     "execution_count": 383,
     "metadata": {},
     "output_type": "execute_result"
    }
   ],
   "source": [
    "y_probs[:5]"
   ]
  },
  {
   "cell_type": "code",
   "execution_count": 384,
   "id": "5efe3bb2",
   "metadata": {},
   "outputs": [
    {
     "name": "stderr",
     "output_type": "stream",
     "text": [
      "C:\\Users\\Owner\\AppData\\Local\\Temp\\ipykernel_22504\\4278985181.py:9: RuntimeWarning: invalid value encountered in divide\n",
      "  f_scores = 2 * recall * precision / (recall + precision)\n"
     ]
    },
    {
     "name": "stdout",
     "output_type": "stream",
     "text": [
      "ROC_AUC: 0.51, AP (PR_AUC): 0.51, наилучший F1: nan с порогом 1.00 (accuracy 0.50)\n"
     ]
    },
    {
     "data": {
      "image/png": "[encoded data removed]",
      "text/plain": [
       "<Figure size 1200x500 with 2 Axes>"
      ]
     },
     "metadata": {},
     "output_type": "display_data"
    },
    {
     "data": {
      "image/png": "[encoded data removed]",
      "text/plain": [
       "<Figure size 1200x400 with 4 Axes>"
      ]
     },
     "metadata": {},
     "output_type": "display_data"
    }
   ],
   "source": [
    "visualize(y_test, y_probs[:,1]);"
   ]
  },
  {
   "cell_type": "code",
   "execution_count": 385,
   "id": "ce84673b",
   "metadata": {},
   "outputs": [
    {
     "ename": "AttributeError",
     "evalue": "'Series' object has no attribute 'coef_'",
     "output_type": "error",
     "traceback": [
      "\u001b[1;31m---------------------------------------------------------------------------\u001b[0m",
      "\u001b[1;31mAttributeError\u001b[0m                            Traceback (most recent call last)",
      "Cell \u001b[1;32mIn[385], line 1\u001b[0m\n\u001b[1;32m----> 1\u001b[0m \u001b[43mlr\u001b[49m\u001b[38;5;241;43m.\u001b[39;49m\u001b[43mcoef_\u001b[49m\n",
      "File \u001b[1;32mF:\\DataScience\\Prgram files\\lib\\site-packages\\pandas\\core\\generic.py:5902\u001b[0m, in \u001b[0;36mNDFrame.__getattr__\u001b[1;34m(self, name)\u001b[0m\n\u001b[0;32m   5895\u001b[0m \u001b[38;5;28;01mif\u001b[39;00m (\n\u001b[0;32m   5896\u001b[0m     name \u001b[38;5;129;01mnot\u001b[39;00m \u001b[38;5;129;01min\u001b[39;00m \u001b[38;5;28mself\u001b[39m\u001b[38;5;241m.\u001b[39m_internal_names_set\n\u001b[0;32m   5897\u001b[0m     \u001b[38;5;129;01mand\u001b[39;00m name \u001b[38;5;129;01mnot\u001b[39;00m \u001b[38;5;129;01min\u001b[39;00m \u001b[38;5;28mself\u001b[39m\u001b[38;5;241m.\u001b[39m_metadata\n\u001b[0;32m   5898\u001b[0m     \u001b[38;5;129;01mand\u001b[39;00m name \u001b[38;5;129;01mnot\u001b[39;00m \u001b[38;5;129;01min\u001b[39;00m \u001b[38;5;28mself\u001b[39m\u001b[38;5;241m.\u001b[39m_accessors\n\u001b[0;32m   5899\u001b[0m     \u001b[38;5;129;01mand\u001b[39;00m \u001b[38;5;28mself\u001b[39m\u001b[38;5;241m.\u001b[39m_info_axis\u001b[38;5;241m.\u001b[39m_can_hold_identifiers_and_holds_name(name)\n\u001b[0;32m   5900\u001b[0m ):\n\u001b[0;32m   5901\u001b[0m     \u001b[38;5;28;01mreturn\u001b[39;00m \u001b[38;5;28mself\u001b[39m[name]\n\u001b[1;32m-> 5902\u001b[0m \u001b[38;5;28;01mreturn\u001b[39;00m \u001b[38;5;28;43mobject\u001b[39;49m\u001b[38;5;241;43m.\u001b[39;49m\u001b[38;5;21;43m__getattribute__\u001b[39;49m\u001b[43m(\u001b[49m\u001b[38;5;28;43mself\u001b[39;49m\u001b[43m,\u001b[49m\u001b[43m \u001b[49m\u001b[43mname\u001b[49m\u001b[43m)\u001b[49m\n",
      "\u001b[1;31mAttributeError\u001b[0m: 'Series' object has no attribute 'coef_'"
     ]
    }
   ],
   "source": [
    "lr.coef_"
   ]
  },
  {
   "cell_type": "code",
   "execution_count": null,
   "id": "7f985b4a",
   "metadata": {},
   "outputs": [],
   "source": [
    "lr.intercept_"
   ]
  },
  {
   "cell_type": "markdown",
   "id": "a77f6fd5-c784-4159-a21c-8f34865ba8d5",
   "metadata": {},
   "source": [
    "## Normal"
   ]
  },
  {
   "cell_type": "code",
   "execution_count": 386,
   "id": "f4c76f20",
   "metadata": {},
   "outputs": [
    {
     "data": {
      "text/html": [
       "<div>\n",
       "<style scoped>\n",
       "    .dataframe tbody tr th:only-of-type {\n",
       "        vertical-align: middle;\n",
       "    }\n",
       "\n",
       "    .dataframe tbody tr th {\n",
       "        vertical-align: top;\n",
       "    }\n",
       "\n",
       "    .dataframe thead th {\n",
       "        text-align: right;\n",
       "    }\n",
       "</style>\n",
       "<table border=\"1\" class=\"dataframe\">\n",
       "  <thead>\n",
       "    <tr style=\"text-align: right;\">\n",
       "      <th></th>\n",
       "      <th>RowNumber</th>\n",
       "      <th>CustomerId</th>\n",
       "      <th>Surname</th>\n",
       "      <th>CreditScore</th>\n",
       "      <th>Geography</th>\n",
       "      <th>Gender</th>\n",
       "      <th>Age</th>\n",
       "      <th>Tenure</th>\n",
       "      <th>Balance</th>\n",
       "      <th>NumOfProducts</th>\n",
       "      <th>HasCrCard</th>\n",
       "      <th>IsActiveMember</th>\n",
       "      <th>EstimatedSalary</th>\n",
       "      <th>Exited</th>\n",
       "    </tr>\n",
       "  </thead>\n",
       "  <tbody>\n",
       "    <tr>\n",
       "      <th>0</th>\n",
       "      <td>1</td>\n",
       "      <td>15634602</td>\n",
       "      <td>Hargrave</td>\n",
       "      <td>619</td>\n",
       "      <td>France</td>\n",
       "      <td>Female</td>\n",
       "      <td>42</td>\n",
       "      <td>2</td>\n",
       "      <td>0.00</td>\n",
       "      <td>1</td>\n",
       "      <td>1</td>\n",
       "      <td>1</td>\n",
       "      <td>101348.88</td>\n",
       "      <td>1</td>\n",
       "    </tr>\n",
       "    <tr>\n",
       "      <th>1</th>\n",
       "      <td>2</td>\n",
       "      <td>15647311</td>\n",
       "      <td>Hill</td>\n",
       "      <td>608</td>\n",
       "      <td>Spain</td>\n",
       "      <td>Female</td>\n",
       "      <td>41</td>\n",
       "      <td>1</td>\n",
       "      <td>83807.86</td>\n",
       "      <td>1</td>\n",
       "      <td>0</td>\n",
       "      <td>1</td>\n",
       "      <td>112542.58</td>\n",
       "      <td>0</td>\n",
       "    </tr>\n",
       "    <tr>\n",
       "      <th>2</th>\n",
       "      <td>3</td>\n",
       "      <td>15619304</td>\n",
       "      <td>Onio</td>\n",
       "      <td>502</td>\n",
       "      <td>France</td>\n",
       "      <td>Female</td>\n",
       "      <td>42</td>\n",
       "      <td>8</td>\n",
       "      <td>159660.80</td>\n",
       "      <td>3</td>\n",
       "      <td>1</td>\n",
       "      <td>0</td>\n",
       "      <td>113931.57</td>\n",
       "      <td>1</td>\n",
       "    </tr>\n",
       "    <tr>\n",
       "      <th>3</th>\n",
       "      <td>4</td>\n",
       "      <td>15701354</td>\n",
       "      <td>Boni</td>\n",
       "      <td>699</td>\n",
       "      <td>France</td>\n",
       "      <td>Female</td>\n",
       "      <td>39</td>\n",
       "      <td>1</td>\n",
       "      <td>0.00</td>\n",
       "      <td>2</td>\n",
       "      <td>0</td>\n",
       "      <td>0</td>\n",
       "      <td>93826.63</td>\n",
       "      <td>0</td>\n",
       "    </tr>\n",
       "    <tr>\n",
       "      <th>4</th>\n",
       "      <td>5</td>\n",
       "      <td>15737888</td>\n",
       "      <td>Mitchell</td>\n",
       "      <td>850</td>\n",
       "      <td>Spain</td>\n",
       "      <td>Female</td>\n",
       "      <td>43</td>\n",
       "      <td>2</td>\n",
       "      <td>125510.82</td>\n",
       "      <td>1</td>\n",
       "      <td>1</td>\n",
       "      <td>1</td>\n",
       "      <td>79084.10</td>\n",
       "      <td>0</td>\n",
       "    </tr>\n",
       "    <tr>\n",
       "      <th>5</th>\n",
       "      <td>6</td>\n",
       "      <td>15574012</td>\n",
       "      <td>Chu</td>\n",
       "      <td>645</td>\n",
       "      <td>Spain</td>\n",
       "      <td>Male</td>\n",
       "      <td>44</td>\n",
       "      <td>8</td>\n",
       "      <td>113755.78</td>\n",
       "      <td>2</td>\n",
       "      <td>1</td>\n",
       "      <td>0</td>\n",
       "      <td>149756.71</td>\n",
       "      <td>1</td>\n",
       "    </tr>\n",
       "    <tr>\n",
       "      <th>6</th>\n",
       "      <td>7</td>\n",
       "      <td>15592531</td>\n",
       "      <td>Bartlett</td>\n",
       "      <td>822</td>\n",
       "      <td>France</td>\n",
       "      <td>Male</td>\n",
       "      <td>50</td>\n",
       "      <td>7</td>\n",
       "      <td>0.00</td>\n",
       "      <td>2</td>\n",
       "      <td>1</td>\n",
       "      <td>1</td>\n",
       "      <td>10062.80</td>\n",
       "      <td>0</td>\n",
       "    </tr>\n",
       "    <tr>\n",
       "      <th>7</th>\n",
       "      <td>8</td>\n",
       "      <td>15656148</td>\n",
       "      <td>Obinna</td>\n",
       "      <td>376</td>\n",
       "      <td>Germany</td>\n",
       "      <td>Female</td>\n",
       "      <td>29</td>\n",
       "      <td>4</td>\n",
       "      <td>115046.74</td>\n",
       "      <td>4</td>\n",
       "      <td>1</td>\n",
       "      <td>0</td>\n",
       "      <td>119346.88</td>\n",
       "      <td>1</td>\n",
       "    </tr>\n",
       "    <tr>\n",
       "      <th>8</th>\n",
       "      <td>9</td>\n",
       "      <td>15792365</td>\n",
       "      <td>He</td>\n",
       "      <td>501</td>\n",
       "      <td>France</td>\n",
       "      <td>Male</td>\n",
       "      <td>44</td>\n",
       "      <td>4</td>\n",
       "      <td>142051.07</td>\n",
       "      <td>2</td>\n",
       "      <td>0</td>\n",
       "      <td>1</td>\n",
       "      <td>74940.50</td>\n",
       "      <td>0</td>\n",
       "    </tr>\n",
       "    <tr>\n",
       "      <th>9</th>\n",
       "      <td>10</td>\n",
       "      <td>15592389</td>\n",
       "      <td>H?</td>\n",
       "      <td>684</td>\n",
       "      <td>France</td>\n",
       "      <td>Male</td>\n",
       "      <td>27</td>\n",
       "      <td>2</td>\n",
       "      <td>134603.88</td>\n",
       "      <td>1</td>\n",
       "      <td>1</td>\n",
       "      <td>1</td>\n",
       "      <td>71725.73</td>\n",
       "      <td>0</td>\n",
       "    </tr>\n",
       "  </tbody>\n",
       "</table>\n",
       "</div>"
      ],
      "text/plain": [
       "   RowNumber  CustomerId   Surname  CreditScore Geography  Gender  Age  \\\n",
       "0          1    15634602  Hargrave          619    France  Female   42   \n",
       "1          2    15647311      Hill          608     Spain  Female   41   \n",
       "2          3    15619304      Onio          502    France  Female   42   \n",
       "3          4    15701354      Boni          699    France  Female   39   \n",
       "4          5    15737888  Mitchell          850     Spain  Female   43   \n",
       "5          6    15574012       Chu          645     Spain    Male   44   \n",
       "6          7    15592531  Bartlett          822    France    Male   50   \n",
       "7          8    15656148    Obinna          376   Germany  Female   29   \n",
       "8          9    15792365        He          501    France    Male   44   \n",
       "9         10    15592389        H?          684    France    Male   27   \n",
       "\n",
       "   Tenure    Balance  NumOfProducts  HasCrCard  IsActiveMember  \\\n",
       "0       2       0.00              1          1               1   \n",
       "1       1   83807.86              1          0               1   \n",
       "2       8  159660.80              3          1               0   \n",
       "3       1       0.00              2          0               0   \n",
       "4       2  125510.82              1          1               1   \n",
       "5       8  113755.78              2          1               0   \n",
       "6       7       0.00              2          1               1   \n",
       "7       4  115046.74              4          1               0   \n",
       "8       4  142051.07              2          0               1   \n",
       "9       2  134603.88              1          1               1   \n",
       "\n",
       "   EstimatedSalary  Exited  \n",
       "0        101348.88       1  \n",
       "1        112542.58       0  \n",
       "2        113931.57       1  \n",
       "3         93826.63       0  \n",
       "4         79084.10       0  \n",
       "5        149756.71       1  \n",
       "6         10062.80       0  \n",
       "7        119346.88       1  \n",
       "8         74940.50       0  \n",
       "9         71725.73       0  "
      ]
     },
     "execution_count": 386,
     "metadata": {},
     "output_type": "execute_result"
    }
   ],
   "source": [
    "import pandas as pd\n",
    "df = pd.read_csv('Churn_Modelling.csv')\n",
    "df.head(10)"
   ]
  },
  {
   "cell_type": "code",
   "execution_count": 387,
   "id": "64fed117",
   "metadata": {},
   "outputs": [
    {
     "data": {
      "text/html": [
       "<div>\n",
       "<style scoped>\n",
       "    .dataframe tbody tr th:only-of-type {\n",
       "        vertical-align: middle;\n",
       "    }\n",
       "\n",
       "    .dataframe tbody tr th {\n",
       "        vertical-align: top;\n",
       "    }\n",
       "\n",
       "    .dataframe thead th {\n",
       "        text-align: right;\n",
       "    }\n",
       "</style>\n",
       "<table border=\"1\" class=\"dataframe\">\n",
       "  <thead>\n",
       "    <tr style=\"text-align: right;\">\n",
       "      <th></th>\n",
       "      <th>RowNumber</th>\n",
       "      <th>CreditScore</th>\n",
       "      <th>Gender</th>\n",
       "      <th>Age</th>\n",
       "      <th>Tenure</th>\n",
       "      <th>Balance</th>\n",
       "      <th>EstimatedSalary</th>\n",
       "      <th>Exited</th>\n",
       "    </tr>\n",
       "  </thead>\n",
       "  <tbody>\n",
       "    <tr>\n",
       "      <th>9995</th>\n",
       "      <td>9996.0</td>\n",
       "      <td>771.0</td>\n",
       "      <td>0.0</td>\n",
       "      <td>39.0</td>\n",
       "      <td>5.0</td>\n",
       "      <td>0.00</td>\n",
       "      <td>96270.64</td>\n",
       "      <td>0.0</td>\n",
       "    </tr>\n",
       "    <tr>\n",
       "      <th>9996</th>\n",
       "      <td>9997.0</td>\n",
       "      <td>516.0</td>\n",
       "      <td>0.0</td>\n",
       "      <td>35.0</td>\n",
       "      <td>10.0</td>\n",
       "      <td>57369.61</td>\n",
       "      <td>101699.77</td>\n",
       "      <td>0.0</td>\n",
       "    </tr>\n",
       "    <tr>\n",
       "      <th>9997</th>\n",
       "      <td>9998.0</td>\n",
       "      <td>709.0</td>\n",
       "      <td>0.0</td>\n",
       "      <td>36.0</td>\n",
       "      <td>7.0</td>\n",
       "      <td>0.00</td>\n",
       "      <td>42085.58</td>\n",
       "      <td>1.0</td>\n",
       "    </tr>\n",
       "    <tr>\n",
       "      <th>9998</th>\n",
       "      <td>9999.0</td>\n",
       "      <td>772.0</td>\n",
       "      <td>0.0</td>\n",
       "      <td>42.0</td>\n",
       "      <td>3.0</td>\n",
       "      <td>75075.31</td>\n",
       "      <td>92888.52</td>\n",
       "      <td>1.0</td>\n",
       "    </tr>\n",
       "    <tr>\n",
       "      <th>9999</th>\n",
       "      <td>10000.0</td>\n",
       "      <td>792.0</td>\n",
       "      <td>0.0</td>\n",
       "      <td>28.0</td>\n",
       "      <td>4.0</td>\n",
       "      <td>130142.79</td>\n",
       "      <td>38190.78</td>\n",
       "      <td>0.0</td>\n",
       "    </tr>\n",
       "  </tbody>\n",
       "</table>\n",
       "</div>"
      ],
      "text/plain": [
       "      RowNumber  CreditScore  Gender   Age  Tenure    Balance  \\\n",
       "9995     9996.0        771.0     0.0  39.0     5.0       0.00   \n",
       "9996     9997.0        516.0     0.0  35.0    10.0   57369.61   \n",
       "9997     9998.0        709.0     0.0  36.0     7.0       0.00   \n",
       "9998     9999.0        772.0     0.0  42.0     3.0   75075.31   \n",
       "9999    10000.0        792.0     0.0  28.0     4.0  130142.79   \n",
       "\n",
       "      EstimatedSalary  Exited  \n",
       "9995         96270.64     0.0  \n",
       "9996        101699.77     0.0  \n",
       "9997         42085.58     1.0  \n",
       "9998         92888.52     1.0  \n",
       "9999         38190.78     0.0  "
      ]
     },
     "execution_count": 387,
     "metadata": {},
     "output_type": "execute_result"
    }
   ],
   "source": [
    "import pandas as pd\n",
    "import numpy as np\n",
    "\n",
    "from sklearn.impute import KNNImputer\n",
    "imputer = KNNImputer(n_neighbors=5, weights='uniform', add_indicator=True).set_output(transform='pandas')\n",
    "df = pd.read_csv('Churn_Modelling.csv').drop(['CustomerId', 'Surname', 'NumOfProducts', 'HasCrCard', 'IsActiveMember', 'Geography'], axis=1)\n",
    "df['Gender'] = (df['Gender'] == 'male').astype('int')\n",
    "df = imputer.fit_transform(df)\n",
    "df.tail()"
   ]
  },
  {
   "cell_type": "markdown",
   "id": "fac89cab-cf65-43f7-a253-d4047c2491d9",
   "metadata": {},
   "source": [
    "Вернитесь к датасету о клиентах банка. Подумайте, как преобразовать категории в числа (если не справитесь, можете их удалить, мы рассмотрим этот вопрос подробнее на следующем уроке).\n",
    "\n",
    "Выделите обучающую и валидационную выборки.\n",
    "\n",
    "Постройте модель логистической регрессии для предсказания признака `Exited`."
   ]
  },
  {
   "cell_type": "code",
   "execution_count": 388,
   "id": "7b755da1-de2a-48ff-a72a-21583b3a03f4",
   "metadata": {},
   "outputs": [
    {
     "data": {
      "text/plain": [
       "0       1.0\n",
       "1       0.0\n",
       "2       1.0\n",
       "3       0.0\n",
       "4       0.0\n",
       "       ... \n",
       "9995    0.0\n",
       "9996    0.0\n",
       "9997    1.0\n",
       "9998    1.0\n",
       "9999    0.0\n",
       "Name: Exited, Length: 10000, dtype: float64"
      ]
     },
     "execution_count": 388,
     "metadata": {},
     "output_type": "execute_result"
    }
   ],
   "source": [
    "# Ваш код ниже:\n",
    "lrr = df['Exited']\n",
    "lrr"
   ]
  },
  {
   "cell_type": "code",
   "execution_count": 389,
   "id": "11db2dfb",
   "metadata": {},
   "outputs": [
    {
     "ename": "AttributeError",
     "evalue": "'Series' object has no attribute 'fit'",
     "output_type": "error",
     "traceback": [
      "\u001b[1;31m---------------------------------------------------------------------------\u001b[0m",
      "\u001b[1;31mAttributeError\u001b[0m                            Traceback (most recent call last)",
      "Cell \u001b[1;32mIn[389], line 1\u001b[0m\n\u001b[1;32m----> 1\u001b[0m \u001b[43mlrr\u001b[49m\u001b[38;5;241;43m.\u001b[39;49m\u001b[43mfit\u001b[49m(X_train, y_train)\n",
      "File \u001b[1;32mF:\\DataScience\\Prgram files\\lib\\site-packages\\pandas\\core\\generic.py:5902\u001b[0m, in \u001b[0;36mNDFrame.__getattr__\u001b[1;34m(self, name)\u001b[0m\n\u001b[0;32m   5895\u001b[0m \u001b[38;5;28;01mif\u001b[39;00m (\n\u001b[0;32m   5896\u001b[0m     name \u001b[38;5;129;01mnot\u001b[39;00m \u001b[38;5;129;01min\u001b[39;00m \u001b[38;5;28mself\u001b[39m\u001b[38;5;241m.\u001b[39m_internal_names_set\n\u001b[0;32m   5897\u001b[0m     \u001b[38;5;129;01mand\u001b[39;00m name \u001b[38;5;129;01mnot\u001b[39;00m \u001b[38;5;129;01min\u001b[39;00m \u001b[38;5;28mself\u001b[39m\u001b[38;5;241m.\u001b[39m_metadata\n\u001b[0;32m   5898\u001b[0m     \u001b[38;5;129;01mand\u001b[39;00m name \u001b[38;5;129;01mnot\u001b[39;00m \u001b[38;5;129;01min\u001b[39;00m \u001b[38;5;28mself\u001b[39m\u001b[38;5;241m.\u001b[39m_accessors\n\u001b[0;32m   5899\u001b[0m     \u001b[38;5;129;01mand\u001b[39;00m \u001b[38;5;28mself\u001b[39m\u001b[38;5;241m.\u001b[39m_info_axis\u001b[38;5;241m.\u001b[39m_can_hold_identifiers_and_holds_name(name)\n\u001b[0;32m   5900\u001b[0m ):\n\u001b[0;32m   5901\u001b[0m     \u001b[38;5;28;01mreturn\u001b[39;00m \u001b[38;5;28mself\u001b[39m[name]\n\u001b[1;32m-> 5902\u001b[0m \u001b[38;5;28;01mreturn\u001b[39;00m \u001b[38;5;28;43mobject\u001b[39;49m\u001b[38;5;241;43m.\u001b[39;49m\u001b[38;5;21;43m__getattribute__\u001b[39;49m\u001b[43m(\u001b[49m\u001b[38;5;28;43mself\u001b[39;49m\u001b[43m,\u001b[49m\u001b[43m \u001b[49m\u001b[43mname\u001b[49m\u001b[43m)\u001b[49m\n",
      "\u001b[1;31mAttributeError\u001b[0m: 'Series' object has no attribute 'fit'"
     ]
    }
   ],
   "source": [
    "\n",
    "lrr.fit(X_train, y_train)"
   ]
  },
  {
   "cell_type": "code",
   "execution_count": 390,
   "id": "a79b4a56",
   "metadata": {},
   "outputs": [
    {
     "ename": "AttributeError",
     "evalue": "'Series' object has no attribute 'predict_proba'",
     "output_type": "error",
     "traceback": [
      "\u001b[1;31m---------------------------------------------------------------------------\u001b[0m",
      "\u001b[1;31mAttributeError\u001b[0m                            Traceback (most recent call last)",
      "Cell \u001b[1;32mIn[390], line 1\u001b[0m\n\u001b[1;32m----> 1\u001b[0m y_probs \u001b[38;5;241m=\u001b[39m \u001b[43mlrr\u001b[49m\u001b[38;5;241;43m.\u001b[39;49m\u001b[43mpredict_proba\u001b[49m(X_test)\n\u001b[0;32m      2\u001b[0m y_probs[:\u001b[38;5;241m5\u001b[39m]\n",
      "File \u001b[1;32mF:\\DataScience\\Prgram files\\lib\\site-packages\\pandas\\core\\generic.py:5902\u001b[0m, in \u001b[0;36mNDFrame.__getattr__\u001b[1;34m(self, name)\u001b[0m\n\u001b[0;32m   5895\u001b[0m \u001b[38;5;28;01mif\u001b[39;00m (\n\u001b[0;32m   5896\u001b[0m     name \u001b[38;5;129;01mnot\u001b[39;00m \u001b[38;5;129;01min\u001b[39;00m \u001b[38;5;28mself\u001b[39m\u001b[38;5;241m.\u001b[39m_internal_names_set\n\u001b[0;32m   5897\u001b[0m     \u001b[38;5;129;01mand\u001b[39;00m name \u001b[38;5;129;01mnot\u001b[39;00m \u001b[38;5;129;01min\u001b[39;00m \u001b[38;5;28mself\u001b[39m\u001b[38;5;241m.\u001b[39m_metadata\n\u001b[0;32m   5898\u001b[0m     \u001b[38;5;129;01mand\u001b[39;00m name \u001b[38;5;129;01mnot\u001b[39;00m \u001b[38;5;129;01min\u001b[39;00m \u001b[38;5;28mself\u001b[39m\u001b[38;5;241m.\u001b[39m_accessors\n\u001b[0;32m   5899\u001b[0m     \u001b[38;5;129;01mand\u001b[39;00m \u001b[38;5;28mself\u001b[39m\u001b[38;5;241m.\u001b[39m_info_axis\u001b[38;5;241m.\u001b[39m_can_hold_identifiers_and_holds_name(name)\n\u001b[0;32m   5900\u001b[0m ):\n\u001b[0;32m   5901\u001b[0m     \u001b[38;5;28;01mreturn\u001b[39;00m \u001b[38;5;28mself\u001b[39m[name]\n\u001b[1;32m-> 5902\u001b[0m \u001b[38;5;28;01mreturn\u001b[39;00m \u001b[38;5;28;43mobject\u001b[39;49m\u001b[38;5;241;43m.\u001b[39;49m\u001b[38;5;21;43m__getattribute__\u001b[39;49m\u001b[43m(\u001b[49m\u001b[38;5;28;43mself\u001b[39;49m\u001b[43m,\u001b[49m\u001b[43m \u001b[49m\u001b[43mname\u001b[49m\u001b[43m)\u001b[49m\n",
      "\u001b[1;31mAttributeError\u001b[0m: 'Series' object has no attribute 'predict_proba'"
     ]
    }
   ],
   "source": [
    "y_probs = lrr.predict_proba(X_test)\n",
    "y_probs[:5]"
   ]
  },
  {
   "cell_type": "code",
   "execution_count": 391,
   "id": "85ac76f4",
   "metadata": {},
   "outputs": [
    {
     "name": "stderr",
     "output_type": "stream",
     "text": [
      "C:\\Users\\Owner\\AppData\\Local\\Temp\\ipykernel_22504\\4278985181.py:9: RuntimeWarning: invalid value encountered in divide\n",
      "  f_scores = 2 * recall * precision / (recall + precision)\n"
     ]
    },
    {
     "name": "stdout",
     "output_type": "stream",
     "text": [
      "ROC_AUC: 0.51, AP (PR_AUC): 0.51, наилучший F1: nan с порогом 1.00 (accuracy 0.50)\n"
     ]
    },
    {
     "data": {
      "image/png": "[encoded data removed]",
      "text/plain": [
       "<Figure size 1200x500 with 2 Axes>"
      ]
     },
     "metadata": {},
     "output_type": "display_data"
    },
    {
     "data": {
      "image/png": "[encoded data removed]",
      "text/plain": [
       "<Figure size 1200x400 with 4 Axes>"
      ]
     },
     "metadata": {},
     "output_type": "display_data"
    }
   ],
   "source": [
    "visualize(y_test, y_probs[:,1]);"
   ]
  },
  {
   "cell_type": "code",
   "execution_count": 392,
   "id": "b1377f44",
   "metadata": {},
   "outputs": [
    {
     "ename": "AttributeError",
     "evalue": "'Series' object has no attribute 'coef_'",
     "output_type": "error",
     "traceback": [
      "\u001b[1;31m---------------------------------------------------------------------------\u001b[0m",
      "\u001b[1;31mAttributeError\u001b[0m                            Traceback (most recent call last)",
      "Cell \u001b[1;32mIn[392], line 1\u001b[0m\n\u001b[1;32m----> 1\u001b[0m \u001b[43mlr\u001b[49m\u001b[38;5;241;43m.\u001b[39;49m\u001b[43mcoef_\u001b[49m\n",
      "File \u001b[1;32mF:\\DataScience\\Prgram files\\lib\\site-packages\\pandas\\core\\generic.py:5902\u001b[0m, in \u001b[0;36mNDFrame.__getattr__\u001b[1;34m(self, name)\u001b[0m\n\u001b[0;32m   5895\u001b[0m \u001b[38;5;28;01mif\u001b[39;00m (\n\u001b[0;32m   5896\u001b[0m     name \u001b[38;5;129;01mnot\u001b[39;00m \u001b[38;5;129;01min\u001b[39;00m \u001b[38;5;28mself\u001b[39m\u001b[38;5;241m.\u001b[39m_internal_names_set\n\u001b[0;32m   5897\u001b[0m     \u001b[38;5;129;01mand\u001b[39;00m name \u001b[38;5;129;01mnot\u001b[39;00m \u001b[38;5;129;01min\u001b[39;00m \u001b[38;5;28mself\u001b[39m\u001b[38;5;241m.\u001b[39m_metadata\n\u001b[0;32m   5898\u001b[0m     \u001b[38;5;129;01mand\u001b[39;00m name \u001b[38;5;129;01mnot\u001b[39;00m \u001b[38;5;129;01min\u001b[39;00m \u001b[38;5;28mself\u001b[39m\u001b[38;5;241m.\u001b[39m_accessors\n\u001b[0;32m   5899\u001b[0m     \u001b[38;5;129;01mand\u001b[39;00m \u001b[38;5;28mself\u001b[39m\u001b[38;5;241m.\u001b[39m_info_axis\u001b[38;5;241m.\u001b[39m_can_hold_identifiers_and_holds_name(name)\n\u001b[0;32m   5900\u001b[0m ):\n\u001b[0;32m   5901\u001b[0m     \u001b[38;5;28;01mreturn\u001b[39;00m \u001b[38;5;28mself\u001b[39m[name]\n\u001b[1;32m-> 5902\u001b[0m \u001b[38;5;28;01mreturn\u001b[39;00m \u001b[38;5;28;43mobject\u001b[39;49m\u001b[38;5;241;43m.\u001b[39;49m\u001b[38;5;21;43m__getattribute__\u001b[39;49m\u001b[43m(\u001b[49m\u001b[38;5;28;43mself\u001b[39;49m\u001b[43m,\u001b[49m\u001b[43m \u001b[49m\u001b[43mname\u001b[49m\u001b[43m)\u001b[49m\n",
      "\u001b[1;31mAttributeError\u001b[0m: 'Series' object has no attribute 'coef_'"
     ]
    }
   ],
   "source": [
    "lr.coef_"
   ]
  },
  {
   "cell_type": "code",
   "execution_count": 393,
   "id": "5891419b",
   "metadata": {},
   "outputs": [
    {
     "ename": "AttributeError",
     "evalue": "'Series' object has no attribute 'intercept_'",
     "output_type": "error",
     "traceback": [
      "\u001b[1;31m---------------------------------------------------------------------------\u001b[0m",
      "\u001b[1;31mAttributeError\u001b[0m                            Traceback (most recent call last)",
      "Cell \u001b[1;32mIn[393], line 1\u001b[0m\n\u001b[1;32m----> 1\u001b[0m \u001b[43mlrr\u001b[49m\u001b[38;5;241;43m.\u001b[39;49m\u001b[43mintercept_\u001b[49m\n",
      "File \u001b[1;32mF:\\DataScience\\Prgram files\\lib\\site-packages\\pandas\\core\\generic.py:5902\u001b[0m, in \u001b[0;36mNDFrame.__getattr__\u001b[1;34m(self, name)\u001b[0m\n\u001b[0;32m   5895\u001b[0m \u001b[38;5;28;01mif\u001b[39;00m (\n\u001b[0;32m   5896\u001b[0m     name \u001b[38;5;129;01mnot\u001b[39;00m \u001b[38;5;129;01min\u001b[39;00m \u001b[38;5;28mself\u001b[39m\u001b[38;5;241m.\u001b[39m_internal_names_set\n\u001b[0;32m   5897\u001b[0m     \u001b[38;5;129;01mand\u001b[39;00m name \u001b[38;5;129;01mnot\u001b[39;00m \u001b[38;5;129;01min\u001b[39;00m \u001b[38;5;28mself\u001b[39m\u001b[38;5;241m.\u001b[39m_metadata\n\u001b[0;32m   5898\u001b[0m     \u001b[38;5;129;01mand\u001b[39;00m name \u001b[38;5;129;01mnot\u001b[39;00m \u001b[38;5;129;01min\u001b[39;00m \u001b[38;5;28mself\u001b[39m\u001b[38;5;241m.\u001b[39m_accessors\n\u001b[0;32m   5899\u001b[0m     \u001b[38;5;129;01mand\u001b[39;00m \u001b[38;5;28mself\u001b[39m\u001b[38;5;241m.\u001b[39m_info_axis\u001b[38;5;241m.\u001b[39m_can_hold_identifiers_and_holds_name(name)\n\u001b[0;32m   5900\u001b[0m ):\n\u001b[0;32m   5901\u001b[0m     \u001b[38;5;28;01mreturn\u001b[39;00m \u001b[38;5;28mself\u001b[39m[name]\n\u001b[1;32m-> 5902\u001b[0m \u001b[38;5;28;01mreturn\u001b[39;00m \u001b[38;5;28;43mobject\u001b[39;49m\u001b[38;5;241;43m.\u001b[39;49m\u001b[38;5;21;43m__getattribute__\u001b[39;49m\u001b[43m(\u001b[49m\u001b[38;5;28;43mself\u001b[39;49m\u001b[43m,\u001b[49m\u001b[43m \u001b[49m\u001b[43mname\u001b[49m\u001b[43m)\u001b[49m\n",
      "\u001b[1;31mAttributeError\u001b[0m: 'Series' object has no attribute 'intercept_'"
     ]
    }
   ],
   "source": [
    "lrr.intercept_"
   ]
  },
  {
   "cell_type": "code",
   "execution_count": null,
   "id": "f5bfcfff",
   "metadata": {},
   "outputs": [],
   "source": []
  },
  {
   "cell_type": "markdown",
   "id": "e454d513-18e4-4e82-afa1-f60b2b4ad58b",
   "metadata": {},
   "source": [
    "Проверьте метрику F1 с порогом по умолчанию. Попробуйте найти хороший порог классификации с помощью PR-кривой."
   ]
  },
  {
   "cell_type": "code",
   "execution_count": 204,
   "id": "fda3849d-2493-4c5e-9fc0-24503e64fd39",
   "metadata": {},
   "outputs": [],
   "source": [
    "# Ваш код ниже:\n"
   ]
  },
  {
   "cell_type": "markdown",
   "id": "a9c12a49-be79-4697-a9f5-833c8fdd3c33",
   "metadata": {},
   "source": [
    "Напишите краткий вывод. Хорошо ли работает модель? Если нет, то как вы думаете, почему?"
   ]
  },
  {
   "cell_type": "markdown",
   "id": "16d85f91-8d25-437e-a06b-955c03011cf5",
   "metadata": {},
   "source": [
    "Вывод: "
   ]
  },
  {
   "cell_type": "markdown",
   "id": "444d1002-ea3b-4274-9ceb-64580902d4b0",
   "metadata": {},
   "source": [
    "## Hard"
   ]
  },
  {
   "cell_type": "code",
   "execution_count": 236,
   "id": "745f2880-1868-46e4-86d4-3498730e7dec",
   "metadata": {},
   "outputs": [],
   "source": [
    "from sklearn.datasets import make_regression\n",
    "\n",
    "X, y = make_regression(n_samples=10000, n_features=20, n_informative=10)\n",
    "X_train, y_train = X[:8000], y[:8000]\n",
    "X_test, y_test = X[8000:], y[8000:]"
   ]
  },
  {
   "cell_type": "markdown",
   "id": "386f7969-2ebb-4509-beca-76cc95039008",
   "metadata": {},
   "source": [
    "1. Постройте модель линейной регрессии. Оцените метрику на тестовой выборке."
   ]
  },
  {
   "cell_type": "code",
   "execution_count": 231,
   "id": "82b8b13f-be35-4a88-ab1f-3f14025dec9d",
   "metadata": {},
   "outputs": [],
   "source": [
    "# Ваш код ниже:\n"
   ]
  },
  {
   "cell_type": "markdown",
   "id": "bc55542a-bd20-4d05-9bda-bccfa9274a42",
   "metadata": {},
   "source": [
    "2. Сгенерируйте случайную матрицу 20х20 (можно воспользоваться `sklearn.datasets.make_spd_matrix()`). Проверьте ее на невырожденность (`np.linalg.det()` не должен равняться 0).\n",
    "\n",
    "    Умножьте X_train и X_test на эту матрицу. Постройте модель линейной регрессии по этим преобразованным данным.\n",
    "\n",
    "    Проверьте метрику. Что вы наблюдаете?"
   ]
  },
  {
   "cell_type": "code",
   "execution_count": 231,
   "id": "dbabee57",
   "metadata": {},
   "outputs": [],
   "source": [
    "# Ваш код ниже:\n"
   ]
  },
  {
   "cell_type": "markdown",
   "id": "6651477d-4e52-47ff-95cd-ead56a987814",
   "metadata": {},
   "source": [
    "С помощью линейной алгебры и формул линейной регрессии объясните, почему так происходит."
   ]
  },
  {
   "cell_type": "markdown",
   "id": "af9373fe-1086-4c3e-8f96-62e0319d984a",
   "metadata": {},
   "source": []
  }
 ],
 "metadata": {
  "kernelspec": {
   "display_name": "Python 3 (ipykernel)",
   "language": "python",
   "name": "python3"
  },
  "language_info": {
   "codemirror_mode": {
    "name": "ipython",
    "version": 3
   },
   "file_extension": ".py",
   "mimetype": "text/x-python",
   "name": "python",
   "nbconvert_exporter": "python",
   "pygments_lexer": "ipython3",
   "version": "3.10.9"
  },
  "widgets": {
   "application/vnd.jupyter.widget-state+json": {
    "state": {},
    "version_major": 2,
    "version_minor": 0
   }
  }
 },
 "nbformat": 4,
 "nbformat_minor": 5
}
