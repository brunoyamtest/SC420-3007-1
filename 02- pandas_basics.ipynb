{
 "cells": [
  {
   "cell_type": "markdown",
   "id": "a4b39641",
   "metadata": {},
   "source": [
    "# Основы Pandas"
   ]
  },
  {
   "cell_type": "markdown",
   "id": "2bdfb4ef",
   "metadata": {},
   "source": [
    "## Загрузка данных"
   ]
  },
  {
   "cell_type": "code",
   "execution_count": 2,
   "id": "58047299",
   "metadata": {},
   "outputs": [],
   "source": [
    "import pandas as pd"
   ]
  },
  {
   "cell_type": "code",
   "execution_count": 3,
   "id": "f8862352",
   "metadata": {},
   "outputs": [],
   "source": [
    "df = pd.read_csv('ds_salaries_mod.csv')"
   ]
  },
  {
   "cell_type": "markdown",
   "id": "4283e3ac",
   "metadata": {},
   "source": [
    "Наши задачи на этом уроке:\n",
    "\n",
    "- обзор данных;\n",
    "- предобработка данных;\n",
    "- анализ, проверка гипотез."
   ]
  },
  {
   "cell_type": "markdown",
   "id": "6dfe6722",
   "metadata": {},
   "source": [
    "## Обзор данных"
   ]
  },
  {
   "cell_type": "code",
   "execution_count": 38,
   "id": "8db7face",
   "metadata": {},
   "outputs": [
    {
     "data": {
      "text/html": [
       "<div>\n",
       "<style scoped>\n",
       "    .dataframe tbody tr th:only-of-type {\n",
       "        vertical-align: middle;\n",
       "    }\n",
       "\n",
       "    .dataframe tbody tr th {\n",
       "        vertical-align: top;\n",
       "    }\n",
       "\n",
       "    .dataframe thead th {\n",
       "        text-align: right;\n",
       "    }\n",
       "</style>\n",
       "<table border=\"1\" class=\"dataframe\">\n",
       "  <thead>\n",
       "    <tr style=\"text-align: right;\">\n",
       "      <th></th>\n",
       "      <th>work_year</th>\n",
       "      <th>experience_level</th>\n",
       "      <th>employment_type</th>\n",
       "      <th>job_title</th>\n",
       "      <th>salary</th>\n",
       "      <th>salary_currency</th>\n",
       "      <th>salary_in_usd</th>\n",
       "      <th>employee_residence</th>\n",
       "      <th>remote_ratio</th>\n",
       "      <th>company_location</th>\n",
       "      <th>company_size</th>\n",
       "    </tr>\n",
       "  </thead>\n",
       "  <tbody>\n",
       "    <tr>\n",
       "      <th>0</th>\n",
       "      <td>2023</td>\n",
       "      <td>SE</td>\n",
       "      <td>FT</td>\n",
       "      <td>Principal Data Scientist</td>\n",
       "      <td>80000</td>\n",
       "      <td>EUR</td>\n",
       "      <td>85847.0</td>\n",
       "      <td>ES</td>\n",
       "      <td>100</td>\n",
       "      <td>ES</td>\n",
       "      <td>L</td>\n",
       "    </tr>\n",
       "    <tr>\n",
       "      <th>1</th>\n",
       "      <td>2023</td>\n",
       "      <td>MI</td>\n",
       "      <td>CT</td>\n",
       "      <td>ML Engineer</td>\n",
       "      <td>30000</td>\n",
       "      <td>USD</td>\n",
       "      <td>30000.0</td>\n",
       "      <td>US</td>\n",
       "      <td>100</td>\n",
       "      <td>US</td>\n",
       "      <td>S</td>\n",
       "    </tr>\n",
       "    <tr>\n",
       "      <th>2</th>\n",
       "      <td>2023</td>\n",
       "      <td>MI</td>\n",
       "      <td>CT</td>\n",
       "      <td>ML Engineer</td>\n",
       "      <td>25500</td>\n",
       "      <td>USD</td>\n",
       "      <td>25500.0</td>\n",
       "      <td>US</td>\n",
       "      <td>100</td>\n",
       "      <td>US</td>\n",
       "      <td>S</td>\n",
       "    </tr>\n",
       "    <tr>\n",
       "      <th>3</th>\n",
       "      <td>2023</td>\n",
       "      <td>SE</td>\n",
       "      <td>FT</td>\n",
       "      <td>Data Scientist</td>\n",
       "      <td>175000</td>\n",
       "      <td>USD</td>\n",
       "      <td>175000.0</td>\n",
       "      <td>CA</td>\n",
       "      <td>100</td>\n",
       "      <td>CA</td>\n",
       "      <td>M</td>\n",
       "    </tr>\n",
       "    <tr>\n",
       "      <th>4</th>\n",
       "      <td>2023</td>\n",
       "      <td>SE</td>\n",
       "      <td>FT</td>\n",
       "      <td>Data Scientist</td>\n",
       "      <td>120000</td>\n",
       "      <td>USD</td>\n",
       "      <td>120000.0</td>\n",
       "      <td>CA</td>\n",
       "      <td>100</td>\n",
       "      <td>CA</td>\n",
       "      <td>M</td>\n",
       "    </tr>\n",
       "    <tr>\n",
       "      <th>...</th>\n",
       "      <td>...</td>\n",
       "      <td>...</td>\n",
       "      <td>...</td>\n",
       "      <td>...</td>\n",
       "      <td>...</td>\n",
       "      <td>...</td>\n",
       "      <td>...</td>\n",
       "      <td>...</td>\n",
       "      <td>...</td>\n",
       "      <td>...</td>\n",
       "      <td>...</td>\n",
       "    </tr>\n",
       "    <tr>\n",
       "      <th>3750</th>\n",
       "      <td>2020</td>\n",
       "      <td>SE</td>\n",
       "      <td>FT</td>\n",
       "      <td>Data Scientist</td>\n",
       "      <td>412000</td>\n",
       "      <td>USD</td>\n",
       "      <td>412000.0</td>\n",
       "      <td>US</td>\n",
       "      <td>100</td>\n",
       "      <td>US</td>\n",
       "      <td>L</td>\n",
       "    </tr>\n",
       "    <tr>\n",
       "      <th>3751</th>\n",
       "      <td>2021</td>\n",
       "      <td>MI</td>\n",
       "      <td>FT</td>\n",
       "      <td>Principal Data Scientist</td>\n",
       "      <td>151000</td>\n",
       "      <td>USD</td>\n",
       "      <td>151000.0</td>\n",
       "      <td>US</td>\n",
       "      <td>100</td>\n",
       "      <td>US</td>\n",
       "      <td>L</td>\n",
       "    </tr>\n",
       "    <tr>\n",
       "      <th>3752</th>\n",
       "      <td>2020</td>\n",
       "      <td>EN</td>\n",
       "      <td>FT</td>\n",
       "      <td>Data Scientist</td>\n",
       "      <td>105000</td>\n",
       "      <td>USD</td>\n",
       "      <td>105000.0</td>\n",
       "      <td>US</td>\n",
       "      <td>100</td>\n",
       "      <td>US</td>\n",
       "      <td>S</td>\n",
       "    </tr>\n",
       "    <tr>\n",
       "      <th>3753</th>\n",
       "      <td>2020</td>\n",
       "      <td>EN</td>\n",
       "      <td>CT</td>\n",
       "      <td>Business Data Analyst</td>\n",
       "      <td>100000</td>\n",
       "      <td>USD</td>\n",
       "      <td>100000.0</td>\n",
       "      <td>US</td>\n",
       "      <td>100</td>\n",
       "      <td>US</td>\n",
       "      <td>L</td>\n",
       "    </tr>\n",
       "    <tr>\n",
       "      <th>3754</th>\n",
       "      <td>2021</td>\n",
       "      <td>SE</td>\n",
       "      <td>FT</td>\n",
       "      <td>Data Science Manager</td>\n",
       "      <td>7000000</td>\n",
       "      <td>INR</td>\n",
       "      <td>94665.0</td>\n",
       "      <td>IN</td>\n",
       "      <td>50</td>\n",
       "      <td>IN</td>\n",
       "      <td>L</td>\n",
       "    </tr>\n",
       "  </tbody>\n",
       "</table>\n",
       "<p>3755 rows × 11 columns</p>\n",
       "</div>"
      ],
      "text/plain": [
       "      work_year experience_level employment_type                 job_title  \\\n",
       "0          2023               SE              FT  Principal Data Scientist   \n",
       "1          2023               MI              CT               ML Engineer   \n",
       "2          2023               MI              CT               ML Engineer   \n",
       "3          2023               SE              FT            Data Scientist   \n",
       "4          2023               SE              FT            Data Scientist   \n",
       "...         ...              ...             ...                       ...   \n",
       "3750       2020               SE              FT            Data Scientist   \n",
       "3751       2021               MI              FT  Principal Data Scientist   \n",
       "3752       2020               EN              FT            Data Scientist   \n",
       "3753       2020               EN              CT     Business Data Analyst   \n",
       "3754       2021               SE              FT      Data Science Manager   \n",
       "\n",
       "       salary salary_currency  salary_in_usd employee_residence  remote_ratio  \\\n",
       "0       80000             EUR        85847.0                 ES           100   \n",
       "1       30000             USD        30000.0                 US           100   \n",
       "2       25500             USD        25500.0                 US           100   \n",
       "3      175000             USD       175000.0                 CA           100   \n",
       "4      120000             USD       120000.0                 CA           100   \n",
       "...       ...             ...            ...                ...           ...   \n",
       "3750   412000             USD       412000.0                 US           100   \n",
       "3751   151000             USD       151000.0                 US           100   \n",
       "3752   105000             USD       105000.0                 US           100   \n",
       "3753   100000             USD       100000.0                 US           100   \n",
       "3754  7000000             INR        94665.0                 IN            50   \n",
       "\n",
       "     company_location company_size  \n",
       "0                  ES            L  \n",
       "1                  US            S  \n",
       "2                  US            S  \n",
       "3                  CA            M  \n",
       "4                  CA            M  \n",
       "...               ...          ...  \n",
       "3750               US            L  \n",
       "3751               US            L  \n",
       "3752               US            S  \n",
       "3753               US            L  \n",
       "3754               IN            L  \n",
       "\n",
       "[3755 rows x 11 columns]"
      ]
     },
     "execution_count": 38,
     "metadata": {},
     "output_type": "execute_result"
    }
   ],
   "source": [
    "df"
   ]
  },
  {
   "cell_type": "markdown",
   "id": "664655c2",
   "metadata": {},
   "source": [
    "EN MI SE EX"
   ]
  },
  {
   "cell_type": "code",
   "execution_count": null,
   "id": "d617aa16",
   "metadata": {},
   "outputs": [],
   "source": [
    "df.head(10)"
   ]
  },
  {
   "cell_type": "code",
   "execution_count": null,
   "id": "7d0841ae",
   "metadata": {},
   "outputs": [],
   "source": [
    "df.tail(3)"
   ]
  },
  {
   "cell_type": "code",
   "execution_count": null,
   "id": "a5cf6468",
   "metadata": {},
   "outputs": [],
   "source": [
    "df.sample(5, random_state=177013)"
   ]
  },
  {
   "cell_type": "code",
   "execution_count": null,
   "id": "efd217f3",
   "metadata": {},
   "outputs": [],
   "source": [
    "df.sample(frac=0.001)"
   ]
  },
  {
   "cell_type": "code",
   "execution_count": 88,
   "id": "4b9fd371",
   "metadata": {},
   "outputs": [
    {
     "name": "stdout",
     "output_type": "stream",
     "text": [
      "<class 'pandas.core.frame.DataFrame'>\n",
      "RangeIndex: 3755 entries, 0 to 3754\n",
      "Data columns (total 12 columns):\n",
      " #   Column              Non-Null Count  Dtype  \n",
      "---  ------              --------------  -----  \n",
      " 0   work_year           3755 non-null   int64  \n",
      " 1   experience_level    3755 non-null   object \n",
      " 2   employment_type     3755 non-null   object \n",
      " 3   job_title           3755 non-null   object \n",
      " 4   salary              3755 non-null   int64  \n",
      " 5   salary_currency     3755 non-null   object \n",
      " 6   salary_in_usd       2871 non-null   float64\n",
      " 7   employee_residence  3755 non-null   object \n",
      " 8   remote_ratio        3755 non-null   int64  \n",
      " 9   company_location    3755 non-null   object \n",
      " 10  company_size        3755 non-null   object \n",
      " 11  same_country        3755 non-null   bool   \n",
      "dtypes: bool(1), float64(1), int64(3), object(7)\n",
      "memory usage: 326.5+ KB\n"
     ]
    }
   ],
   "source": [
    "df.info()"
   ]
  },
  {
   "cell_type": "markdown",
   "id": "0e365b0e",
   "metadata": {},
   "source": [
    "## Удаление пропусков"
   ]
  },
  {
   "cell_type": "code",
   "execution_count": 22,
   "id": "41a6817f",
   "metadata": {},
   "outputs": [],
   "source": [
    "df_clean = df.dropna()"
   ]
  },
  {
   "cell_type": "code",
   "execution_count": 23,
   "id": "5a34224e",
   "metadata": {},
   "outputs": [
    {
     "name": "stdout",
     "output_type": "stream",
     "text": [
      "<class 'pandas.core.frame.DataFrame'>\n",
      "Int64Index: 0 entries\n",
      "Data columns (total 11 columns):\n",
      " #   Column              Non-Null Count  Dtype  \n",
      "---  ------              --------------  -----  \n",
      " 0   work_year           0 non-null      int64  \n",
      " 1   experience_level    0 non-null      object \n",
      " 2   employment_type     0 non-null      object \n",
      " 3   job_title           0 non-null      object \n",
      " 4   salary              0 non-null      int64  \n",
      " 5   salary_currency     0 non-null      object \n",
      " 6   salary_in_usd       0 non-null      float64\n",
      " 7   employee_residence  0 non-null      object \n",
      " 8   remote_ratio        0 non-null      int64  \n",
      " 9   company_location    0 non-null      object \n",
      " 10  company_size        0 non-null      object \n",
      "dtypes: float64(1), int64(3), object(7)\n",
      "memory usage: 0.0+ bytes\n"
     ]
    }
   ],
   "source": [
    "df_clean.info()"
   ]
  },
  {
   "cell_type": "markdown",
   "id": "4a544883",
   "metadata": {},
   "source": [
    "## Проверка на дубликаты"
   ]
  },
  {
   "cell_type": "code",
   "execution_count": 20,
   "id": "59f2faf7",
   "metadata": {},
   "outputs": [
    {
     "data": {
      "text/plain": [
       "0"
      ]
     },
     "execution_count": 20,
     "metadata": {},
     "output_type": "execute_result"
    }
   ],
   "source": [
    "df.duplicated().sum()"
   ]
  },
  {
   "cell_type": "code",
   "execution_count": null,
   "id": "9d2ff393",
   "metadata": {},
   "outputs": [],
   "source": [
    "# df = df.drop_duplicates()"
   ]
  },
  {
   "cell_type": "markdown",
   "id": "27935491",
   "metadata": {},
   "source": [
    "## Индексация"
   ]
  },
  {
   "cell_type": "code",
   "execution_count": 39,
   "id": "1622d53e",
   "metadata": {},
   "outputs": [
    {
     "data": {
      "text/plain": [
       "0        85847.0\n",
       "1        30000.0\n",
       "2        25500.0\n",
       "3       175000.0\n",
       "4       120000.0\n",
       "          ...   \n",
       "3750    412000.0\n",
       "3751    151000.0\n",
       "3752    105000.0\n",
       "3753    100000.0\n",
       "3754     94665.0\n",
       "Name: salary_in_usd, Length: 3755, dtype: float64"
      ]
     },
     "execution_count": 39,
     "metadata": {},
     "output_type": "execute_result"
    }
   ],
   "source": [
    "df['salary_in_usd']"
   ]
  },
  {
   "cell_type": "markdown",
   "id": "8f4c6e4b",
   "metadata": {},
   "source": [
    "### Классическая"
   ]
  },
  {
   "cell_type": "code",
   "execution_count": 40,
   "id": "94e95a78",
   "metadata": {},
   "outputs": [],
   "source": [
    "year_2023 = (df['work_year'] == 2023)"
   ]
  },
  {
   "cell_type": "code",
   "execution_count": 41,
   "id": "d77ad676",
   "metadata": {},
   "outputs": [
    {
     "data": {
      "text/plain": [
       "0        True\n",
       "1        True\n",
       "2        True\n",
       "3        True\n",
       "4        True\n",
       "        ...  \n",
       "3750    False\n",
       "3751    False\n",
       "3752    False\n",
       "3753    False\n",
       "3754    False\n",
       "Name: work_year, Length: 3755, dtype: bool"
      ]
     },
     "execution_count": 41,
     "metadata": {},
     "output_type": "execute_result"
    }
   ],
   "source": [
    "year_2023"
   ]
  },
  {
   "cell_type": "code",
   "execution_count": 42,
   "id": "fbe445f1",
   "metadata": {},
   "outputs": [
    {
     "data": {
      "text/html": [
       "<div>\n",
       "<style scoped>\n",
       "    .dataframe tbody tr th:only-of-type {\n",
       "        vertical-align: middle;\n",
       "    }\n",
       "\n",
       "    .dataframe tbody tr th {\n",
       "        vertical-align: top;\n",
       "    }\n",
       "\n",
       "    .dataframe thead th {\n",
       "        text-align: right;\n",
       "    }\n",
       "</style>\n",
       "<table border=\"1\" class=\"dataframe\">\n",
       "  <thead>\n",
       "    <tr style=\"text-align: right;\">\n",
       "      <th></th>\n",
       "      <th>work_year</th>\n",
       "      <th>experience_level</th>\n",
       "      <th>employment_type</th>\n",
       "      <th>job_title</th>\n",
       "      <th>salary</th>\n",
       "      <th>salary_currency</th>\n",
       "      <th>salary_in_usd</th>\n",
       "      <th>employee_residence</th>\n",
       "      <th>remote_ratio</th>\n",
       "      <th>company_location</th>\n",
       "      <th>company_size</th>\n",
       "    </tr>\n",
       "  </thead>\n",
       "  <tbody>\n",
       "    <tr>\n",
       "      <th>1815</th>\n",
       "      <td>2023</td>\n",
       "      <td>SE</td>\n",
       "      <td>FT</td>\n",
       "      <td>Machine Learning Engineer</td>\n",
       "      <td>134500</td>\n",
       "      <td>USD</td>\n",
       "      <td>134500.0</td>\n",
       "      <td>US</td>\n",
       "      <td>0</td>\n",
       "      <td>US</td>\n",
       "      <td>L</td>\n",
       "    </tr>\n",
       "    <tr>\n",
       "      <th>1817</th>\n",
       "      <td>2023</td>\n",
       "      <td>MI</td>\n",
       "      <td>FT</td>\n",
       "      <td>Data Scientist</td>\n",
       "      <td>130000</td>\n",
       "      <td>USD</td>\n",
       "      <td>130000.0</td>\n",
       "      <td>US</td>\n",
       "      <td>0</td>\n",
       "      <td>US</td>\n",
       "      <td>M</td>\n",
       "    </tr>\n",
       "    <tr>\n",
       "      <th>1818</th>\n",
       "      <td>2023</td>\n",
       "      <td>MI</td>\n",
       "      <td>FT</td>\n",
       "      <td>Data Scientist</td>\n",
       "      <td>90000</td>\n",
       "      <td>USD</td>\n",
       "      <td>90000.0</td>\n",
       "      <td>US</td>\n",
       "      <td>0</td>\n",
       "      <td>US</td>\n",
       "      <td>M</td>\n",
       "    </tr>\n",
       "    <tr>\n",
       "      <th>1819</th>\n",
       "      <td>2023</td>\n",
       "      <td>EN</td>\n",
       "      <td>FT</td>\n",
       "      <td>Data Engineer</td>\n",
       "      <td>160000</td>\n",
       "      <td>USD</td>\n",
       "      <td>160000.0</td>\n",
       "      <td>US</td>\n",
       "      <td>0</td>\n",
       "      <td>US</td>\n",
       "      <td>M</td>\n",
       "    </tr>\n",
       "    <tr>\n",
       "      <th>1820</th>\n",
       "      <td>2023</td>\n",
       "      <td>EN</td>\n",
       "      <td>FT</td>\n",
       "      <td>Data Engineer</td>\n",
       "      <td>135000</td>\n",
       "      <td>USD</td>\n",
       "      <td>135000.0</td>\n",
       "      <td>US</td>\n",
       "      <td>0</td>\n",
       "      <td>US</td>\n",
       "      <td>M</td>\n",
       "    </tr>\n",
       "  </tbody>\n",
       "</table>\n",
       "</div>"
      ],
      "text/plain": [
       "      work_year experience_level employment_type                  job_title  \\\n",
       "1815       2023               SE              FT  Machine Learning Engineer   \n",
       "1817       2023               MI              FT             Data Scientist   \n",
       "1818       2023               MI              FT             Data Scientist   \n",
       "1819       2023               EN              FT              Data Engineer   \n",
       "1820       2023               EN              FT              Data Engineer   \n",
       "\n",
       "      salary salary_currency  salary_in_usd employee_residence  remote_ratio  \\\n",
       "1815  134500             USD       134500.0                 US             0   \n",
       "1817  130000             USD       130000.0                 US             0   \n",
       "1818   90000             USD        90000.0                 US             0   \n",
       "1819  160000             USD       160000.0                 US             0   \n",
       "1820  135000             USD       135000.0                 US             0   \n",
       "\n",
       "     company_location company_size  \n",
       "1815               US            L  \n",
       "1817               US            M  \n",
       "1818               US            M  \n",
       "1819               US            M  \n",
       "1820               US            M  "
      ]
     },
     "execution_count": 42,
     "metadata": {},
     "output_type": "execute_result"
    }
   ],
   "source": [
    "df[year_2023].tail()"
   ]
  },
  {
   "cell_type": "code",
   "execution_count": 43,
   "id": "dd542c5c",
   "metadata": {},
   "outputs": [
    {
     "data": {
      "text/html": [
       "<div>\n",
       "<style scoped>\n",
       "    .dataframe tbody tr th:only-of-type {\n",
       "        vertical-align: middle;\n",
       "    }\n",
       "\n",
       "    .dataframe tbody tr th {\n",
       "        vertical-align: top;\n",
       "    }\n",
       "\n",
       "    .dataframe thead th {\n",
       "        text-align: right;\n",
       "    }\n",
       "</style>\n",
       "<table border=\"1\" class=\"dataframe\">\n",
       "  <thead>\n",
       "    <tr style=\"text-align: right;\">\n",
       "      <th></th>\n",
       "      <th>work_year</th>\n",
       "      <th>experience_level</th>\n",
       "      <th>employment_type</th>\n",
       "      <th>job_title</th>\n",
       "      <th>salary</th>\n",
       "      <th>salary_currency</th>\n",
       "      <th>salary_in_usd</th>\n",
       "      <th>employee_residence</th>\n",
       "      <th>remote_ratio</th>\n",
       "      <th>company_location</th>\n",
       "      <th>company_size</th>\n",
       "    </tr>\n",
       "  </thead>\n",
       "  <tbody>\n",
       "    <tr>\n",
       "      <th>1815</th>\n",
       "      <td>2023</td>\n",
       "      <td>SE</td>\n",
       "      <td>FT</td>\n",
       "      <td>Machine Learning Engineer</td>\n",
       "      <td>134500</td>\n",
       "      <td>USD</td>\n",
       "      <td>134500.0</td>\n",
       "      <td>US</td>\n",
       "      <td>0</td>\n",
       "      <td>US</td>\n",
       "      <td>L</td>\n",
       "    </tr>\n",
       "    <tr>\n",
       "      <th>1817</th>\n",
       "      <td>2023</td>\n",
       "      <td>MI</td>\n",
       "      <td>FT</td>\n",
       "      <td>Data Scientist</td>\n",
       "      <td>130000</td>\n",
       "      <td>USD</td>\n",
       "      <td>130000.0</td>\n",
       "      <td>US</td>\n",
       "      <td>0</td>\n",
       "      <td>US</td>\n",
       "      <td>M</td>\n",
       "    </tr>\n",
       "    <tr>\n",
       "      <th>1818</th>\n",
       "      <td>2023</td>\n",
       "      <td>MI</td>\n",
       "      <td>FT</td>\n",
       "      <td>Data Scientist</td>\n",
       "      <td>90000</td>\n",
       "      <td>USD</td>\n",
       "      <td>90000.0</td>\n",
       "      <td>US</td>\n",
       "      <td>0</td>\n",
       "      <td>US</td>\n",
       "      <td>M</td>\n",
       "    </tr>\n",
       "    <tr>\n",
       "      <th>1819</th>\n",
       "      <td>2023</td>\n",
       "      <td>EN</td>\n",
       "      <td>FT</td>\n",
       "      <td>Data Engineer</td>\n",
       "      <td>160000</td>\n",
       "      <td>USD</td>\n",
       "      <td>160000.0</td>\n",
       "      <td>US</td>\n",
       "      <td>0</td>\n",
       "      <td>US</td>\n",
       "      <td>M</td>\n",
       "    </tr>\n",
       "    <tr>\n",
       "      <th>1820</th>\n",
       "      <td>2023</td>\n",
       "      <td>EN</td>\n",
       "      <td>FT</td>\n",
       "      <td>Data Engineer</td>\n",
       "      <td>135000</td>\n",
       "      <td>USD</td>\n",
       "      <td>135000.0</td>\n",
       "      <td>US</td>\n",
       "      <td>0</td>\n",
       "      <td>US</td>\n",
       "      <td>M</td>\n",
       "    </tr>\n",
       "  </tbody>\n",
       "</table>\n",
       "</div>"
      ],
      "text/plain": [
       "      work_year experience_level employment_type                  job_title  \\\n",
       "1815       2023               SE              FT  Machine Learning Engineer   \n",
       "1817       2023               MI              FT             Data Scientist   \n",
       "1818       2023               MI              FT             Data Scientist   \n",
       "1819       2023               EN              FT              Data Engineer   \n",
       "1820       2023               EN              FT              Data Engineer   \n",
       "\n",
       "      salary salary_currency  salary_in_usd employee_residence  remote_ratio  \\\n",
       "1815  134500             USD       134500.0                 US             0   \n",
       "1817  130000             USD       130000.0                 US             0   \n",
       "1818   90000             USD        90000.0                 US             0   \n",
       "1819  160000             USD       160000.0                 US             0   \n",
       "1820  135000             USD       135000.0                 US             0   \n",
       "\n",
       "     company_location company_size  \n",
       "1815               US            L  \n",
       "1817               US            M  \n",
       "1818               US            M  \n",
       "1819               US            M  \n",
       "1820               US            M  "
      ]
     },
     "execution_count": 43,
     "metadata": {},
     "output_type": "execute_result"
    }
   ],
   "source": [
    "df[df['work_year'] == 2023].tail()"
   ]
  },
  {
   "cell_type": "markdown",
   "id": "967e0a20",
   "metadata": {},
   "source": [
    "### Query"
   ]
  },
  {
   "cell_type": "code",
   "execution_count": 81,
   "id": "86c32968",
   "metadata": {},
   "outputs": [
    {
     "data": {
      "text/html": [
       "<div>\n",
       "<style scoped>\n",
       "    .dataframe tbody tr th:only-of-type {\n",
       "        vertical-align: middle;\n",
       "    }\n",
       "\n",
       "    .dataframe tbody tr th {\n",
       "        vertical-align: top;\n",
       "    }\n",
       "\n",
       "    .dataframe thead th {\n",
       "        text-align: right;\n",
       "    }\n",
       "</style>\n",
       "<table border=\"1\" class=\"dataframe\">\n",
       "  <thead>\n",
       "    <tr style=\"text-align: right;\">\n",
       "      <th></th>\n",
       "      <th>work_year</th>\n",
       "      <th>experience_level</th>\n",
       "      <th>employment_type</th>\n",
       "      <th>job_title</th>\n",
       "      <th>salary</th>\n",
       "      <th>salary_currency</th>\n",
       "      <th>salary_in_usd</th>\n",
       "      <th>employee_residence</th>\n",
       "      <th>remote_ratio</th>\n",
       "      <th>company_location</th>\n",
       "      <th>company_size</th>\n",
       "      <th>same_country</th>\n",
       "    </tr>\n",
       "  </thead>\n",
       "  <tbody>\n",
       "    <tr>\n",
       "      <th>1815</th>\n",
       "      <td>2023</td>\n",
       "      <td>SE</td>\n",
       "      <td>FT</td>\n",
       "      <td>Machine Learning Engineer</td>\n",
       "      <td>134500</td>\n",
       "      <td>USD</td>\n",
       "      <td>134500.0</td>\n",
       "      <td>US</td>\n",
       "      <td>0</td>\n",
       "      <td>US</td>\n",
       "      <td>L</td>\n",
       "      <td>True</td>\n",
       "    </tr>\n",
       "    <tr>\n",
       "      <th>1817</th>\n",
       "      <td>2023</td>\n",
       "      <td>MI</td>\n",
       "      <td>FT</td>\n",
       "      <td>Data Scientist</td>\n",
       "      <td>130000</td>\n",
       "      <td>USD</td>\n",
       "      <td>130000.0</td>\n",
       "      <td>US</td>\n",
       "      <td>0</td>\n",
       "      <td>US</td>\n",
       "      <td>M</td>\n",
       "      <td>True</td>\n",
       "    </tr>\n",
       "    <tr>\n",
       "      <th>1818</th>\n",
       "      <td>2023</td>\n",
       "      <td>MI</td>\n",
       "      <td>FT</td>\n",
       "      <td>Data Scientist</td>\n",
       "      <td>90000</td>\n",
       "      <td>USD</td>\n",
       "      <td>90000.0</td>\n",
       "      <td>US</td>\n",
       "      <td>0</td>\n",
       "      <td>US</td>\n",
       "      <td>M</td>\n",
       "      <td>True</td>\n",
       "    </tr>\n",
       "    <tr>\n",
       "      <th>1819</th>\n",
       "      <td>2023</td>\n",
       "      <td>EN</td>\n",
       "      <td>FT</td>\n",
       "      <td>Data Engineer</td>\n",
       "      <td>160000</td>\n",
       "      <td>USD</td>\n",
       "      <td>160000.0</td>\n",
       "      <td>US</td>\n",
       "      <td>0</td>\n",
       "      <td>US</td>\n",
       "      <td>M</td>\n",
       "      <td>True</td>\n",
       "    </tr>\n",
       "    <tr>\n",
       "      <th>1820</th>\n",
       "      <td>2023</td>\n",
       "      <td>EN</td>\n",
       "      <td>FT</td>\n",
       "      <td>Data Engineer</td>\n",
       "      <td>135000</td>\n",
       "      <td>USD</td>\n",
       "      <td>135000.0</td>\n",
       "      <td>US</td>\n",
       "      <td>0</td>\n",
       "      <td>US</td>\n",
       "      <td>M</td>\n",
       "      <td>True</td>\n",
       "    </tr>\n",
       "  </tbody>\n",
       "</table>\n",
       "</div>"
      ],
      "text/plain": [
       "      work_year experience_level employment_type                  job_title  \\\n",
       "1815       2023               SE              FT  Machine Learning Engineer   \n",
       "1817       2023               MI              FT             Data Scientist   \n",
       "1818       2023               MI              FT             Data Scientist   \n",
       "1819       2023               EN              FT              Data Engineer   \n",
       "1820       2023               EN              FT              Data Engineer   \n",
       "\n",
       "      salary salary_currency  salary_in_usd employee_residence  remote_ratio  \\\n",
       "1815  134500             USD       134500.0                 US             0   \n",
       "1817  130000             USD       130000.0                 US             0   \n",
       "1818   90000             USD        90000.0                 US             0   \n",
       "1819  160000             USD       160000.0                 US             0   \n",
       "1820  135000             USD       135000.0                 US             0   \n",
       "\n",
       "     company_location company_size  same_country  \n",
       "1815               US            L          True  \n",
       "1817               US            M          True  \n",
       "1818               US            M          True  \n",
       "1819               US            M          True  \n",
       "1820               US            M          True  "
      ]
     },
     "execution_count": 81,
     "metadata": {},
     "output_type": "execute_result"
    }
   ],
   "source": [
    "df.query('work_year == 2023').tail()"
   ]
  },
  {
   "cell_type": "markdown",
   "id": "f1d9dae5",
   "metadata": {},
   "source": [
    "### .loc() и .iloc()"
   ]
  },
  {
   "cell_type": "code",
   "execution_count": 82,
   "id": "058917ad",
   "metadata": {},
   "outputs": [],
   "source": [
    "df_2022 = df[df['work_year'] == 2022]"
   ]
  },
  {
   "cell_type": "code",
   "execution_count": 83,
   "id": "ea11f70a",
   "metadata": {},
   "outputs": [
    {
     "data": {
      "text/html": [
       "<div>\n",
       "<style scoped>\n",
       "    .dataframe tbody tr th:only-of-type {\n",
       "        vertical-align: middle;\n",
       "    }\n",
       "\n",
       "    .dataframe tbody tr th {\n",
       "        vertical-align: top;\n",
       "    }\n",
       "\n",
       "    .dataframe thead th {\n",
       "        text-align: right;\n",
       "    }\n",
       "</style>\n",
       "<table border=\"1\" class=\"dataframe\">\n",
       "  <thead>\n",
       "    <tr style=\"text-align: right;\">\n",
       "      <th></th>\n",
       "      <th>work_year</th>\n",
       "      <th>experience_level</th>\n",
       "      <th>employment_type</th>\n",
       "      <th>job_title</th>\n",
       "      <th>salary</th>\n",
       "      <th>salary_currency</th>\n",
       "      <th>salary_in_usd</th>\n",
       "      <th>employee_residence</th>\n",
       "      <th>remote_ratio</th>\n",
       "      <th>company_location</th>\n",
       "      <th>company_size</th>\n",
       "      <th>same_country</th>\n",
       "    </tr>\n",
       "  </thead>\n",
       "  <tbody>\n",
       "    <tr>\n",
       "      <th>41</th>\n",
       "      <td>2022</td>\n",
       "      <td>MI</td>\n",
       "      <td>FT</td>\n",
       "      <td>Machine Learning Engineer</td>\n",
       "      <td>1650000</td>\n",
       "      <td>INR</td>\n",
       "      <td>20984.0</td>\n",
       "      <td>IN</td>\n",
       "      <td>50</td>\n",
       "      <td>IN</td>\n",
       "      <td>L</td>\n",
       "      <td>True</td>\n",
       "    </tr>\n",
       "    <tr>\n",
       "      <th>83</th>\n",
       "      <td>2022</td>\n",
       "      <td>EN</td>\n",
       "      <td>FT</td>\n",
       "      <td>AI Developer</td>\n",
       "      <td>300000</td>\n",
       "      <td>USD</td>\n",
       "      <td>300000.0</td>\n",
       "      <td>IN</td>\n",
       "      <td>50</td>\n",
       "      <td>IN</td>\n",
       "      <td>L</td>\n",
       "      <td>True</td>\n",
       "    </tr>\n",
       "    <tr>\n",
       "      <th>114</th>\n",
       "      <td>2022</td>\n",
       "      <td>EN</td>\n",
       "      <td>FT</td>\n",
       "      <td>Machine Learning Engineer</td>\n",
       "      <td>54000</td>\n",
       "      <td>CHF</td>\n",
       "      <td>56536.0</td>\n",
       "      <td>CH</td>\n",
       "      <td>100</td>\n",
       "      <td>CH</td>\n",
       "      <td>S</td>\n",
       "      <td>True</td>\n",
       "    </tr>\n",
       "    <tr>\n",
       "      <th>249</th>\n",
       "      <td>2022</td>\n",
       "      <td>SE</td>\n",
       "      <td>FT</td>\n",
       "      <td>Data Scientist</td>\n",
       "      <td>84000</td>\n",
       "      <td>EUR</td>\n",
       "      <td>NaN</td>\n",
       "      <td>ES</td>\n",
       "      <td>100</td>\n",
       "      <td>GB</td>\n",
       "      <td>L</td>\n",
       "      <td>False</td>\n",
       "    </tr>\n",
       "    <tr>\n",
       "      <th>323</th>\n",
       "      <td>2022</td>\n",
       "      <td>SE</td>\n",
       "      <td>FT</td>\n",
       "      <td>AI Developer</td>\n",
       "      <td>275000</td>\n",
       "      <td>USD</td>\n",
       "      <td>275000.0</td>\n",
       "      <td>CA</td>\n",
       "      <td>0</td>\n",
       "      <td>CA</td>\n",
       "      <td>S</td>\n",
       "      <td>True</td>\n",
       "    </tr>\n",
       "  </tbody>\n",
       "</table>\n",
       "</div>"
      ],
      "text/plain": [
       "     work_year experience_level employment_type                  job_title  \\\n",
       "41        2022               MI              FT  Machine Learning Engineer   \n",
       "83        2022               EN              FT               AI Developer   \n",
       "114       2022               EN              FT  Machine Learning Engineer   \n",
       "249       2022               SE              FT             Data Scientist   \n",
       "323       2022               SE              FT               AI Developer   \n",
       "\n",
       "      salary salary_currency  salary_in_usd employee_residence  remote_ratio  \\\n",
       "41   1650000             INR        20984.0                 IN            50   \n",
       "83    300000             USD       300000.0                 IN            50   \n",
       "114    54000             CHF        56536.0                 CH           100   \n",
       "249    84000             EUR            NaN                 ES           100   \n",
       "323   275000             USD       275000.0                 CA             0   \n",
       "\n",
       "    company_location company_size  same_country  \n",
       "41                IN            L          True  \n",
       "83                IN            L          True  \n",
       "114               CH            S          True  \n",
       "249               GB            L         False  \n",
       "323               CA            S          True  "
      ]
     },
     "execution_count": 83,
     "metadata": {},
     "output_type": "execute_result"
    }
   ],
   "source": [
    "df_2022.head()"
   ]
  },
  {
   "cell_type": "code",
   "execution_count": 84,
   "id": "b4806db1",
   "metadata": {},
   "outputs": [
    {
     "data": {
      "text/html": [
       "<div>\n",
       "<style scoped>\n",
       "    .dataframe tbody tr th:only-of-type {\n",
       "        vertical-align: middle;\n",
       "    }\n",
       "\n",
       "    .dataframe tbody tr th {\n",
       "        vertical-align: top;\n",
       "    }\n",
       "\n",
       "    .dataframe thead th {\n",
       "        text-align: right;\n",
       "    }\n",
       "</style>\n",
       "<table border=\"1\" class=\"dataframe\">\n",
       "  <thead>\n",
       "    <tr style=\"text-align: right;\">\n",
       "      <th></th>\n",
       "      <th>work_year</th>\n",
       "      <th>experience_level</th>\n",
       "      <th>employment_type</th>\n",
       "      <th>job_title</th>\n",
       "      <th>salary</th>\n",
       "      <th>salary_currency</th>\n",
       "      <th>salary_in_usd</th>\n",
       "      <th>employee_residence</th>\n",
       "      <th>remote_ratio</th>\n",
       "      <th>company_location</th>\n",
       "      <th>company_size</th>\n",
       "      <th>same_country</th>\n",
       "    </tr>\n",
       "  </thead>\n",
       "  <tbody>\n",
       "    <tr>\n",
       "      <th>41</th>\n",
       "      <td>2022</td>\n",
       "      <td>MI</td>\n",
       "      <td>FT</td>\n",
       "      <td>Machine Learning Engineer</td>\n",
       "      <td>1650000</td>\n",
       "      <td>INR</td>\n",
       "      <td>20984.0</td>\n",
       "      <td>IN</td>\n",
       "      <td>50</td>\n",
       "      <td>IN</td>\n",
       "      <td>L</td>\n",
       "      <td>True</td>\n",
       "    </tr>\n",
       "  </tbody>\n",
       "</table>\n",
       "</div>"
      ],
      "text/plain": [
       "    work_year experience_level employment_type                  job_title  \\\n",
       "41       2022               MI              FT  Machine Learning Engineer   \n",
       "\n",
       "     salary salary_currency  salary_in_usd employee_residence  remote_ratio  \\\n",
       "41  1650000             INR        20984.0                 IN            50   \n",
       "\n",
       "   company_location company_size  same_country  \n",
       "41               IN            L          True  "
      ]
     },
     "execution_count": 84,
     "metadata": {},
     "output_type": "execute_result"
    }
   ],
   "source": [
    "df_2022.iloc[0:1]"
   ]
  },
  {
   "cell_type": "code",
   "execution_count": 85,
   "id": "d6a7040e",
   "metadata": {},
   "outputs": [
    {
     "data": {
      "text/html": [
       "<div>\n",
       "<style scoped>\n",
       "    .dataframe tbody tr th:only-of-type {\n",
       "        vertical-align: middle;\n",
       "    }\n",
       "\n",
       "    .dataframe tbody tr th {\n",
       "        vertical-align: top;\n",
       "    }\n",
       "\n",
       "    .dataframe thead th {\n",
       "        text-align: right;\n",
       "    }\n",
       "</style>\n",
       "<table border=\"1\" class=\"dataframe\">\n",
       "  <thead>\n",
       "    <tr style=\"text-align: right;\">\n",
       "      <th></th>\n",
       "      <th>work_year</th>\n",
       "      <th>experience_level</th>\n",
       "      <th>employment_type</th>\n",
       "      <th>job_title</th>\n",
       "      <th>salary</th>\n",
       "      <th>salary_currency</th>\n",
       "      <th>salary_in_usd</th>\n",
       "      <th>employee_residence</th>\n",
       "      <th>remote_ratio</th>\n",
       "      <th>company_location</th>\n",
       "      <th>company_size</th>\n",
       "      <th>same_country</th>\n",
       "    </tr>\n",
       "  </thead>\n",
       "  <tbody>\n",
       "  </tbody>\n",
       "</table>\n",
       "</div>"
      ],
      "text/plain": [
       "Empty DataFrame\n",
       "Columns: [work_year, experience_level, employment_type, job_title, salary, salary_currency, salary_in_usd, employee_residence, remote_ratio, company_location, company_size, same_country]\n",
       "Index: []"
      ]
     },
     "execution_count": 85,
     "metadata": {},
     "output_type": "execute_result"
    }
   ],
   "source": [
    "df_2022.loc[0:1]"
   ]
  },
  {
   "cell_type": "code",
   "execution_count": 86,
   "id": "3e8e127e",
   "metadata": {},
   "outputs": [
    {
     "data": {
      "text/html": [
       "<div>\n",
       "<style scoped>\n",
       "    .dataframe tbody tr th:only-of-type {\n",
       "        vertical-align: middle;\n",
       "    }\n",
       "\n",
       "    .dataframe tbody tr th {\n",
       "        vertical-align: top;\n",
       "    }\n",
       "\n",
       "    .dataframe thead th {\n",
       "        text-align: right;\n",
       "    }\n",
       "</style>\n",
       "<table border=\"1\" class=\"dataframe\">\n",
       "  <thead>\n",
       "    <tr style=\"text-align: right;\">\n",
       "      <th></th>\n",
       "      <th>work_year</th>\n",
       "      <th>experience_level</th>\n",
       "      <th>employment_type</th>\n",
       "      <th>job_title</th>\n",
       "      <th>salary</th>\n",
       "      <th>salary_currency</th>\n",
       "      <th>salary_in_usd</th>\n",
       "      <th>employee_residence</th>\n",
       "      <th>remote_ratio</th>\n",
       "      <th>company_location</th>\n",
       "      <th>company_size</th>\n",
       "      <th>same_country</th>\n",
       "    </tr>\n",
       "  </thead>\n",
       "  <tbody>\n",
       "    <tr>\n",
       "      <th>41</th>\n",
       "      <td>2022</td>\n",
       "      <td>MI</td>\n",
       "      <td>FT</td>\n",
       "      <td>Machine Learning Engineer</td>\n",
       "      <td>1650000</td>\n",
       "      <td>INR</td>\n",
       "      <td>20984.0</td>\n",
       "      <td>IN</td>\n",
       "      <td>50</td>\n",
       "      <td>IN</td>\n",
       "      <td>L</td>\n",
       "      <td>True</td>\n",
       "    </tr>\n",
       "  </tbody>\n",
       "</table>\n",
       "</div>"
      ],
      "text/plain": [
       "    work_year experience_level employment_type                  job_title  \\\n",
       "41       2022               MI              FT  Machine Learning Engineer   \n",
       "\n",
       "     salary salary_currency  salary_in_usd employee_residence  remote_ratio  \\\n",
       "41  1650000             INR        20984.0                 IN            50   \n",
       "\n",
       "   company_location company_size  same_country  \n",
       "41               IN            L          True  "
      ]
     },
     "execution_count": 86,
     "metadata": {},
     "output_type": "execute_result"
    }
   ],
   "source": [
    "df_2022.loc[41:42]"
   ]
  },
  {
   "cell_type": "markdown",
   "id": "7320b1f6",
   "metadata": {},
   "source": [
    "## Простейший анализ"
   ]
  },
  {
   "cell_type": "markdown",
   "id": "7d5c1b71",
   "metadata": {},
   "source": [
    "### Значения по количеству"
   ]
  },
  {
   "cell_type": "code",
   "execution_count": 91,
   "id": "2fbce88b",
   "metadata": {},
   "outputs": [
    {
     "data": {
      "text/plain": [
       "150000.0    77\n",
       "100000.0    77\n",
       "120000.0    68\n",
       "160000.0    67\n",
       "130000.0    58\n",
       "            ..\n",
       "123700.0     1\n",
       "74540.0      1\n",
       "74178.0      1\n",
       "107500.0     1\n",
       "94665.0      1\n",
       "Name: salary_in_usd, Length: 895, dtype: int64"
      ]
     },
     "execution_count": 91,
     "metadata": {},
     "output_type": "execute_result"
    }
   ],
   "source": [
    "df['salary_in_usd'].value_counts()"
   ]
  },
  {
   "cell_type": "markdown",
   "id": "66c0cf2c",
   "metadata": {},
   "source": [
    "### Сортировка столбца по значению"
   ]
  },
  {
   "cell_type": "code",
   "execution_count": 92,
   "id": "6259f6a5",
   "metadata": {},
   "outputs": [
    {
     "data": {
      "text/plain": [
       "Series([], Name: salary_in_usd, dtype: float64)"
      ]
     },
     "execution_count": 92,
     "metadata": {},
     "output_type": "execute_result"
    }
   ],
   "source": [
    "df_clean['salary_in_usd'].sort_values()"
   ]
  },
  {
   "cell_type": "markdown",
   "id": "9a8f723d",
   "metadata": {},
   "source": [
    "### Основная статистика"
   ]
  },
  {
   "cell_type": "code",
   "execution_count": 97,
   "id": "5fa9dc6d",
   "metadata": {},
   "outputs": [
    {
     "ename": "NameError",
     "evalue": "name 'float64' is not defined",
     "output_type": "error",
     "traceback": [
      "\u001b[1;31m---------------------------------------------------------------------------\u001b[0m",
      "\u001b[1;31mNameError\u001b[0m                                 Traceback (most recent call last)",
      "Cell \u001b[1;32mIn[97], line 1\u001b[0m\n\u001b[1;32m----> 1\u001b[0m df[\u001b[38;5;124m'\u001b[39m\u001b[38;5;124msalary_in_usd\u001b[39m\u001b[38;5;124m'\u001b[39m \u001b[38;5;241m!=\u001b[39m float64 ]\u001b[38;5;241m.\u001b[39mdescribe()\n",
      "\u001b[1;31mNameError\u001b[0m: name 'float64' is not defined"
     ]
    }
   ],
   "source": [
    "df['salary_in_usd' != float64 ].describe()"
   ]
  },
  {
   "cell_type": "code",
   "execution_count": 11,
   "id": "e5932038",
   "metadata": {},
   "outputs": [
    {
     "data": {
      "text/plain": [
       "149508.4592809978"
      ]
     },
     "execution_count": 11,
     "metadata": {},
     "output_type": "execute_result"
    }
   ],
   "source": [
    "df[df['work_year'] == 2023]['salary_in_usd'].mean()"
   ]
  },
  {
   "cell_type": "code",
   "execution_count": 54,
   "id": "81a75dd0",
   "metadata": {},
   "outputs": [
    {
     "data": {
      "text/plain": [
       "133438.8639562158"
      ]
     },
     "execution_count": 54,
     "metadata": {},
     "output_type": "execute_result"
    }
   ],
   "source": [
    "df[df['work_year'] == 2022]['salary_in_usd'].mean()"
   ]
  },
  {
   "cell_type": "markdown",
   "id": "76067d0c-6f00-4704-9cdd-b80f7390b62c",
   "metadata": {},
   "source": [
    "## Операции над столбцами"
   ]
  },
  {
   "cell_type": "code",
   "execution_count": 9,
   "id": "e8aab4f4-ea43-4626-abf3-32fae95d5161",
   "metadata": {},
   "outputs": [
    {
     "data": {
      "text/plain": [
       "0       True\n",
       "1       True\n",
       "2       True\n",
       "3       True\n",
       "4       True\n",
       "        ... \n",
       "3750    True\n",
       "3751    True\n",
       "3752    True\n",
       "3753    True\n",
       "3754    True\n",
       "Length: 3755, dtype: bool"
      ]
     },
     "execution_count": 9,
     "metadata": {},
     "output_type": "execute_result"
    }
   ],
   "source": [
    "df['company_location'] == df['employee_residence']"
   ]
  },
  {
   "cell_type": "code",
   "execution_count": 55,
   "id": "71405b65-e0a6-4562-9497-ded0f164517b",
   "metadata": {},
   "outputs": [],
   "source": [
    "df['same_country'] = (df['company_location'] == df['employee_residence'])"
   ]
  },
  {
   "cell_type": "code",
   "execution_count": 56,
   "id": "594418ca-87c3-46b9-8f29-23d0ef29436c",
   "metadata": {},
   "outputs": [
    {
     "data": {
      "text/plain": [
       "True     3659\n",
       "False      96\n",
       "Name: same_country, dtype: int64"
      ]
     },
     "execution_count": 56,
     "metadata": {},
     "output_type": "execute_result"
    }
   ],
   "source": [
    "df['same_country'].value_counts()"
   ]
  },
  {
   "cell_type": "code",
   "execution_count": 87,
   "id": "7a1dcea4-f42d-4c6a-b22c-d55e7421de16",
   "metadata": {},
   "outputs": [
    {
     "data": {
      "text/plain": [
       "0       FT Principal Data Scientist\n",
       "1                    CT ML Engineer\n",
       "2                    CT ML Engineer\n",
       "3                 FT Data Scientist\n",
       "4                 FT Data Scientist\n",
       "                   ...             \n",
       "3750              FT Data Scientist\n",
       "3751    FT Principal Data Scientist\n",
       "3752              FT Data Scientist\n",
       "3753       CT Business Data Analyst\n",
       "3754        FT Data Science Manager\n",
       "Length: 3755, dtype: object"
      ]
     },
     "execution_count": 87,
     "metadata": {},
     "output_type": "execute_result"
    }
   ],
   "source": [
    "df['employment_type'] + ' ' + df['job_title']"
   ]
  },
  {
   "cell_type": "code",
   "execution_count": null,
   "id": "66de6036-5ae1-4ca4-84df-a8f3bc16c8b7",
   "metadata": {},
   "outputs": [],
   "source": [
    "def categorize(x):\n",
    "    return 'High' if x > 200000 else 'Normal'"
   ]
  },
  {
   "cell_type": "code",
   "execution_count": null,
   "id": "d560c9e0-e9e3-496d-bdec-2dfd48057d91",
   "metadata": {},
   "outputs": [],
   "source": [
    "df['salary_in_usd'].apply(categorize)"
   ]
  },
  {
   "cell_type": "code",
   "execution_count": null,
   "id": "4b507f4e-773e-4329-ab9b-9e64de9db49a",
   "metadata": {},
   "outputs": [],
   "source": [
    "df['salary_range'] = df['salary_in_usd'].apply(categorize)"
   ]
  },
  {
   "cell_type": "code",
   "execution_count": null,
   "id": "02c1b5a5-aa05-4652-8f4c-3cf74ca7524a",
   "metadata": {},
   "outputs": [],
   "source": [
    "df.tail()"
   ]
  },
  {
   "cell_type": "markdown",
   "id": "9a90849d-6e00-446a-9027-8e7d6c5e0ace",
   "metadata": {},
   "source": [
    "## Заполнение пропусков"
   ]
  },
  {
   "cell_type": "code",
   "execution_count": null,
   "id": "890259a7-7919-4307-afe4-e8b3feedbd14",
   "metadata": {},
   "outputs": [],
   "source": [
    "df_clean = df.copy()"
   ]
  },
  {
   "cell_type": "code",
   "execution_count": null,
   "id": "430dcdd3-d1bb-4a5f-8916-a99642dd3c10",
   "metadata": {},
   "outputs": [],
   "source": [
    "df_clean[df_clean['salary_in_usd'].isna()].head()"
   ]
  },
  {
   "cell_type": "code",
   "execution_count": null,
   "id": "5e118312-1ba9-4a6f-a95e-8cd7798be0d7",
   "metadata": {},
   "outputs": [],
   "source": [
    "df_clean['salary_in_usd'] = df_clean['salary_in_usd'].fillna(df_clean['salary_in_usd'].median())"
   ]
  },
  {
   "cell_type": "code",
   "execution_count": null,
   "id": "a2b858c0-72bd-400f-b47e-a73e2d8b0452",
   "metadata": {},
   "outputs": [],
   "source": [
    "df_clean[df['salary_in_usd'].isna()].head()"
   ]
  },
  {
   "cell_type": "markdown",
   "id": "f2263f38",
   "metadata": {},
   "source": [
    "## Группировка"
   ]
  },
  {
   "cell_type": "markdown",
   "id": "848e4f15",
   "metadata": {},
   "source": [
    "### Как изменяются зарплаты со временем?"
   ]
  },
  {
   "cell_type": "code",
   "execution_count": 6,
   "id": "c1057491",
   "metadata": {},
   "outputs": [
    {
     "data": {
      "text/plain": [
       "work_year\n",
       "2020     89881.483333\n",
       "2021     92781.644970\n",
       "2022    133438.863956\n",
       "2023    149508.459281\n",
       "Name: salary_in_usd, dtype: float64"
      ]
     },
     "execution_count": 6,
     "metadata": {},
     "output_type": "execute_result"
    }
   ],
   "source": [
    "df.groupby('work_year')['salary_in_usd'].mean()"
   ]
  },
  {
   "cell_type": "markdown",
   "id": "ae164cba",
   "metadata": {},
   "source": [
    "### Сравним средние зарплаты в разных странах"
   ]
  },
  {
   "cell_type": "code",
   "execution_count": 7,
   "id": "2a41c441",
   "metadata": {},
   "outputs": [],
   "source": [
    "sub = df.query('company_location == \"RU\" or company_location == \"US\"')"
   ]
  },
  {
   "cell_type": "code",
   "execution_count": null,
   "id": "7c722507",
   "metadata": {},
   "outputs": [],
   "source": [
    "sub.groupby('company_location')['salary_in_usd'].mean()"
   ]
  },
  {
   "cell_type": "code",
   "execution_count": null,
   "id": "98cfca19",
   "metadata": {},
   "outputs": [],
   "source": [
    "sub.groupby('company_location')['salary_in_usd'].agg(['count', 'mean'])"
   ]
  },
  {
   "cell_type": "code",
   "execution_count": 57,
   "id": "a0419d8d",
   "metadata": {
    "scrolled": true
   },
   "outputs": [
    {
     "data": {
      "text/html": [
       "<div>\n",
       "<style scoped>\n",
       "    .dataframe tbody tr th:only-of-type {\n",
       "        vertical-align: middle;\n",
       "    }\n",
       "\n",
       "    .dataframe tbody tr th {\n",
       "        vertical-align: top;\n",
       "    }\n",
       "\n",
       "    .dataframe thead th {\n",
       "        text-align: right;\n",
       "    }\n",
       "</style>\n",
       "<table border=\"1\" class=\"dataframe\">\n",
       "  <thead>\n",
       "    <tr style=\"text-align: right;\">\n",
       "      <th></th>\n",
       "      <th>count</th>\n",
       "      <th>mean</th>\n",
       "      <th>median</th>\n",
       "    </tr>\n",
       "    <tr>\n",
       "      <th>experience_level</th>\n",
       "      <th></th>\n",
       "      <th></th>\n",
       "      <th></th>\n",
       "    </tr>\n",
       "  </thead>\n",
       "  <tbody>\n",
       "    <tr>\n",
       "      <th>EN</th>\n",
       "      <td>239</td>\n",
       "      <td>79363.953975</td>\n",
       "      <td>71907.0</td>\n",
       "    </tr>\n",
       "    <tr>\n",
       "      <th>EX</th>\n",
       "      <td>76</td>\n",
       "      <td>198120.828947</td>\n",
       "      <td>200000.0</td>\n",
       "    </tr>\n",
       "    <tr>\n",
       "      <th>MI</th>\n",
       "      <td>603</td>\n",
       "      <td>104090.585406</td>\n",
       "      <td>100000.0</td>\n",
       "    </tr>\n",
       "    <tr>\n",
       "      <th>SE</th>\n",
       "      <td>1953</td>\n",
       "      <td>152959.310292</td>\n",
       "      <td>146200.0</td>\n",
       "    </tr>\n",
       "  </tbody>\n",
       "</table>\n",
       "</div>"
      ],
      "text/plain": [
       "                  count           mean    median\n",
       "experience_level                                \n",
       "EN                  239   79363.953975   71907.0\n",
       "EX                   76  198120.828947  200000.0\n",
       "MI                  603  104090.585406  100000.0\n",
       "SE                 1953  152959.310292  146200.0"
      ]
     },
     "execution_count": 57,
     "metadata": {},
     "output_type": "execute_result"
    }
   ],
   "source": [
    "df.groupby('experience_level')['salary_in_usd'].agg(['count', 'mean', 'median'])"
   ]
  },
  {
   "cell_type": "markdown",
   "id": "120011e6",
   "metadata": {},
   "source": [
    "### Зарплаты по профессиям"
   ]
  },
  {
   "cell_type": "code",
   "execution_count": 58,
   "id": "084227b6",
   "metadata": {},
   "outputs": [
    {
     "data": {
      "text/plain": [
       "Data Engineer                          1040\n",
       "Data Scientist                          840\n",
       "Data Analyst                            612\n",
       "Machine Learning Engineer               289\n",
       "Analytics Engineer                      103\n",
       "                                       ... \n",
       "Principal Machine Learning Engineer       1\n",
       "Azure Data Engineer                       1\n",
       "Manager Data Management                   1\n",
       "Marketing Data Engineer                   1\n",
       "Finance Data Analyst                      1\n",
       "Name: job_title, Length: 93, dtype: int64"
      ]
     },
     "execution_count": 58,
     "metadata": {},
     "output_type": "execute_result"
    }
   ],
   "source": [
    "df['job_title'].value_counts()"
   ]
  },
  {
   "cell_type": "code",
   "execution_count": 59,
   "id": "ba427e00",
   "metadata": {},
   "outputs": [
    {
     "data": {
      "text/plain": [
       "Data Scientist                        840\n",
       "Research Scientist                     82\n",
       "Applied Scientist                      58\n",
       "Machine Learning Scientist             26\n",
       "AI Scientist                           16\n",
       "Applied Machine Learning Scientist     12\n",
       "Applied Data Scientist                 10\n",
       "Lead Data Scientist                     9\n",
       "Principal Data Scientist                8\n",
       "Data Scientist Lead                     2\n",
       "Product Data Scientist                  1\n",
       "Staff Data Scientist                    1\n",
       "Name: job_title, dtype: int64"
      ]
     },
     "execution_count": 59,
     "metadata": {},
     "output_type": "execute_result"
    }
   ],
   "source": [
    "df[df['job_title'].str.contains('Scientist')]['job_title'].value_counts()"
   ]
  },
  {
   "cell_type": "code",
   "execution_count": null,
   "id": "284b763f",
   "metadata": {},
   "outputs": [],
   "source": [
    "df['job_title'].value_counts().head(4)"
   ]
  },
  {
   "cell_type": "code",
   "execution_count": 60,
   "id": "87eb87d8",
   "metadata": {},
   "outputs": [
    {
     "data": {
      "text/html": [
       "<div>\n",
       "<style scoped>\n",
       "    .dataframe tbody tr th:only-of-type {\n",
       "        vertical-align: middle;\n",
       "    }\n",
       "\n",
       "    .dataframe tbody tr th {\n",
       "        vertical-align: top;\n",
       "    }\n",
       "\n",
       "    .dataframe thead th {\n",
       "        text-align: right;\n",
       "    }\n",
       "</style>\n",
       "<table border=\"1\" class=\"dataframe\">\n",
       "  <thead>\n",
       "    <tr style=\"text-align: right;\">\n",
       "      <th></th>\n",
       "      <th>count</th>\n",
       "      <th>mean</th>\n",
       "      <th>median</th>\n",
       "    </tr>\n",
       "    <tr>\n",
       "      <th>job_title</th>\n",
       "      <th></th>\n",
       "      <th></th>\n",
       "      <th></th>\n",
       "    </tr>\n",
       "  </thead>\n",
       "  <tbody>\n",
       "    <tr>\n",
       "      <th>Data Engineer</th>\n",
       "      <td>822</td>\n",
       "      <td>143353.740876</td>\n",
       "      <td>138125.0</td>\n",
       "    </tr>\n",
       "    <tr>\n",
       "      <th>Data Scientist</th>\n",
       "      <td>622</td>\n",
       "      <td>140449.696141</td>\n",
       "      <td>141525.0</td>\n",
       "    </tr>\n",
       "    <tr>\n",
       "      <th>Data Analyst</th>\n",
       "      <td>471</td>\n",
       "      <td>109689.386412</td>\n",
       "      <td>106020.0</td>\n",
       "    </tr>\n",
       "    <tr>\n",
       "      <th>Machine Learning Engineer</th>\n",
       "      <td>216</td>\n",
       "      <td>156970.115741</td>\n",
       "      <td>150000.0</td>\n",
       "    </tr>\n",
       "  </tbody>\n",
       "</table>\n",
       "</div>"
      ],
      "text/plain": [
       "                           count           mean    median\n",
       "job_title                                                \n",
       "Data Engineer                822  143353.740876  138125.0\n",
       "Data Scientist               622  140449.696141  141525.0\n",
       "Data Analyst                 471  109689.386412  106020.0\n",
       "Machine Learning Engineer    216  156970.115741  150000.0"
      ]
     },
     "execution_count": 60,
     "metadata": {},
     "output_type": "execute_result"
    }
   ],
   "source": [
    "(df.groupby('job_title')['salary_in_usd']\n",
    "     .agg(['count', 'mean', 'median'])\n",
    "     .sort_values(by='count', ascending=False)\n",
    "     .head(4))"
   ]
  },
  {
   "cell_type": "code",
   "execution_count": 61,
   "id": "3cfec5e0",
   "metadata": {},
   "outputs": [
    {
     "data": {
      "text/html": [
       "<div>\n",
       "<style scoped>\n",
       "    .dataframe tbody tr th:only-of-type {\n",
       "        vertical-align: middle;\n",
       "    }\n",
       "\n",
       "    .dataframe tbody tr th {\n",
       "        vertical-align: top;\n",
       "    }\n",
       "\n",
       "    .dataframe thead th {\n",
       "        text-align: right;\n",
       "    }\n",
       "</style>\n",
       "<table border=\"1\" class=\"dataframe\">\n",
       "  <thead>\n",
       "    <tr style=\"text-align: right;\">\n",
       "      <th></th>\n",
       "      <th>count</th>\n",
       "      <th>mean</th>\n",
       "      <th>median</th>\n",
       "    </tr>\n",
       "    <tr>\n",
       "      <th>remote_ratio</th>\n",
       "      <th></th>\n",
       "      <th></th>\n",
       "      <th></th>\n",
       "    </tr>\n",
       "  </thead>\n",
       "  <tbody>\n",
       "    <tr>\n",
       "      <th>0</th>\n",
       "      <td>1469</td>\n",
       "      <td>144878.148400</td>\n",
       "      <td>139500.0</td>\n",
       "    </tr>\n",
       "    <tr>\n",
       "      <th>50</th>\n",
       "      <td>148</td>\n",
       "      <td>80521.864865</td>\n",
       "      <td>63375.5</td>\n",
       "    </tr>\n",
       "    <tr>\n",
       "      <th>100</th>\n",
       "      <td>1254</td>\n",
       "      <td>136186.673046</td>\n",
       "      <td>136000.0</td>\n",
       "    </tr>\n",
       "  </tbody>\n",
       "</table>\n",
       "</div>"
      ],
      "text/plain": [
       "              count           mean    median\n",
       "remote_ratio                                \n",
       "0              1469  144878.148400  139500.0\n",
       "50              148   80521.864865   63375.5\n",
       "100            1254  136186.673046  136000.0"
      ]
     },
     "execution_count": 61,
     "metadata": {},
     "output_type": "execute_result"
    }
   ],
   "source": [
    "df.groupby('remote_ratio')['salary_in_usd'].agg(['count', 'mean', 'median'])"
   ]
  },
  {
   "cell_type": "code",
   "execution_count": 62,
   "id": "808b5158",
   "metadata": {},
   "outputs": [
    {
     "data": {
      "text/html": [
       "<div>\n",
       "<style scoped>\n",
       "    .dataframe tbody tr th:only-of-type {\n",
       "        vertical-align: middle;\n",
       "    }\n",
       "\n",
       "    .dataframe tbody tr th {\n",
       "        vertical-align: top;\n",
       "    }\n",
       "\n",
       "    .dataframe thead th {\n",
       "        text-align: right;\n",
       "    }\n",
       "</style>\n",
       "<table border=\"1\" class=\"dataframe\">\n",
       "  <thead>\n",
       "    <tr style=\"text-align: right;\">\n",
       "      <th></th>\n",
       "      <th></th>\n",
       "      <th>count</th>\n",
       "      <th>mean</th>\n",
       "      <th>median</th>\n",
       "    </tr>\n",
       "    <tr>\n",
       "      <th>company_location</th>\n",
       "      <th>experience_level</th>\n",
       "      <th></th>\n",
       "      <th></th>\n",
       "      <th></th>\n",
       "    </tr>\n",
       "  </thead>\n",
       "  <tbody>\n",
       "    <tr>\n",
       "      <th rowspan=\"4\" valign=\"top\">CA</th>\n",
       "      <th>EN</th>\n",
       "      <td>5</td>\n",
       "      <td>82283.200000</td>\n",
       "      <td>52000.0</td>\n",
       "    </tr>\n",
       "    <tr>\n",
       "      <th>EX</th>\n",
       "      <td>3</td>\n",
       "      <td>111004.333333</td>\n",
       "      <td>125976.0</td>\n",
       "    </tr>\n",
       "    <tr>\n",
       "      <th>MI</th>\n",
       "      <td>8</td>\n",
       "      <td>83597.500000</td>\n",
       "      <td>75907.0</td>\n",
       "    </tr>\n",
       "    <tr>\n",
       "      <th>SE</th>\n",
       "      <td>50</td>\n",
       "      <td>150022.020000</td>\n",
       "      <td>142050.0</td>\n",
       "    </tr>\n",
       "    <tr>\n",
       "      <th rowspan=\"4\" valign=\"top\">US</th>\n",
       "      <th>EN</th>\n",
       "      <td>130</td>\n",
       "      <td>105803.930769</td>\n",
       "      <td>100000.0</td>\n",
       "    </tr>\n",
       "    <tr>\n",
       "      <th>EX</th>\n",
       "      <td>65</td>\n",
       "      <td>206903.507692</td>\n",
       "      <td>205000.0</td>\n",
       "    </tr>\n",
       "    <tr>\n",
       "      <th>MI</th>\n",
       "      <td>367</td>\n",
       "      <td>128592.343324</td>\n",
       "      <td>121500.0</td>\n",
       "    </tr>\n",
       "    <tr>\n",
       "      <th>SE</th>\n",
       "      <td>1754</td>\n",
       "      <td>158292.214937</td>\n",
       "      <td>150000.0</td>\n",
       "    </tr>\n",
       "  </tbody>\n",
       "</table>\n",
       "</div>"
      ],
      "text/plain": [
       "                                   count           mean    median\n",
       "company_location experience_level                                \n",
       "CA               EN                    5   82283.200000   52000.0\n",
       "                 EX                    3  111004.333333  125976.0\n",
       "                 MI                    8   83597.500000   75907.0\n",
       "                 SE                   50  150022.020000  142050.0\n",
       "US               EN                  130  105803.930769  100000.0\n",
       "                 EX                   65  206903.507692  205000.0\n",
       "                 MI                  367  128592.343324  121500.0\n",
       "                 SE                 1754  158292.214937  150000.0"
      ]
     },
     "execution_count": 62,
     "metadata": {},
     "output_type": "execute_result"
    }
   ],
   "source": [
    "(df.query('(company_location == \"US\" or company_location == \"CA\") and employment_type == \"FT\"')\n",
    "          .groupby(['company_location', 'experience_level'])['salary_in_usd']\n",
    "          .agg(['count', 'mean', 'median']))"
   ]
  },
  {
   "cell_type": "code",
   "execution_count": null,
   "id": "2ef45c3f",
   "metadata": {},
   "outputs": [],
   "source": [
    "df.groupby('remote_ratio')['salary_in_usd'].agg(['count', 'mean', 'median'])"
   ]
  },
  {
   "cell_type": "markdown",
   "id": "4a449875-082c-4a85-8113-face21de6816",
   "metadata": {},
   "source": [
    "# Домашнее задание"
   ]
  },
  {
   "cell_type": "markdown",
   "id": "8c77d5dc-70c6-4580-803f-810cfe2ea606",
   "metadata": {},
   "source": [
    "## Easy"
   ]
  },
  {
   "cell_type": "markdown",
   "id": "dafd166a-4919-4b9a-9b41-d52a113275eb",
   "metadata": {},
   "source": [
    "Изучите распределение размеров компаний (`company_size`) с помощью метода `.value_counts()`. Опишите своими словами, что вы увидели."
   ]
  },
  {
   "cell_type": "code",
   "execution_count": 12,
   "id": "7313a3a6-0259-4f38-a8d8-4f994f236ba1",
   "metadata": {},
   "outputs": [
    {
     "data": {
      "text/plain": [
       "M    3153\n",
       "L     454\n",
       "S     148\n",
       "Name: company_size, dtype: int64"
      ]
     },
     "execution_count": 12,
     "metadata": {},
     "output_type": "execute_result"
    }
   ],
   "source": [
    "# Ваш код ниже:\n",
    "df['company_size'].value_counts()"
   ]
  },
  {
   "cell_type": "markdown",
   "id": "098d5028-f53a-495c-b4a9-7dc7ca7e23c0",
   "metadata": {},
   "source": [
    "Вывод: 2294 Маленьких, 422 средних, 147 больших"
   ]
  },
  {
   "cell_type": "markdown",
   "id": "268cafb2-f782-44da-ad5b-95469917e78e",
   "metadata": {},
   "source": [
    "## Normal"
   ]
  },
  {
   "cell_type": "markdown",
   "id": "5ef0c324-4742-43f1-879f-ea851395f428",
   "metadata": {},
   "source": [
    "Сделайте выборку за 2023 год. Постройте по ней сводную таблицу, сгруппированную по размеру компании-работодателя (`company_size`), со средней и медианной зарплатой в долларах. Не забывайте также указать количество."
   ]
  },
  {
   "cell_type": "code",
   "execution_count": 75,
   "id": "0eb74644-ecef-416c-848a-b7293fc105a6",
   "metadata": {},
   "outputs": [
    {
     "data": {
      "text/html": [
       "<div>\n",
       "<style scoped>\n",
       "    .dataframe tbody tr th:only-of-type {\n",
       "        vertical-align: middle;\n",
       "    }\n",
       "\n",
       "    .dataframe tbody tr th {\n",
       "        vertical-align: top;\n",
       "    }\n",
       "\n",
       "    .dataframe thead th {\n",
       "        text-align: right;\n",
       "    }\n",
       "</style>\n",
       "<table border=\"1\" class=\"dataframe\">\n",
       "  <thead>\n",
       "    <tr style=\"text-align: right;\">\n",
       "      <th></th>\n",
       "      <th>count</th>\n",
       "      <th>mean</th>\n",
       "      <th>median</th>\n",
       "    </tr>\n",
       "    <tr>\n",
       "      <th>company_size</th>\n",
       "      <th></th>\n",
       "      <th></th>\n",
       "      <th></th>\n",
       "    </tr>\n",
       "  </thead>\n",
       "  <tbody>\n",
       "    <tr>\n",
       "      <th>L</th>\n",
       "      <td>71</td>\n",
       "      <td>138622.845070</td>\n",
       "      <td>126100.0</td>\n",
       "    </tr>\n",
       "    <tr>\n",
       "      <th>M</th>\n",
       "      <td>1275</td>\n",
       "      <td>151126.316078</td>\n",
       "      <td>145000.0</td>\n",
       "    </tr>\n",
       "    <tr>\n",
       "      <th>S</th>\n",
       "      <td>17</td>\n",
       "      <td>73632.647059</td>\n",
       "      <td>53654.0</td>\n",
       "    </tr>\n",
       "  </tbody>\n",
       "</table>\n",
       "</div>"
      ],
      "text/plain": [
       "              count           mean    median\n",
       "company_size                                \n",
       "L                71  138622.845070  126100.0\n",
       "M              1275  151126.316078  145000.0\n",
       "S                17   73632.647059   53654.0"
      ]
     },
     "execution_count": 75,
     "metadata": {},
     "output_type": "execute_result"
    }
   ],
   "source": [
    "# Ваш код ниже:\n",
    "df.query('work_year == 2023').groupby('company_size')['salary_in_usd'].agg(['count', 'mean', 'median'])\n"
   ]
  },
  {
   "cell_type": "markdown",
   "id": "52f0a6a4-3fb5-48b5-9e9a-adfafcd84f5f",
   "metadata": {},
   "source": [
    "Напишите краткий вывод из полученной таблицы:"
   ]
  },
  {
   "cell_type": "markdown",
   "id": "04472859-0e11-4bfc-bb67-402cf5dd5a94",
   "metadata": {},
   "source": [
    "Вывод:"
   ]
  },
  {
   "cell_type": "markdown",
   "id": "06fd85fc-8793-497b-b144-7fb492d56e6a",
   "metadata": {},
   "source": [
    "Аналогично исследуйте 2022 год. Есть ли отличия?"
   ]
  },
  {
   "cell_type": "code",
   "execution_count": 65,
   "id": "6e1fd53e-19a5-4aec-9f7d-1c4bcb8b486e",
   "metadata": {},
   "outputs": [
    {
     "data": {
      "text/html": [
       "<div>\n",
       "<style scoped>\n",
       "    .dataframe tbody tr th:only-of-type {\n",
       "        vertical-align: middle;\n",
       "    }\n",
       "\n",
       "    .dataframe tbody tr th {\n",
       "        vertical-align: top;\n",
       "    }\n",
       "\n",
       "    .dataframe thead th {\n",
       "        text-align: right;\n",
       "    }\n",
       "</style>\n",
       "<table border=\"1\" class=\"dataframe\">\n",
       "  <thead>\n",
       "    <tr style=\"text-align: right;\">\n",
       "      <th></th>\n",
       "      <th>count</th>\n",
       "      <th>mean</th>\n",
       "      <th>median</th>\n",
       "    </tr>\n",
       "    <tr>\n",
       "      <th>company_size</th>\n",
       "      <th></th>\n",
       "      <th></th>\n",
       "      <th></th>\n",
       "    </tr>\n",
       "  </thead>\n",
       "  <tbody>\n",
       "    <tr>\n",
       "      <th>L</th>\n",
       "      <td>143</td>\n",
       "      <td>120581.482517</td>\n",
       "      <td>120000.0</td>\n",
       "    </tr>\n",
       "    <tr>\n",
       "      <th>M</th>\n",
       "      <td>1096</td>\n",
       "      <td>137245.859489</td>\n",
       "      <td>135000.0</td>\n",
       "    </tr>\n",
       "    <tr>\n",
       "      <th>S</th>\n",
       "      <td>40</td>\n",
       "      <td>75092.325000</td>\n",
       "      <td>58000.0</td>\n",
       "    </tr>\n",
       "  </tbody>\n",
       "</table>\n",
       "</div>"
      ],
      "text/plain": [
       "              count           mean    median\n",
       "company_size                                \n",
       "L               143  120581.482517  120000.0\n",
       "M              1096  137245.859489  135000.0\n",
       "S                40   75092.325000   58000.0"
      ]
     },
     "execution_count": 65,
     "metadata": {},
     "output_type": "execute_result"
    }
   ],
   "source": [
    "# Ваш код ниже:\n",
    "df.query('work_year == 2022').groupby('company_size')['salary_in_usd'].agg(['count', 'mean', 'median'])"
   ]
  },
  {
   "cell_type": "markdown",
   "id": "bcdab071-f3bc-4a7d-80c8-32a65e2f721c",
   "metadata": {},
   "source": [
    "Вывод: "
   ]
  },
  {
   "cell_type": "markdown",
   "id": "bc00cafa-a831-42b2-b0bd-042322c7ab63",
   "metadata": {},
   "source": [
    "## Hard"
   ]
  },
  {
   "cell_type": "markdown",
   "id": "24abf10f-81e4-4e3b-8d80-6f87b5b8c6a6",
   "metadata": {},
   "source": [
    "Для начала попробуйте восстановить пропущенные значения `salary_in_usd`."
   ]
  },
  {
   "cell_type": "markdown",
   "id": "f75ab23c-0422-4966-a691-e8a1aa5a9ef4",
   "metadata": {},
   "source": [
    "<details>\n",
    "<summary>Подсказка (нажмите, чтобы посмотреть):</summary>\n",
    "Один из способов:\n",
    "    <ul><li>создайте дополнительный столбец с \"курсом доллара\" для каждого наблюдения;</li>\n",
    "    <li>проверьте, менялся ли курс каждой валюты в течение года;</li>\n",
    "    <li>по возможности примените этот курс для расчета пропущенного значения;</li>\n",
    "    <li>если остались пропуски, которые нельзя заполнить, удалите их.</li></ul>    \n",
    "</details>"
   ]
  },
  {
   "cell_type": "markdown",
   "id": "f8e8bd10-1a01-40fe-959d-bf0c9ab1a774",
   "metadata": {},
   "source": [
    "Оставляйте комментарии в коде своего решения."
   ]
  },
  {
   "cell_type": "code",
   "execution_count": 4,
   "id": "75f9770b-8961-467f-b383-827ca354f87b",
   "metadata": {},
   "outputs": [
    {
     "data": {
      "text/html": [
       "<div>\n",
       "<style scoped>\n",
       "    .dataframe tbody tr th:only-of-type {\n",
       "        vertical-align: middle;\n",
       "    }\n",
       "\n",
       "    .dataframe tbody tr th {\n",
       "        vertical-align: top;\n",
       "    }\n",
       "\n",
       "    .dataframe thead th {\n",
       "        text-align: right;\n",
       "    }\n",
       "</style>\n",
       "<table border=\"1\" class=\"dataframe\">\n",
       "  <thead>\n",
       "    <tr style=\"text-align: right;\">\n",
       "      <th></th>\n",
       "      <th>work_year</th>\n",
       "      <th>experience_level</th>\n",
       "      <th>employment_type</th>\n",
       "      <th>job_title</th>\n",
       "      <th>salary</th>\n",
       "      <th>salary_currency</th>\n",
       "      <th>salary_in_usd</th>\n",
       "      <th>employee_residence</th>\n",
       "      <th>remote_ratio</th>\n",
       "      <th>company_location</th>\n",
       "      <th>company_size</th>\n",
       "    </tr>\n",
       "  </thead>\n",
       "  <tbody>\n",
       "    <tr>\n",
       "      <th>20</th>\n",
       "      <td>2023</td>\n",
       "      <td>MI</td>\n",
       "      <td>FT</td>\n",
       "      <td>Data Analyst</td>\n",
       "      <td>110000</td>\n",
       "      <td>USD</td>\n",
       "      <td>110000.0</td>\n",
       "      <td>US</td>\n",
       "      <td>100</td>\n",
       "      <td>US</td>\n",
       "      <td>M</td>\n",
       "    </tr>\n",
       "    <tr>\n",
       "      <th>26</th>\n",
       "      <td>2023</td>\n",
       "      <td>SE</td>\n",
       "      <td>FT</td>\n",
       "      <td>Business Intelligence Engineer</td>\n",
       "      <td>156400</td>\n",
       "      <td>USD</td>\n",
       "      <td>156400.0</td>\n",
       "      <td>US</td>\n",
       "      <td>0</td>\n",
       "      <td>US</td>\n",
       "      <td>M</td>\n",
       "    </tr>\n",
       "    <tr>\n",
       "      <th>31</th>\n",
       "      <td>2023</td>\n",
       "      <td>SE</td>\n",
       "      <td>FT</td>\n",
       "      <td>Data Engineer</td>\n",
       "      <td>253200</td>\n",
       "      <td>USD</td>\n",
       "      <td>253200.0</td>\n",
       "      <td>US</td>\n",
       "      <td>0</td>\n",
       "      <td>US</td>\n",
       "      <td>M</td>\n",
       "    </tr>\n",
       "    <tr>\n",
       "      <th>32</th>\n",
       "      <td>2023</td>\n",
       "      <td>SE</td>\n",
       "      <td>FT</td>\n",
       "      <td>Data Engineer</td>\n",
       "      <td>90700</td>\n",
       "      <td>USD</td>\n",
       "      <td>90700.0</td>\n",
       "      <td>US</td>\n",
       "      <td>0</td>\n",
       "      <td>US</td>\n",
       "      <td>M</td>\n",
       "    </tr>\n",
       "    <tr>\n",
       "      <th>34</th>\n",
       "      <td>2023</td>\n",
       "      <td>SE</td>\n",
       "      <td>FT</td>\n",
       "      <td>Computer Vision Engineer</td>\n",
       "      <td>184590</td>\n",
       "      <td>USD</td>\n",
       "      <td>184590.0</td>\n",
       "      <td>US</td>\n",
       "      <td>0</td>\n",
       "      <td>US</td>\n",
       "      <td>M</td>\n",
       "    </tr>\n",
       "    <tr>\n",
       "      <th>...</th>\n",
       "      <td>...</td>\n",
       "      <td>...</td>\n",
       "      <td>...</td>\n",
       "      <td>...</td>\n",
       "      <td>...</td>\n",
       "      <td>...</td>\n",
       "      <td>...</td>\n",
       "      <td>...</td>\n",
       "      <td>...</td>\n",
       "      <td>...</td>\n",
       "      <td>...</td>\n",
       "    </tr>\n",
       "    <tr>\n",
       "      <th>3722</th>\n",
       "      <td>2021</td>\n",
       "      <td>MI</td>\n",
       "      <td>FT</td>\n",
       "      <td>Data Scientist</td>\n",
       "      <td>130000</td>\n",
       "      <td>USD</td>\n",
       "      <td>130000.0</td>\n",
       "      <td>US</td>\n",
       "      <td>50</td>\n",
       "      <td>US</td>\n",
       "      <td>L</td>\n",
       "    </tr>\n",
       "    <tr>\n",
       "      <th>3723</th>\n",
       "      <td>2021</td>\n",
       "      <td>SE</td>\n",
       "      <td>FT</td>\n",
       "      <td>Computer Vision Engineer</td>\n",
       "      <td>102000</td>\n",
       "      <td>BRL</td>\n",
       "      <td>102000.0</td>\n",
       "      <td>BR</td>\n",
       "      <td>0</td>\n",
       "      <td>BR</td>\n",
       "      <td>M</td>\n",
       "    </tr>\n",
       "    <tr>\n",
       "      <th>3724</th>\n",
       "      <td>2021</td>\n",
       "      <td>EN</td>\n",
       "      <td>FT</td>\n",
       "      <td>Business Data Analyst</td>\n",
       "      <td>50000</td>\n",
       "      <td>EUR</td>\n",
       "      <td>50000.0</td>\n",
       "      <td>LU</td>\n",
       "      <td>100</td>\n",
       "      <td>LU</td>\n",
       "      <td>L</td>\n",
       "    </tr>\n",
       "    <tr>\n",
       "      <th>3726</th>\n",
       "      <td>2020</td>\n",
       "      <td>SE</td>\n",
       "      <td>FT</td>\n",
       "      <td>Principal Data Scientist</td>\n",
       "      <td>130000</td>\n",
       "      <td>EUR</td>\n",
       "      <td>130000.0</td>\n",
       "      <td>DE</td>\n",
       "      <td>100</td>\n",
       "      <td>DE</td>\n",
       "      <td>M</td>\n",
       "    </tr>\n",
       "    <tr>\n",
       "      <th>3734</th>\n",
       "      <td>2021</td>\n",
       "      <td>MI</td>\n",
       "      <td>FT</td>\n",
       "      <td>Lead Data Analyst</td>\n",
       "      <td>1450000</td>\n",
       "      <td>INR</td>\n",
       "      <td>1450000.0</td>\n",
       "      <td>IN</td>\n",
       "      <td>100</td>\n",
       "      <td>IN</td>\n",
       "      <td>L</td>\n",
       "    </tr>\n",
       "  </tbody>\n",
       "</table>\n",
       "<p>884 rows × 11 columns</p>\n",
       "</div>"
      ],
      "text/plain": [
       "      work_year experience_level employment_type  \\\n",
       "20         2023               MI              FT   \n",
       "26         2023               SE              FT   \n",
       "31         2023               SE              FT   \n",
       "32         2023               SE              FT   \n",
       "34         2023               SE              FT   \n",
       "...         ...              ...             ...   \n",
       "3722       2021               MI              FT   \n",
       "3723       2021               SE              FT   \n",
       "3724       2021               EN              FT   \n",
       "3726       2020               SE              FT   \n",
       "3734       2021               MI              FT   \n",
       "\n",
       "                           job_title   salary salary_currency  salary_in_usd  \\\n",
       "20                      Data Analyst   110000             USD       110000.0   \n",
       "26    Business Intelligence Engineer   156400             USD       156400.0   \n",
       "31                     Data Engineer   253200             USD       253200.0   \n",
       "32                     Data Engineer    90700             USD        90700.0   \n",
       "34          Computer Vision Engineer   184590             USD       184590.0   \n",
       "...                              ...      ...             ...            ...   \n",
       "3722                  Data Scientist   130000             USD       130000.0   \n",
       "3723        Computer Vision Engineer   102000             BRL       102000.0   \n",
       "3724           Business Data Analyst    50000             EUR        50000.0   \n",
       "3726        Principal Data Scientist   130000             EUR       130000.0   \n",
       "3734               Lead Data Analyst  1450000             INR      1450000.0   \n",
       "\n",
       "     employee_residence  remote_ratio company_location company_size  \n",
       "20                   US           100               US            M  \n",
       "26                   US             0               US            M  \n",
       "31                   US             0               US            M  \n",
       "32                   US             0               US            M  \n",
       "34                   US             0               US            M  \n",
       "...                 ...           ...              ...          ...  \n",
       "3722                 US            50               US            L  \n",
       "3723                 BR             0               BR            M  \n",
       "3724                 LU           100               LU            L  \n",
       "3726                 DE           100               DE            M  \n",
       "3734                 IN           100               IN            L  \n",
       "\n",
       "[884 rows x 11 columns]"
      ]
     },
     "execution_count": 4,
     "metadata": {},
     "output_type": "execute_result"
    }
   ],
   "source": [
    "# Ваш код:\n",
    "df_clean = df.copy()\n",
    "df_clean['salary_in_usd'] = df_clean['salary_in_usd'].fillna(df_clean['salary'])\n",
    "df_clean[df['salary_in_usd'].isna()]"
   ]
  },
  {
   "cell_type": "markdown",
   "id": "969e0d2c-ac1d-4ec9-93d7-28d34468d32c",
   "metadata": {},
   "source": [
    "Дополнительно: попробуйте свести данные в столбце `job_title` к 4 основным профессиям (Data Scientist, Data Analyst, Data Engineer, ML Engineer), где это возможно."
   ]
  },
  {
   "cell_type": "code",
   "execution_count": 9,
   "id": "7b5f4718-f5d3-4f98-b4fd-cb409d72df0a",
   "metadata": {},
   "outputs": [
    {
     "data": {
      "text/html": [
       "<div>\n",
       "<style scoped>\n",
       "    .dataframe tbody tr th:only-of-type {\n",
       "        vertical-align: middle;\n",
       "    }\n",
       "\n",
       "    .dataframe tbody tr th {\n",
       "        vertical-align: top;\n",
       "    }\n",
       "\n",
       "    .dataframe thead th {\n",
       "        text-align: right;\n",
       "    }\n",
       "</style>\n",
       "<table border=\"1\" class=\"dataframe\">\n",
       "  <thead>\n",
       "    <tr style=\"text-align: right;\">\n",
       "      <th></th>\n",
       "      <th>work_year</th>\n",
       "      <th>experience_level</th>\n",
       "      <th>employment_type</th>\n",
       "      <th>job_title</th>\n",
       "      <th>salary</th>\n",
       "      <th>salary_currency</th>\n",
       "      <th>salary_in_usd</th>\n",
       "      <th>employee_residence</th>\n",
       "      <th>remote_ratio</th>\n",
       "      <th>company_location</th>\n",
       "      <th>company_size</th>\n",
       "    </tr>\n",
       "  </thead>\n",
       "  <tbody>\n",
       "    <tr>\n",
       "      <th>11</th>\n",
       "      <td>2023</td>\n",
       "      <td>SE</td>\n",
       "      <td>FT</td>\n",
       "      <td>Data Analyst</td>\n",
       "      <td>130000</td>\n",
       "      <td>USD</td>\n",
       "      <td>130000.0</td>\n",
       "      <td>US</td>\n",
       "      <td>100</td>\n",
       "      <td>US</td>\n",
       "      <td>M</td>\n",
       "    </tr>\n",
       "    <tr>\n",
       "      <th>12</th>\n",
       "      <td>2023</td>\n",
       "      <td>SE</td>\n",
       "      <td>FT</td>\n",
       "      <td>Data Analyst</td>\n",
       "      <td>100000</td>\n",
       "      <td>USD</td>\n",
       "      <td>100000.0</td>\n",
       "      <td>US</td>\n",
       "      <td>100</td>\n",
       "      <td>US</td>\n",
       "      <td>M</td>\n",
       "    </tr>\n",
       "    <tr>\n",
       "      <th>19</th>\n",
       "      <td>2023</td>\n",
       "      <td>MI</td>\n",
       "      <td>FT</td>\n",
       "      <td>Data Analyst</td>\n",
       "      <td>150000</td>\n",
       "      <td>USD</td>\n",
       "      <td>150000.0</td>\n",
       "      <td>US</td>\n",
       "      <td>100</td>\n",
       "      <td>US</td>\n",
       "      <td>M</td>\n",
       "    </tr>\n",
       "    <tr>\n",
       "      <th>20</th>\n",
       "      <td>2023</td>\n",
       "      <td>MI</td>\n",
       "      <td>FT</td>\n",
       "      <td>Data Analyst</td>\n",
       "      <td>110000</td>\n",
       "      <td>USD</td>\n",
       "      <td>110000.0</td>\n",
       "      <td>US</td>\n",
       "      <td>100</td>\n",
       "      <td>US</td>\n",
       "      <td>M</td>\n",
       "    </tr>\n",
       "    <tr>\n",
       "      <th>27</th>\n",
       "      <td>2023</td>\n",
       "      <td>SE</td>\n",
       "      <td>FT</td>\n",
       "      <td>Machine Learning Engineer</td>\n",
       "      <td>200000</td>\n",
       "      <td>USD</td>\n",
       "      <td>200000.0</td>\n",
       "      <td>US</td>\n",
       "      <td>0</td>\n",
       "      <td>US</td>\n",
       "      <td>M</td>\n",
       "    </tr>\n",
       "    <tr>\n",
       "      <th>...</th>\n",
       "      <td>...</td>\n",
       "      <td>...</td>\n",
       "      <td>...</td>\n",
       "      <td>...</td>\n",
       "      <td>...</td>\n",
       "      <td>...</td>\n",
       "      <td>...</td>\n",
       "      <td>...</td>\n",
       "      <td>...</td>\n",
       "      <td>...</td>\n",
       "      <td>...</td>\n",
       "    </tr>\n",
       "    <tr>\n",
       "      <th>3737</th>\n",
       "      <td>2021</td>\n",
       "      <td>MI</td>\n",
       "      <td>FT</td>\n",
       "      <td>Data Analyst</td>\n",
       "      <td>62000</td>\n",
       "      <td>USD</td>\n",
       "      <td>62000.0</td>\n",
       "      <td>US</td>\n",
       "      <td>0</td>\n",
       "      <td>US</td>\n",
       "      <td>L</td>\n",
       "    </tr>\n",
       "    <tr>\n",
       "      <th>3739</th>\n",
       "      <td>2021</td>\n",
       "      <td>MI</td>\n",
       "      <td>FT</td>\n",
       "      <td>Data Engineer</td>\n",
       "      <td>38400</td>\n",
       "      <td>EUR</td>\n",
       "      <td>45391.0</td>\n",
       "      <td>NL</td>\n",
       "      <td>100</td>\n",
       "      <td>NL</td>\n",
       "      <td>L</td>\n",
       "    </tr>\n",
       "    <tr>\n",
       "      <th>3743</th>\n",
       "      <td>2020</td>\n",
       "      <td>MI</td>\n",
       "      <td>FT</td>\n",
       "      <td>Data Engineer</td>\n",
       "      <td>130800</td>\n",
       "      <td>USD</td>\n",
       "      <td>130800.0</td>\n",
       "      <td>ES</td>\n",
       "      <td>100</td>\n",
       "      <td>US</td>\n",
       "      <td>M</td>\n",
       "    </tr>\n",
       "    <tr>\n",
       "      <th>3744</th>\n",
       "      <td>2020</td>\n",
       "      <td>SE</td>\n",
       "      <td>FT</td>\n",
       "      <td>Machine Learning Engineer</td>\n",
       "      <td>40000</td>\n",
       "      <td>EUR</td>\n",
       "      <td>45618.0</td>\n",
       "      <td>HR</td>\n",
       "      <td>100</td>\n",
       "      <td>HR</td>\n",
       "      <td>S</td>\n",
       "    </tr>\n",
       "    <tr>\n",
       "      <th>3748</th>\n",
       "      <td>2021</td>\n",
       "      <td>MI</td>\n",
       "      <td>FT</td>\n",
       "      <td>Data Engineer</td>\n",
       "      <td>24000</td>\n",
       "      <td>EUR</td>\n",
       "      <td>28369.0</td>\n",
       "      <td>MT</td>\n",
       "      <td>50</td>\n",
       "      <td>MT</td>\n",
       "      <td>L</td>\n",
       "    </tr>\n",
       "  </tbody>\n",
       "</table>\n",
       "<p>1941 rows × 11 columns</p>\n",
       "</div>"
      ],
      "text/plain": [
       "      work_year experience_level employment_type                  job_title  \\\n",
       "11         2023               SE              FT               Data Analyst   \n",
       "12         2023               SE              FT               Data Analyst   \n",
       "19         2023               MI              FT               Data Analyst   \n",
       "20         2023               MI              FT               Data Analyst   \n",
       "27         2023               SE              FT  Machine Learning Engineer   \n",
       "...         ...              ...             ...                        ...   \n",
       "3737       2021               MI              FT               Data Analyst   \n",
       "3739       2021               MI              FT              Data Engineer   \n",
       "3743       2020               MI              FT              Data Engineer   \n",
       "3744       2020               SE              FT  Machine Learning Engineer   \n",
       "3748       2021               MI              FT              Data Engineer   \n",
       "\n",
       "      salary salary_currency  salary_in_usd employee_residence  remote_ratio  \\\n",
       "11    130000             USD       130000.0                 US           100   \n",
       "12    100000             USD       100000.0                 US           100   \n",
       "19    150000             USD       150000.0                 US           100   \n",
       "20    110000             USD       110000.0                 US           100   \n",
       "27    200000             USD       200000.0                 US             0   \n",
       "...      ...             ...            ...                ...           ...   \n",
       "3737   62000             USD        62000.0                 US             0   \n",
       "3739   38400             EUR        45391.0                 NL           100   \n",
       "3743  130800             USD       130800.0                 ES           100   \n",
       "3744   40000             EUR        45618.0                 HR           100   \n",
       "3748   24000             EUR        28369.0                 MT            50   \n",
       "\n",
       "     company_location company_size  \n",
       "11                 US            M  \n",
       "12                 US            M  \n",
       "19                 US            M  \n",
       "20                 US            M  \n",
       "27                 US            M  \n",
       "...               ...          ...  \n",
       "3737               US            L  \n",
       "3739               NL            L  \n",
       "3743               US            M  \n",
       "3744               HR            S  \n",
       "3748               MT            L  \n",
       "\n",
       "[1941 rows x 11 columns]"
      ]
     },
     "execution_count": 9,
     "metadata": {},
     "output_type": "execute_result"
    }
   ],
   "source": [
    "# Ваш код:\n",
    "options = ['Data Scientis', 'Data Analyst', 'Data Engineer', 'Machine Learning Engineer']     \n",
    "rslt_df = df_clean[df_clean['job_title'].isin(options)]     \n",
    "rslt_df"
   ]
  },
  {
   "cell_type": "markdown",
   "id": "c2013533-f2d1-41d3-acfd-fc7269f4fb5c",
   "metadata": {},
   "source": [
    "Сделайте выборку за 2023 год. Постройте по ней сводную таблицу, сгруппированную по профессии (`job_title`), со средней и медианной зарплатой в долларах. Не забывайте также указать количество. (Если у вас не получилось привести в порядок столбец `job_title`, выведите только 4 самых распространенных профессии.)"
   ]
  },
  {
   "cell_type": "code",
   "execution_count": 17,
   "id": "f3133ece-ed1c-4d3f-bebe-e91b4573ed1a",
   "metadata": {},
   "outputs": [
    {
     "ename": "AttributeError",
     "evalue": "'list' object has no attribute 'sort_values'",
     "output_type": "error",
     "traceback": [
      "\u001b[1;31m---------------------------------------------------------------------------\u001b[0m",
      "\u001b[1;31mAttributeError\u001b[0m                            Traceback (most recent call last)",
      "Cell \u001b[1;32mIn[17], line 3\u001b[0m\n\u001b[0;32m      1\u001b[0m \u001b[38;5;66;03m# Ваш код:\u001b[39;00m\n\u001b[0;32m      2\u001b[0m df_clean\u001b[38;5;241m.\u001b[39mquery(\u001b[38;5;124m'\u001b[39m\u001b[38;5;124mwork_year == 2023\u001b[39m\u001b[38;5;124m'\u001b[39m)\u001b[38;5;241m.\u001b[39mgroupby(\u001b[38;5;124m'\u001b[39m\u001b[38;5;124mjob_title\u001b[39m\u001b[38;5;124m'\u001b[39m)[\u001b[38;5;124m'\u001b[39m\u001b[38;5;124msalary_in_usd\u001b[39m\u001b[38;5;124m'\u001b[39m]\u001b[38;5;241m.\u001b[39magg([\u001b[38;5;124m'\u001b[39m\u001b[38;5;124mcount\u001b[39m\u001b[38;5;124m'\u001b[39m, \u001b[38;5;124m'\u001b[39m\u001b[38;5;124mmean\u001b[39m\u001b[38;5;124m'\u001b[39m, \u001b[38;5;124m'\u001b[39m\u001b[38;5;124mmedian\u001b[39m\u001b[38;5;124m'\u001b[39m]\n\u001b[1;32m----> 3\u001b[0m     \u001b[38;5;241m.\u001b[39msort_values(by\u001b[38;5;241m=\u001b[39m\u001b[38;5;124m'\u001b[39m\u001b[38;5;124mcount\u001b[39m\u001b[38;5;124m'\u001b[39m, ascending\u001b[38;5;241m=\u001b[39m\u001b[38;5;28;01mFalse\u001b[39;00m)\u001b[38;5;241m.\u001b[39mhead(\u001b[38;5;241m4\u001b[39m))\n",
      "\u001b[1;31mAttributeError\u001b[0m: 'list' object has no attribute 'sort_values'"
     ]
    }
   ],
   "source": [
    "# Ваш код:\n",
    "df_clean.query('work_year == 2023').groupby('job_title')['salary_in_usd'].agg(['count', 'mean', 'median']\n",
    "    .sort_values(by='count', ascending=False).head(4))"
   ]
  },
  {
   "cell_type": "markdown",
   "id": "baa395e7-a963-482d-9218-fe1a0518bcc9",
   "metadata": {},
   "source": [
    "Теперь давайте получше категоризируем зарплаты. Изучите самостоятельно документацию к функциям pandas [cut](https://pandas.pydata.org/pandas-docs/stable/reference/api/pandas.cut.html) и [qcut](https://pandas.pydata.org/pandas-docs/stable/reference/api/pandas.qcut.html). Используйте их, чтобы разбить зарплаты на три или больше категорий (например: `Low`, `Medium`, `High`) и запишите их в столбец `salary_range`."
   ]
  },
  {
   "cell_type": "markdown",
   "id": "4811add4-4ef3-4075-8ce7-f18319636011",
   "metadata": {},
   "source": [
    "Сделайте сводную таблицу по профессиям за 2023 год, где будут выведены:\n",
    "- число работников в профессии;\n",
    "- самая часто встречающаяся категория зарплаты.\n",
    "\n",
    "<details>\n",
    "<summary>Подсказка (нажмите, чтобы посмотреть):</summary>\n",
    "<code>lambda x : pd.Series.mode(x)</code>\n",
    "</details>"
   ]
  },
  {
   "cell_type": "code",
   "execution_count": null,
   "id": "d1d983de-3164-414e-8a4b-f8445f12a2c9",
   "metadata": {},
   "outputs": [],
   "source": [
    "# Ваш код:\n"
   ]
  },
  {
   "cell_type": "markdown",
   "id": "f711b85c-2f3e-43aa-bf7f-f6daeed757e2",
   "metadata": {},
   "source": [
    "Проверьте себя: совпадают ли категории с реальными цифрами?"
   ]
  }
 ],
 "metadata": {
  "kernelspec": {
   "display_name": "Python 3 (ipykernel)",
   "language": "python",
   "name": "python3"
  },
  "language_info": {
   "codemirror_mode": {
    "name": "ipython",
    "version": 3
   },
   "file_extension": ".py",
   "mimetype": "text/x-python",
   "name": "python",
   "nbconvert_exporter": "python",
   "pygments_lexer": "ipython3",
   "version": "3.11.3"
  },
  "widgets": {
   "application/vnd.jupyter.widget-state+json": {
    "state": {},
    "version_major": 2,
    "version_minor": 0
   }
  }
 },
 "nbformat": 4,
 "nbformat_minor": 5
}
