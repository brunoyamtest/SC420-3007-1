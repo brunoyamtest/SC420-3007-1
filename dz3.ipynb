{
 "cells": [
  {
   "cell_type": "code",
   "execution_count": 5,
   "id": "fe7ba762",
   "metadata": {},
   "outputs": [
    {
     "data": {
      "text/plain": [
       "array([-0.07086614, -1.60629921])"
      ]
     },
     "execution_count": 5,
     "metadata": {},
     "output_type": "execute_result"
    }
   ],
   "source": [
    "#Домашнее задание\n",
    "#Easy\n",
    "#Решите систему линейных уравнений: 3x - 2y = -6 5x + y = 3\n",
    "# Ваш код ниже:\n",
    "# 3x - 2y = 3\n",
    "#-6 5x + y = 3\n",
    "import numpy as np\n",
    "from scipy.linalg import inv, solve\n",
    "k = np.array([[3, -2],\n",
    "              [-65, 1]])\n",
    "y = np.array([3, 3])\n",
    "inv(k) @ y"
   ]
  },
  {
   "cell_type": "code",
   "execution_count": 4,
   "id": "00929c6e",
   "metadata": {},
   "outputs": [
    {
     "name": "stdout",
     "output_type": "stream",
     "text": [
      "Рамер= 2 (3, 4096)\n",
      "[[-5.94830548e-21 -5.84995448e-21 -5.42415169e-21 ... -6.06698987e-21\n",
      "  -5.96345722e-21 -5.75778438e-21]\n",
      " [ 9.75407048e-22  4.52586118e-22  4.58643893e-23 ... -1.09608208e-20\n",
      "  -1.09766636e-20 -1.10858129e-20]\n",
      " [-1.74871983e-21 -1.18286791e-21 -1.93223777e-21 ...  1.46502268e-21\n",
      "   2.18644864e-21  1.54085934e-21]]\n"
     ]
    },
    {
     "data": {
      "text/plain": [
       "array([[ 376.11615183,  369.89733831,  342.97348493, ...,  383.62066096,\n",
       "         377.07420842,  364.06934855],\n",
       "       [ -61.67577408,  -28.61738512,   -2.90004232, ...,  693.06153518,\n",
       "         694.06329137,  700.96488645],\n",
       "       [ 110.57296471,   74.7936914 ,  122.17695186, ...,  -92.63456538,\n",
       "        -138.25091028,  -97.42977868]])"
      ]
     },
     "execution_count": 4,
     "metadata": {},
     "output_type": "execute_result"
    }
   ],
   "source": [
    "#Normal / Hard\n",
    "#В репозитории лежит файл 00000e74ad.npy. Он описывает процесс слияния двух черных дыр,\n",
    "#зафиксированный с помощью лазерных интерферометров. Загрузите его в массив numpy. \n",
    "#У вас должен получиться массив 3 * 4096 (три разных устройства делали запись одного события 2048 раз в секунду в течение 2 секунд).\n",
    "\n",
    "#Отмасштабируйте сигнал (поделите все значения на максимальное по массиву).\n",
    "# Ваш код ниже:\n",
    "import numpy as np\n",
    "b = np.load('00000e74ad.npy')\n",
    "print('Рамер=',b.ndim,b.shape)\n",
    "print(b)\n",
    "c = b/b.mean()\n",
    "c"
   ]
  },
  {
   "cell_type": "code",
   "execution_count": null,
   "id": "58bc7afd",
   "metadata": {},
   "outputs": [],
   "source": []
  }
 ],
 "metadata": {
  "kernelspec": {
   "display_name": "Python 3 (ipykernel)",
   "language": "python",
   "name": "python3"
  },
  "language_info": {
   "codemirror_mode": {
    "name": "ipython",
    "version": 3
   },
   "file_extension": ".py",
   "mimetype": "text/x-python",
   "name": "python",
   "nbconvert_exporter": "python",
   "pygments_lexer": "ipython3",
   "version": "3.11.3"
  }
 },
 "nbformat": 4,
 "nbformat_minor": 5
}
