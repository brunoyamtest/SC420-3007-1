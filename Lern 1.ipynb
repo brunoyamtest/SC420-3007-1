{
 "cells": [
  {
   "cell_type": "code",
   "execution_count": 1,
   "id": "a7e3755a",
   "metadata": {},
   "outputs": [
    {
     "name": "stdout",
     "output_type": "stream",
     "text": [
      "Введи, сколько у тебя литров пива: 5\n"
     ]
    }
   ],
   "source": [
    "a = input('Введи, сколько у тебя литров пива: ')"
   ]
  },
  {
   "cell_type": "code",
   "execution_count": 2,
   "id": "1dd636e8",
   "metadata": {},
   "outputs": [
    {
     "name": "stdout",
     "output_type": "stream",
     "text": [
      "Сколько пива принес друг: 3\n"
     ]
    }
   ],
   "source": [
    "b = input('Сколько пива принес друг: ')\n"
   ]
  },
  {
   "cell_type": "code",
   "execution_count": 3,
   "id": "666d31b1",
   "metadata": {},
   "outputs": [],
   "source": [
    "c = int(a) + int(b)"
   ]
  },
  {
   "cell_type": "code",
   "execution_count": 4,
   "id": "b0ead278",
   "metadata": {},
   "outputs": [
    {
     "name": "stdout",
     "output_type": "stream",
     "text": [
      "На двоих у вас: 8 литров пива\n"
     ]
    }
   ],
   "source": [
    "print('На двоих у вас: ' + str(c) + ' литров пива')"
   ]
  },
  {
   "cell_type": "code",
   "execution_count": 5,
   "id": "a45a3bf8",
   "metadata": {},
   "outputs": [
    {
     "name": "stdout",
     "output_type": "stream",
     "text": [
      "Введи, сколько у тебя литров пива: 4\n",
      "Сколько пива принес друг: 6\n",
      "На двоих у вас: 10 литров пива\n"
     ]
    }
   ],
   "source": [
    "a = input('Введи, сколько у тебя литров пива: ')\n",
    "b = input('Сколько пива принес друг: ')\n",
    "c = int(a) + int(b)\n",
    "print('На двоих у вас: ' + str(c) + ' литров пива')"
   ]
  },
  {
   "cell_type": "code",
   "execution_count": 8,
   "id": "4cb887e4",
   "metadata": {},
   "outputs": [
    {
     "name": "stdout",
     "output_type": "stream",
     "text": [
      "Введите Yes, если пиво есть, и No, если пива нет: Y\n",
      "Ты сломаешь свой мозг\n"
     ]
    }
   ],
   "source": [
    "beer = input('Введите Yes, если пиво есть, и No, если пива нет: ')\n",
    "if beer.lower() == 'yes':\n",
    "    result = 'Ты взломаешь Пентагон'\n",
    "else:\n",
    "    result = 'Ты сломаешь свой мозг'\n",
    "print(result)"
   ]
  },
  {
   "cell_type": "code",
   "execution_count": null,
   "id": "2d99918c",
   "metadata": {},
   "outputs": [],
   "source": []
  },
  {
   "cell_type": "code",
   "execution_count": 9,
   "id": "2581c472",
   "metadata": {},
   "outputs": [
    {
     "name": "stdout",
     "output_type": "stream",
     "text": [
      "Введи, сколько тебе лет: 38\n",
      "Решил пересесть с ассемблера на Python?\n"
     ]
    }
   ],
   "source": [
    "v = int(input('Введи, сколько тебе лет: '))\n",
    "if v < 18:\n",
    "    print('Привет, юный хацкер')\n",
    "elif v < 30:\n",
    "    print('Превед, олдскул')\n",
    "elif v < 65:\n",
    "    print('Решил пересесть с ассемблера на Python?')\n",
    "elif v < 100:\n",
    "    print('На пенсии — самое время покодить')\n",
    "elif v < 100000:\n",
    "    print('Клан бессмертных приветствует тебя!')"
   ]
  },
  {
   "cell_type": "code",
   "execution_count": 10,
   "id": "087b13e6",
   "metadata": {},
   "outputs": [
    {
     "name": "stdout",
     "output_type": "stream",
     "text": [
      "Введи Yes, если пиво есть, и No, если пива нет: YES\n",
      "Пива нет!\n"
     ]
    }
   ],
   "source": [
    "beer = input('Введи Yes, если пиво есть, и No, если пива нет: ')\n",
    "if beer.lower() == 'yes':\n",
    "    print('Пива нет!')\n",
    "if not beer.lower() == 'yes':\n",
    "    print('Ура, пиво еще есть!')"
   ]
  },
  {
   "cell_type": "code",
   "execution_count": 12,
   "id": "9b3644a3",
   "metadata": {},
   "outputs": [
    {
     "name": "stdout",
     "output_type": "stream",
     "text": [
      "Введи, сколько у вас литров пива: 88\n",
      "Все нормально, можно начинать взлом\n"
     ]
    }
   ],
   "source": [
    "x = int(input('Введи, сколько у вас литров пива: '))\n",
    "if not (x < 5):\n",
    "    print('Все нормально, можно начинать взлом')\n",
    "else:\n",
    "    print('Пива недостаточно.')\n",
    "    "
   ]
  },
  {
   "cell_type": "code",
   "execution_count": 14,
   "id": "01cffa87",
   "metadata": {},
   "outputs": [
    {
     "name": "stdout",
     "output_type": "stream",
     "text": [
      "[5, 20, 30, 67, 90]\n"
     ]
    }
   ],
   "source": [
    "a = [67,5,90,20,30]\n",
    "a.sort()\n",
    "print(a)"
   ]
  },
  {
   "cell_type": "code",
   "execution_count": 15,
   "id": "d7e402ff",
   "metadata": {},
   "outputs": [
    {
     "name": "stdout",
     "output_type": "stream",
     "text": [
      "16\n",
      "51\n",
      "61\n",
      "98\n",
      "79\n"
     ]
    }
   ],
   "source": [
    "lst = [15,50,60,97,78]\n",
    "for x in lst:\n",
    "    x = x + 1\n",
    "    print(x)"
   ]
  },
  {
   "cell_type": "code",
   "execution_count": 16,
   "id": "5da4eb82",
   "metadata": {},
   "outputs": [
    {
     "name": "stdout",
     "output_type": "stream",
     "text": [
      "Я 1 кружка пива\n",
      "Я 2 кружка пива\n",
      "Я 3 кружка пива\n",
      "Я 4 кружка пива\n",
      "Я 5 кружка пива\n"
     ]
    }
   ],
   "source": [
    "num = 0\n",
    "for i in range(5):\n",
    "    num=num + 1\n",
    "    print('Я ' + str(num) + ' кружка пива')"
   ]
  },
  {
   "cell_type": "code",
   "execution_count": 23,
   "id": "fc1f5d6f",
   "metadata": {},
   "outputs": [
    {
     "name": "stdout",
     "output_type": "stream",
     "text": [
      "Был Ленин а после него- Сталин\n",
      "Был Сталин а после него- Хрущёв\n",
      "Был Хрущёв а после него- Брежнев\n",
      "Был Брежнев а после него- Горбачёв\n",
      "Был Горбачёв а после него- Ельцин\n",
      "Был Ельцин а после него- Путин\n",
      "Был Путин а после него- Медведев\n",
      "Был Медведев а после него- снова Путин\n"
     ]
    },
    {
     "ename": "IndexError",
     "evalue": "list index out of range",
     "output_type": "error",
     "traceback": [
      "\u001b[1;31m---------------------------------------------------------------------------\u001b[0m",
      "\u001b[1;31mIndexError\u001b[0m                                Traceback (most recent call last)",
      "Cell \u001b[1;32mIn[23], line 7\u001b[0m\n\u001b[0;32m      5\u001b[0m \u001b[38;5;28;01mfor\u001b[39;00m x \u001b[38;5;129;01min\u001b[39;00m mas:\n\u001b[0;32m      6\u001b[0m     y \u001b[38;5;241m=\u001b[39m y \u001b[38;5;241m+\u001b[39m \u001b[38;5;241m1\u001b[39m\n\u001b[1;32m----> 7\u001b[0m     \u001b[38;5;28mprint\u001b[39m(\u001b[38;5;124m'\u001b[39m\u001b[38;5;124mБыл \u001b[39m\u001b[38;5;124m'\u001b[39m \u001b[38;5;241m+\u001b[39m x \u001b[38;5;241m+\u001b[39m \u001b[38;5;124m'\u001b[39m\u001b[38;5;124m а после него- \u001b[39m\u001b[38;5;124m'\u001b[39m\u001b[38;5;241m+\u001b[39m \u001b[43mmas\u001b[49m\u001b[43m[\u001b[49m\u001b[43my\u001b[49m\u001b[43m]\u001b[49m )\n",
      "\u001b[1;31mIndexError\u001b[0m: list index out of range"
     ]
    }
   ],
   "source": [
    "mas = ['Ленин', 'Сталин', 'Хрущёв', 'Брежнев', 'Горбачёв', 'Ельцин', 'Путин', 'Медведев']\n",
    "# Ах да, Путин же потом вернулся. Нужно добавить его еще раз.\n",
    "mas.append('снова Путин')\n",
    "y = 0\n",
    "for x in mas:\n",
    "    y = y + 1\n",
    "    print('Был ' + x + ' а после него- '+ mas[y] )"
   ]
  },
  {
   "cell_type": "code",
   "execution_count": 20,
   "id": "455a547b",
   "metadata": {},
   "outputs": [
    {
     "name": "stdout",
     "output_type": "stream",
     "text": [
      "2\n",
      "4\n",
      "6\n",
      "8\n",
      "10\n",
      "12\n",
      "14\n",
      "16\n",
      "18\n",
      "20\n",
      "22\n",
      "24\n",
      "26\n",
      "28\n",
      "30\n",
      "32\n",
      "34\n",
      "36\n",
      "38\n",
      "40\n",
      "42\n",
      "44\n",
      "46\n",
      "48\n",
      "50\n",
      "52\n",
      "54\n",
      "56\n",
      "58\n",
      "60\n",
      "62\n",
      "64\n",
      "66\n",
      "68\n",
      "70\n",
      "72\n",
      "74\n",
      "76\n",
      "78\n",
      "80\n",
      "82\n",
      "84\n",
      "86\n",
      "88\n",
      "90\n",
      "92\n",
      "94\n",
      "96\n",
      "98\n",
      "100\n"
     ]
    }
   ],
   "source": [
    "a = 0\n",
    "while a < 100:\n",
    "    a = a + 1\n",
    "    if (a % 2) == 0:\n",
    "      print(a)"
   ]
  },
  {
   "cell_type": "code",
   "execution_count": 25,
   "id": "0008312f",
   "metadata": {},
   "outputs": [
    {
     "name": "stdout",
     "output_type": "stream",
     "text": [
      "Requirement already satisfied: pyperclip in f:\\datascience\\prgram files\\lib\\site-packages (1.8.2)Note: you may need to restart the kernel to use updated packages.\n",
      "\n"
     ]
    }
   ],
   "source": [
    "pip install pyperclip\n"
   ]
  },
  {
   "cell_type": "code",
   "execution_count": 42,
   "id": "84d68756",
   "metadata": {},
   "outputs": [
    {
     "name": "stdout",
     "output_type": "stream",
     "text": [
      "Введи число-0\n"
     ]
    },
    {
     "ename": "ZeroDivisionError",
     "evalue": "division by zero",
     "output_type": "error",
     "traceback": [
      "\u001b[1;31m---------------------------------------------------------------------------\u001b[0m",
      "\u001b[1;31mZeroDivisionError\u001b[0m                         Traceback (most recent call last)",
      "Cell \u001b[1;32mIn[42], line 2\u001b[0m\n\u001b[0;32m      1\u001b[0m x \u001b[38;5;241m=\u001b[39m \u001b[38;5;28minput\u001b[39m(\u001b[38;5;124m'\u001b[39m\u001b[38;5;124mВведи число-\u001b[39m\u001b[38;5;124m'\u001b[39m)\n\u001b[1;32m----> 2\u001b[0m y \u001b[38;5;241m=\u001b[39m \u001b[38;5;241;43m1\u001b[39;49m\u001b[38;5;241;43m/\u001b[39;49m\u001b[38;5;28;43mint\u001b[39;49m\u001b[43m(\u001b[49m\u001b[43mx\u001b[49m\u001b[43m)\u001b[49m\n\u001b[0;32m      4\u001b[0m \u001b[38;5;28mprint\u001b[39m(y)\n",
      "\u001b[1;31mZeroDivisionError\u001b[0m: division by zero"
     ]
    }
   ],
   "source": [
    "\n",
    "    x = input('Введи число-')\n",
    "    y = 1/int(x)\n",
    "    \n",
    "    print(y)"
   ]
  },
  {
   "cell_type": "code",
   "execution_count": 55,
   "id": "0f3e4e88",
   "metadata": {},
   "outputs": [],
   "source": [
    "def inv(x):\n",
    "    x = input('Введи число-')\n",
    "    y = 1/int(x)\n",
    "    return y\n",
    "    print(y)\n"
   ]
  },
  {
   "cell_type": "code",
   "execution_count": 51,
   "id": "c8249f9e",
   "metadata": {},
   "outputs": [
    {
     "ename": "IndentationError",
     "evalue": "unindent does not match any outer indentation level (<tokenize>, line 4)",
     "output_type": "error",
     "traceback": [
      "\u001b[1;36m  File \u001b[1;32m<tokenize>:4\u001b[1;36m\u001b[0m\n\u001b[1;33m    return a + b + c\u001b[0m\n\u001b[1;37m    ^\u001b[0m\n\u001b[1;31mIndentationError\u001b[0m\u001b[1;31m:\u001b[0m unindent does not match any outer indentation level\n"
     ]
    }
   ],
   "source": [
    "def func(a, b, c=2): # c - необязательный аргумент\n",
    "     a = input()\n",
    "        b = input()\n",
    "    return a + b + c\n"
   ]
  },
  {
   "cell_type": "code",
   "execution_count": 53,
   "id": "a5c7d39d",
   "metadata": {},
   "outputs": [],
   "source": [
    "def inv(x):\n",
    "    x = input('Введи число-')\n",
    "    y = 1/int(x)\n",
    "    return(y)"
   ]
  },
  {
   "cell_type": "code",
   "execution_count": 54,
   "id": "c5f61db3",
   "metadata": {},
   "outputs": [
    {
     "ename": "SyntaxError",
     "evalue": "invalid syntax (4152005568.py, line 1)",
     "output_type": "error",
     "traceback": [
      "\u001b[1;36m  Cell \u001b[1;32mIn[54], line 1\u001b[1;36m\u001b[0m\n\u001b[1;33m    help(def)\u001b[0m\n\u001b[1;37m         ^\u001b[0m\n\u001b[1;31mSyntaxError\u001b[0m\u001b[1;31m:\u001b[0m invalid syntax\n"
     ]
    }
   ],
   "source": [
    "help(def)"
   ]
  },
  {
   "cell_type": "code",
   "execution_count": 58,
   "id": "3eb022fd",
   "metadata": {},
   "outputs": [],
   "source": [
    "def inv(x):\n",
    "    x = input('Введи число-')\n",
    "    y = 1/int(x)\n",
    "    return y\n",
    "  "
   ]
  },
  {
   "cell_type": "code",
   "execution_count": 63,
   "id": "9bf5902c",
   "metadata": {},
   "outputs": [
    {
     "name": "stdout",
     "output_type": "stream",
     "text": [
      "Введи число-5\n"
     ]
    },
    {
     "data": {
      "text/plain": [
       "0.2"
      ]
     },
     "execution_count": 63,
     "metadata": {},
     "output_type": "execute_result"
    }
   ],
   "source": [
    "inv(x)\n",
    "\n"
   ]
  },
  {
   "cell_type": "code",
   "execution_count": 133,
   "id": "4b922cf1",
   "metadata": {},
   "outputs": [
    {
     "name": "stdout",
     "output_type": "stream",
     "text": [
      "5\n",
      "Введи число-1\n",
      "Введи число-2\n",
      "Введи число-3\n",
      "Введи число-4\n",
      "Введи число-5\n",
      "[1, 2, 3, 4, 5]\n",
      "3\n"
     ]
    }
   ],
   "source": [
    " # def median(n):\n",
    "n = int(input())    \n",
    "median = [int(input('Введи число-')) for i in range(n)]\n",
    "median.sort()\n",
    "print(median)\n",
    "a = len(median)\n",
    "if a % 2 == 0:\n",
    "        y = a / 2\n",
    "        x = (median(y) + median(y - 1) ) / 2\n",
    "        print(x)\n",
    "else:\n",
    "            y = round(a / 2)\n",
    "            print(median[y])\n",
    "    # return median(n)\n",
    "    \n",
    "    #"
   ]
  },
  {
   "cell_type": "code",
   "execution_count": 97,
   "id": "1e272dd0",
   "metadata": {},
   "outputs": [
    {
     "ename": "NameError",
     "evalue": "name 'n' is not defined",
     "output_type": "error",
     "traceback": [
      "\u001b[1;31m---------------------------------------------------------------------------\u001b[0m",
      "\u001b[1;31mNameError\u001b[0m                                 Traceback (most recent call last)",
      "Cell \u001b[1;32mIn[97], line 1\u001b[0m\n\u001b[1;32m----> 1\u001b[0m median(\u001b[43mn\u001b[49m)\n",
      "\u001b[1;31mNameError\u001b[0m: name 'n' is not defined"
     ]
    }
   ],
   "source": [
    "median(n)\n"
   ]
  },
  {
   "cell_type": "code",
   "execution_count": 142,
   "id": "37832319",
   "metadata": {},
   "outputs": [],
   "source": [
    "def median(n):\n",
    "    n = int(input())    \n",
    "    median = [int(input('Введи число-')) for i in range(n)]\n",
    "    median.sort()\n",
    "    print(median)\n",
    "    a = len(median)\n",
    "    if a % 2 == 0:\n",
    "        y = int(a / 2)\n",
    "        x = (median[y] + median[y - 1] ) / 2\n",
    "        print(x)\n",
    "    else:\n",
    "            y = round(a / 2)\n",
    "            print(median[y])\n",
    "            return median(n)"
   ]
  },
  {
   "cell_type": "code",
   "execution_count": 144,
   "id": "00f827e9",
   "metadata": {},
   "outputs": [
    {
     "name": "stdout",
     "output_type": "stream",
     "text": [
      "6\n",
      "Введи число-1\n",
      "Введи число-2\n",
      "Введи число-3\n",
      "Введи число-4\n",
      "Введи число-5\n",
      "Введи число-6\n",
      "[1, 2, 3, 4, 5, 6]\n",
      "3.5\n"
     ]
    }
   ],
   "source": [
    "median(n)\n"
   ]
  },
  {
   "cell_type": "code",
   "execution_count": null,
   "id": "76f0e24b",
   "metadata": {},
   "outputs": [],
   "source": []
  },
  {
   "cell_type": "code",
   "execution_count": null,
   "id": "3f18126c",
   "metadata": {},
   "outputs": [],
   "source": []
  },
  {
   "cell_type": "code",
   "execution_count": null,
   "id": "75dc0e29",
   "metadata": {},
   "outputs": [],
   "source": []
  }
 ],
 "metadata": {
  "kernelspec": {
   "display_name": "Python 3 (ipykernel)",
   "language": "python",
   "name": "python3"
  },
  "language_info": {
   "codemirror_mode": {
    "name": "ipython",
    "version": 3
   },
   "file_extension": ".py",
   "mimetype": "text/x-python",
   "name": "python",
   "nbconvert_exporter": "python",
   "pygments_lexer": "ipython3",
   "version": "3.11.3"
  }
 },
 "nbformat": 4,
 "nbformat_minor": 5
}
